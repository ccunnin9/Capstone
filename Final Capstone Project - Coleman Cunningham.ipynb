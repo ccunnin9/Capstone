{
 "cells": [
  {
   "cell_type": "code",
   "execution_count": null,
   "id": "ancient-vision",
   "metadata": {},
   "outputs": [],
   "source": [
    "import config"
   ]
  },
  {
   "cell_type": "code",
   "execution_count": null,
   "id": "abstract-motor",
   "metadata": {},
   "outputs": [],
   "source": [
    "#Import necessary libraries\n",
    "import ibm_db\n",
    "from ibm_db import connect\n",
    "import ibm_db_dbi\n",
    "import ibm_db_sa\n",
    "import sqlalchemy\n",
    "import requests\n",
    "import numpy as np\n",
    "import pandas as pd\n",
    "from pandas import DataFrame\n",
    "from pandas import json_normalize\n",
    "import shapely\n",
    "import fiona\n",
    "from shapely import geos\n",
    "import geopandas as gpd\n",
    "from geopandas import GeoDataFrame\n",
    "import matplotlib.pyplot as plt\n",
    "import descartes\n",
    "from descartes.patch import PolygonPatch\n",
    "import pathlib\n",
    "import pyproj\n",
    "import rtree\n",
    "import folium\n",
    "from folium import GeoJson\n",
    "from folium import LayerControl\n",
    "from shapely.geometry import Point\n",
    "from folium import plugins\n",
    "import json\n",
    "from branca.colormap import linear"
   ]
  },
  {
   "cell_type": "code",
   "execution_count": null,
   "id": "junior-adjustment",
   "metadata": {},
   "outputs": [],
   "source": [
    "import seaborn as sns\n",
    "from scipy import stats"
   ]
  },
  {
   "cell_type": "code",
   "execution_count": null,
   "id": "instrumental-reputation",
   "metadata": {},
   "outputs": [],
   "source": [
    "%run db2.ipynb"
   ]
  },
  {
   "cell_type": "code",
   "execution_count": null,
   "id": "funny-landscape",
   "metadata": {},
   "outputs": [],
   "source": [
    "dsn = (\n",
    "    \"DRIVER={0};\"\n",
    "    \"DATABASE={1};\"\n",
    "    \"HOSTNAME={2};\"\n",
    "    \"PORT={3};\"\n",
    "    \"PROTOCOL={4};\"\n",
    "    \"UID={5};\"\n",
    "    \"PWD={6};\").format(config.dsn_driver, config.dsn_database, \n",
    "                       config.dsn_hostname, config.dsn_port, \n",
    "                       config.dsn_protocol, config.dsn_uid, config.dsn_pwd)\n",
    "\n",
    "try:\n",
    "    conn = ibm_db.connect(dsn, \"\", \"\")\n",
    "    print (\"Connected to database\")\n",
    "\n",
    "except:\n",
    "    print (\"Unable to connect: \", ibm_db.conn_errormsg() )"
   ]
  },
  {
   "cell_type": "code",
   "execution_count": null,
   "id": "veterinary-folks",
   "metadata": {},
   "outputs": [],
   "source": [
    "%load_ext sql"
   ]
  },
  {
   "cell_type": "code",
   "execution_count": null,
   "id": "vertical-scheduling",
   "metadata": {},
   "outputs": [],
   "source": [
    "def connect_sql (dsn_uid, dsn_sql_pwd, dsn_hostname, dsn_port, dsn_database):\n",
    "    %sql ibm_db_sa://{dsn_uid}:{dsn_sql_pwd}{dsn_hostname}:{dsn_port}/{dsn_database}"
   ]
  },
  {
   "cell_type": "code",
   "execution_count": null,
   "id": "minimal-bernard",
   "metadata": {},
   "outputs": [],
   "source": [
    "connect_sql (dsn_uid=config.dsn_uid, \n",
    "             dsn_sql_pwd=config.dsn_sql_pwd, \n",
    "             dsn_hostname=config.dsn_hostname,\n",
    "             dsn_port=config.dsn_port,  \n",
    "             dsn_database=config.dsn_database)"
   ]
  },
  {
   "cell_type": "code",
   "execution_count": null,
   "id": "earlier-ecuador",
   "metadata": {},
   "outputs": [],
   "source": [
    "#Close connection\n",
    "#ibm_db.close(conn)\n",
    "#Uncomment the line above this and rerun the cell to close the connection"
   ]
  },
  {
   "cell_type": "markdown",
   "id": "variable-robin",
   "metadata": {},
   "source": [
    "---\n",
    "## Defining Functions to Use Throughout\n",
    "---"
   ]
  },
  {
   "cell_type": "code",
   "execution_count": null,
   "id": "vocational-doctor",
   "metadata": {},
   "outputs": [],
   "source": [
    "#Define Equation to get Population Density\n",
    "def popdens(x, y):\n",
    "    return (x / (y/1000000))"
   ]
  },
  {
   "cell_type": "code",
   "execution_count": null,
   "id": "attached-coffee",
   "metadata": {},
   "outputs": [],
   "source": [
    "#Define Equation to get Percentage of Race Population\n",
    "def raceperc(x,y):\n",
    "    return ((x / y)*100)"
   ]
  },
  {
   "cell_type": "code",
   "execution_count": null,
   "id": "metric-debate",
   "metadata": {},
   "outputs": [],
   "source": [
    "#Define Equation to get Percentage of Remaining Race Population\n",
    "def inverseraceperc(v,x,y,z):\n",
    "    return (100-(v+x+y+z))"
   ]
  },
  {
   "cell_type": "code",
   "execution_count": null,
   "id": "baking-fifteen",
   "metadata": {},
   "outputs": [],
   "source": [
    "#Define Equation to use Margins of Error\n",
    "def upperme (x,z): \n",
    "    return x+z\n",
    "def lowerme (x,z): \n",
    "    return x-z"
   ]
  },
  {
   "cell_type": "markdown",
   "id": "least-leader",
   "metadata": {},
   "source": [
    "---\n",
    "## Place Level: \n",
    "\n",
    "##### Importing and Cleaning Shapefile\n",
    "---"
   ]
  },
  {
   "cell_type": "code",
   "execution_count": null,
   "id": "planned-success",
   "metadata": {},
   "outputs": [],
   "source": [
    "#Import shape file of places\n",
    "place_shp_file = ('nhgis0008_shape/nhgis0008_shapefile_tl2019_us_place_2019/US_place_2019.shp')\n",
    "\n",
    "#Read in shape file to geopandas\n",
    "place = gpd.read_file(place_shp_file)"
   ]
  },
  {
   "cell_type": "code",
   "execution_count": null,
   "id": "confident-uzbekistan",
   "metadata": {},
   "outputs": [],
   "source": [
    "#Check Place Projection System\n",
    "place.crs"
   ]
  },
  {
   "cell_type": "code",
   "execution_count": null,
   "id": "operational-siemens",
   "metadata": {},
   "outputs": [],
   "source": [
    "#Take an Overarching Look at Place df \n",
    "place.info()"
   ]
  },
  {
   "cell_type": "code",
   "execution_count": null,
   "id": "appointed-manufacturer",
   "metadata": {},
   "outputs": [],
   "source": [
    "#Drop Columns that are deemed irrelevant \n",
    "place=place.drop(columns=['PLACEFP', 'PLACENS', 'GEOID', 'NAMELSAD', 'LSAD', \n",
    "                          'CLASSFP', 'PCICBSA', 'PCINECTA', 'MTFCC', 'FUNCSTAT'])"
   ]
  },
  {
   "cell_type": "code",
   "execution_count": null,
   "id": "chinese-anderson",
   "metadata": {},
   "outputs": [],
   "source": [
    "#Rename Columns to be More Descriptive \n",
    "place.rename(columns = {'STATEFP':'State FIPS Code', \n",
    "                         'NAME':'Place Name', \n",
    "                         'ALAND':'Land Area', \n",
    "                         'AWATER':'Water Area', \n",
    "                         'INTPTLAT':'Place Center Lat', \n",
    "                         'INTPTLON':'Place Center Long', \n",
    "                         'Shape_Leng':'Place Perimeter', \n",
    "                         'Shape_Area':'Place Area'}, inplace = True) "
   ]
  },
  {
   "cell_type": "code",
   "execution_count": null,
   "id": "hearing-baseline",
   "metadata": {},
   "outputs": [],
   "source": [
    "#Take another Overarching Look at Place df \n",
    "place.info()"
   ]
  },
  {
   "cell_type": "markdown",
   "id": "posted-crisis",
   "metadata": {},
   "source": [
    "---\n",
    "## Place Level: \n",
    "\n",
    "##### Importing Data with SQL and Cleaning\n",
    "---"
   ]
  },
  {
   "cell_type": "code",
   "execution_count": null,
   "id": "another-connection",
   "metadata": {},
   "outputs": [],
   "source": [
    "#Import Place Data from DB2 Using SQL Magic\n",
    "PLACE_DATA = %sql select * from PLACE1 where STATE LIKE 'Texas%'; "
   ]
  },
  {
   "cell_type": "code",
   "execution_count": null,
   "id": "plastic-energy",
   "metadata": {
    "scrolled": true
   },
   "outputs": [],
   "source": [
    "#Create DataFrame for Imported data\n",
    "place_df = PLACE_DATA.DataFrame()\n",
    "place_df.head()"
   ]
  },
  {
   "cell_type": "code",
   "execution_count": null,
   "id": "democratic-camping",
   "metadata": {
    "scrolled": true
   },
   "outputs": [],
   "source": [
    "#Take an Overarching Look at place_df\n",
    "place_df.info()"
   ]
  },
  {
   "cell_type": "code",
   "execution_count": null,
   "id": "bibliographic-scale",
   "metadata": {},
   "outputs": [],
   "source": [
    "#Rename Columns\n",
    "place_df.rename({'gisjoin': 'GISJOIN',\n",
    "                 'statea': 'State FIPS Code',\n",
    "                 'countya': 'County FIPS Code',\n",
    "                 'tracta': 'Tract FIPS Code',\n",
    "                 'name_e': 'Place Area Name',\n",
    "                 'alube001': 'Total Place Pop',\n",
    "                 'alt1e001': 'Total Place Median Age',\n",
    "                 'alt1e002': 'Place Median Age M',\n",
    "                 'alt1e003': 'Place Median Age F',\n",
    "                 'aluce002': 'Place Pop White',\n",
    "                 'aluce003': 'Place Pop Black or African American',\n",
    "                 'aluce004': 'Place Pop American Indian and Alaska Native',\n",
    "                 'aluce005': 'Place Pop Asian',\n",
    "                 'alx5e001': 'Place Per Capita Income - 12 Months',\n",
    "                 'alubm001': 'Total Place Pop ME',\n",
    "                 'alt1m001': 'Total Place Median Age ME',\n",
    "                 'alt1m002': 'Place Median Age ME M',\n",
    "                 'alt1m003': 'Place Median Age ME F',\n",
    "                 'alucm002': 'Place Pop ME White',\n",
    "                 'alucm003': 'Place Pop ME Black or African American',\n",
    "                 'alucm004': 'Place Pop ME American Indian and Alaska Native',\n",
    "                 'alucm005': 'Place Pop ME Asian',\n",
    "                 'alx5m001': 'Place Per Capita Income ME - 12 Months'}, axis = \"columns\", inplace = True) "
   ]
  },
  {
   "cell_type": "code",
   "execution_count": null,
   "id": "placed-birmingham",
   "metadata": {},
   "outputs": [],
   "source": [
    "#Trim to Columns of Interest\n",
    "place_df=place_df[['GISJOIN','State FIPS Code', 'Place Area Name', \n",
    "                      'Total Place Pop', 'Total Place Median Age', 'Place Median Age M', 'Place Median Age F',\n",
    "                      'Place Pop White', 'Place Pop Black or African American', \n",
    "                      'Place Pop American Indian and Alaska Native', 'Place Pop Asian', \n",
    "                      'Place Per Capita Income - 12 Months', 'Total Place Pop ME', \n",
    "                      'Total Place Median Age ME', 'Place Median Age ME M', 'Place Median Age ME F',\n",
    "                      'Place Pop ME White', 'Place Pop ME Black or African American', \n",
    "                      'Place Pop ME American Indian and Alaska Native', 'Place Pop ME Asian', \n",
    "                      'Place Per Capita Income ME - 12 Months']]"
   ]
  },
  {
   "cell_type": "code",
   "execution_count": null,
   "id": "strategic-airfare",
   "metadata": {},
   "outputs": [],
   "source": [
    "#Convert Age columns to Floats\n",
    "place_df['Total Place Median Age']=pd.to_numeric(place_df['Total Place Median Age'],errors='coerce',downcast='float')\n",
    "place_df['Place Median Age M']=pd.to_numeric(place_df['Place Median Age M'],errors='coerce',downcast='float')\n",
    "place_df['Place Median Age F']=pd.to_numeric(place_df['Place Median Age F'],errors='coerce',downcast='float')\n",
    "place_df['Total Place Median Age ME']=pd.to_numeric(place_df['Total Place Median Age ME'],errors='coerce',downcast='float')\n",
    "place_df['Place Median Age ME M']=pd.to_numeric(place_df['Place Median Age ME M'],errors='coerce',downcast='float')\n",
    "place_df['Place Median Age ME F']=pd.to_numeric(place_df['Place Median Age ME F'],errors='coerce',downcast='float')"
   ]
  },
  {
   "cell_type": "code",
   "execution_count": null,
   "id": "dramatic-fight",
   "metadata": {
    "scrolled": true
   },
   "outputs": [],
   "source": [
    "#Final Overarching Look\n",
    "place_df.info()"
   ]
  },
  {
   "cell_type": "markdown",
   "id": "endless-pipeline",
   "metadata": {},
   "source": [
    "---\n",
    "## Place Level: \n",
    "\n",
    "##### Merging Data with GIS & Adding in Columns Using Functions\n",
    "---"
   ]
  },
  {
   "cell_type": "code",
   "execution_count": null,
   "id": "furnished-medline",
   "metadata": {
    "scrolled": true
   },
   "outputs": [],
   "source": [
    "#Merge Data with GIS Data\n",
    "place_merge = place.merge(place_df, on='GISJOIN')\n",
    "place_merge"
   ]
  },
  {
   "cell_type": "code",
   "execution_count": null,
   "id": "imported-apollo",
   "metadata": {
    "scrolled": true
   },
   "outputs": [],
   "source": [
    "#Create Column for Population Density\n",
    "place_merge[\"Pop Density per sq km\"] = popdens(place_merge[\"Total Place Pop\"], place_merge[\"Land Area\"])\n",
    "place_merge.head()"
   ]
  },
  {
   "cell_type": "code",
   "execution_count": null,
   "id": "special-wright",
   "metadata": {},
   "outputs": [],
   "source": [
    "#Create Columns for Percentage Breakdown of Race\n",
    "\n",
    "place_merge[\"Place Percentage White\"] = raceperc(place_merge[\"Place Pop White\"], \n",
    "                                           place_merge[\"Total Place Pop\"])\n",
    "\n",
    "place_merge[\"Place Percentage Black or African American\"] = raceperc(place_merge[\"Place Pop Black or African American\"], \n",
    "                                                               place_merge[\"Total Place Pop\"])\n",
    "\n",
    "place_merge[\"Place Percentage American Indian and Alaskan Native\"] = raceperc(place_merge[\"Place Pop American Indian and Alaska Native\"], \n",
    "                                                                        place_merge[\"Total Place Pop\"])\n",
    "\n",
    "place_merge[\"Place Percentage Asian\"] = raceperc(place_merge[\"Place Pop Asian\"], \n",
    "                                           place_merge[\"Total Place Pop\"])\n",
    "\n",
    "place_merge[\"Place Percentage Other Race\"] = inverseraceperc(place_merge[\"Place Percentage White\"], \n",
    "                                                       place_merge[\"Place Percentage Black or African American\"], \n",
    "                                                       place_merge[\"Place Percentage American Indian and Alaskan Native\"],\n",
    "                                                       place_merge[\"Place Percentage Asian\"])"
   ]
  },
  {
   "cell_type": "code",
   "execution_count": null,
   "id": "incorporate-response",
   "metadata": {},
   "outputs": [],
   "source": [
    "#Create Income String Columns for tooltips to display in Folium\n",
    "\n",
    "#Cast numeric Income value as String\n",
    "place_merge[\"Place Income String\"] = place_merge['Place Per Capita Income - 12 Months'].astype(str)\n",
    "\n",
    "#Find upper bound of Margin of Error and cast that to String\n",
    "place_merge[\"Place Income ME Upper\"] = upperme(place_merge[\"Place Per Capita Income - 12 Months\"],\n",
    "                                           place_merge[\"Place Per Capita Income ME - 12 Months\"])\n",
    "place_merge[\"Place Income ME Upper String\"] = place_merge['Place Income ME Upper'].astype(str)\n",
    "\n",
    "#Find lower bound of Margin of Error and cast that to String\n",
    "place_merge[\"Place Income ME Lower\"] = lowerme(place_merge[\"Place Per Capita Income - 12 Months\"],\n",
    "                                           place_merge[\"Place Per Capita Income ME - 12 Months\"])\n",
    "place_merge[\"Place Income ME Lower String\"] = place_merge['Place Income ME Lower'].astype(str)\n",
    "\n",
    "#Fill sentence set to display with Income, Income Margin of Error Range\n",
    "place_merge[\"Place_Map_Income_Label\"] = 'Place Income Estimate: $' + place_merge[\"Place Income String\"] + ' (The US Census Bureau is 90% confident that the true per Capita Income in 2019 was between $' + place_merge[\"Place Income ME Lower String\"] + ' and $' + place_merge[\"Place Income ME Upper String\"] + ')'"
   ]
  },
  {
   "cell_type": "code",
   "execution_count": null,
   "id": "special-supply",
   "metadata": {},
   "outputs": [],
   "source": [
    "#Create Pop Density String Columns for tooltips to display in Folium\n",
    "\n",
    "#Cast numeric Income value as String\n",
    "place_merge[\"Place Pop Density String\"] = place_merge['Pop Density per sq km'].astype(str)\n",
    "\n",
    "#Fill sentence set to display with Pop Density\n",
    "place_merge[\"Place_Map_Pop_Density_Label\"] = 'Place Population Density: ' + place_merge[\"Place Pop Density String\"] + ' per sq km'"
   ]
  },
  {
   "cell_type": "code",
   "execution_count": null,
   "id": "preceding-trail",
   "metadata": {},
   "outputs": [],
   "source": [
    "#Convert to 4326 Projection, will merge with city specific shapefiles later, and want projection system to match\n",
    "place_merge_4326 = place_merge.to_crs(epsg='4326')"
   ]
  },
  {
   "cell_type": "markdown",
   "id": "changed-thursday",
   "metadata": {},
   "source": [
    "---\n",
    "## Place Level: \n",
    "\n",
    "##### *Filtering to Houston*\n",
    "---"
   ]
  },
  {
   "cell_type": "code",
   "execution_count": null,
   "id": "effective-drama",
   "metadata": {
    "scrolled": true
   },
   "outputs": [],
   "source": [
    "#Filter to Houston, TX values only\n",
    "houston_place = place.loc[place['Place Name'] == 'Houston']\n",
    "houston_place\n",
    "houston_place = houston_place.loc[houston_place['State FIPS Code'] == '48']\n",
    "houston_place"
   ]
  },
  {
   "cell_type": "code",
   "execution_count": null,
   "id": "impossible-antibody",
   "metadata": {},
   "outputs": [],
   "source": [
    "#Convert to 4326 Projection for merge\n",
    "houston_place_4326 = houston_place.to_crs(epsg='4326')"
   ]
  },
  {
   "cell_type": "code",
   "execution_count": null,
   "id": "precise-requirement",
   "metadata": {},
   "outputs": [],
   "source": [
    "#Merge shapes using inner & within methods\n",
    "#Inner uses intersection of keys from both dfs, but retains only the left geometry \n",
    "#Within returns values that only intersect with the interior of the larger geometry \n",
    "houston_join_place_4326 = gpd.sjoin(place_merge_4326,houston_place_4326,how='inner',op='within')"
   ]
  },
  {
   "cell_type": "code",
   "execution_count": null,
   "id": "following-allocation",
   "metadata": {},
   "outputs": [],
   "source": [
    "#Check for Nan/Null values\n",
    "sum(houston_join_place_4326.isnull().any())"
   ]
  },
  {
   "cell_type": "code",
   "execution_count": null,
   "id": "coral-inspector",
   "metadata": {},
   "outputs": [],
   "source": [
    "#Print Nan/Null columns\n",
    "nan_cols_place = [i for i in houston_join_place_4326.columns if houston_join_place_4326[i].isnull().any()]\n",
    "print(nan_cols_place)"
   ]
  },
  {
   "cell_type": "code",
   "execution_count": null,
   "id": "infectious-pixel",
   "metadata": {},
   "outputs": [],
   "source": [
    "#Print percentage of column that is Nan/Null values\n",
    "houston_join_place_4326[houston_join_place_4326.columns[houston_join_place_4326.isnull().any()]].isnull().sum() * 100 / houston_join_place_4326.shape[0]"
   ]
  },
  {
   "cell_type": "code",
   "execution_count": null,
   "id": "voluntary-batch",
   "metadata": {},
   "outputs": [],
   "source": [
    "#Drop Nan/Null Values\n",
    "#houston_join_place_4326=houston_join_place_4326.dropna()"
   ]
  },
  {
   "cell_type": "code",
   "execution_count": null,
   "id": "virtual-belly",
   "metadata": {},
   "outputs": [],
   "source": []
  },
  {
   "cell_type": "code",
   "execution_count": null,
   "id": "individual-nurse",
   "metadata": {
    "scrolled": true
   },
   "outputs": [],
   "source": [
    "#Save File as GeoJSON\n",
    "houston_join_place_4326.to_file(\"houston_join_place_4326_gjson.geojson\", driver='GeoJSON')"
   ]
  },
  {
   "cell_type": "code",
   "execution_count": null,
   "id": "uniform-police",
   "metadata": {},
   "outputs": [],
   "source": [
    "#Create Function to Read GeoJSON Back in\n",
    "houston_join_place_4326_gjson = gpd.read_file(\"houston_join_place_4326_gjson.geojson\", driver='GeoJSON')"
   ]
  },
  {
   "cell_type": "markdown",
   "id": "arbitrary-feelings",
   "metadata": {},
   "source": [
    "---\n",
    "## Place Level: \n",
    "\n",
    "##### *Filtering to Dallas*\n",
    "---"
   ]
  },
  {
   "cell_type": "code",
   "execution_count": null,
   "id": "binding-twenty",
   "metadata": {},
   "outputs": [],
   "source": [
    "#Filter to Dallas, TX values only\n",
    "dallas_place = place.loc[place['Place Name'] == 'Dallas']\n",
    "dallas_place\n",
    "dallas_place = dallas_place.loc[dallas_place['State FIPS Code'] == '48']\n",
    "dallas_place"
   ]
  },
  {
   "cell_type": "code",
   "execution_count": null,
   "id": "filled-mystery",
   "metadata": {},
   "outputs": [],
   "source": [
    "#Convert to 4326 Projection for merge\n",
    "dallas_place_4326 = dallas_place.to_crs(epsg='4326')"
   ]
  },
  {
   "cell_type": "code",
   "execution_count": null,
   "id": "engaging-hormone",
   "metadata": {},
   "outputs": [],
   "source": [
    "#Merge shapes using inner & within methods\n",
    "#Inner uses intersection of keys from both dfs, but retains only the left geometry \n",
    "#Within returns values that only intersect with the interior of the larger geometry \n",
    "dallas_join_place_4326 = gpd.sjoin(place_merge_4326,dallas_place_4326,how='inner',op='within')"
   ]
  },
  {
   "cell_type": "code",
   "execution_count": null,
   "id": "turkish-citizen",
   "metadata": {},
   "outputs": [],
   "source": [
    "#Check for Nan/Null values\n",
    "sum(dallas_join_place_4326.isnull().any())"
   ]
  },
  {
   "cell_type": "code",
   "execution_count": null,
   "id": "timely-asset",
   "metadata": {},
   "outputs": [],
   "source": [
    "#Print Nan/Null columns\n",
    "nan_cols_place = [i for i in dallas_join_place_4326.columns if dallas_join_place_4326[i].isnull().any()]\n",
    "print(nan_cols_place)"
   ]
  },
  {
   "cell_type": "code",
   "execution_count": null,
   "id": "comic-preserve",
   "metadata": {},
   "outputs": [],
   "source": [
    "#Print percentage of column that is Nan/Null values\n",
    "dallas_join_place_4326[dallas_join_place_4326.columns[dallas_join_place_4326.isnull().any()]].isnull().sum() * 100 / dallas_join_place_4326.shape[0]"
   ]
  },
  {
   "cell_type": "code",
   "execution_count": null,
   "id": "christian-salad",
   "metadata": {},
   "outputs": [],
   "source": [
    "#Drop Nan/Null Values\n",
    "#dallas_join_place_4326=dallas_join_place_4326.dropna()"
   ]
  },
  {
   "cell_type": "code",
   "execution_count": null,
   "id": "beautiful-polyester",
   "metadata": {},
   "outputs": [],
   "source": [
    "#Save File as GeoJSON\n",
    "dallas_join_place_4326.to_file(\"dallas_join_place_4326_gjson.geojson\", driver='GeoJSON')"
   ]
  },
  {
   "cell_type": "code",
   "execution_count": null,
   "id": "practical-sarah",
   "metadata": {},
   "outputs": [],
   "source": [
    "#Create Function to Read GeoJSON Back in\n",
    "dallas_join_place_4326_gjson = gpd.read_file(\"dallas_join_place_4326_gjson.geojson\", driver='GeoJSON')"
   ]
  },
  {
   "cell_type": "markdown",
   "id": "owned-courtesy",
   "metadata": {},
   "source": [
    " "
   ]
  },
  {
   "cell_type": "markdown",
   "id": "medium-toner",
   "metadata": {},
   "source": [
    "---\n",
    "## County Level: \n",
    "\n",
    "##### Importing and Cleaning Shapefile\n",
    "---"
   ]
  },
  {
   "cell_type": "code",
   "execution_count": null,
   "id": "liquid-education",
   "metadata": {},
   "outputs": [],
   "source": [
    "#Import shape file of countys\n",
    "county_shp_file = ('nhgis0008_shape/nhgis0008_shapefile_tl2019_us_county_2019/US_county_2019.shp')\n",
    "\n",
    "#Read in shape file to geopandas\n",
    "county = gpd.read_file(county_shp_file)"
   ]
  },
  {
   "cell_type": "code",
   "execution_count": null,
   "id": "stock-heavy",
   "metadata": {},
   "outputs": [],
   "source": [
    "#Check County Projection System\n",
    "county.crs"
   ]
  },
  {
   "cell_type": "code",
   "execution_count": null,
   "id": "defined-mining",
   "metadata": {},
   "outputs": [],
   "source": [
    "#Take an Overarching Look at County df \n",
    "county.info()"
   ]
  },
  {
   "cell_type": "code",
   "execution_count": null,
   "id": "hispanic-mexican",
   "metadata": {},
   "outputs": [],
   "source": [
    "#Drop Columns that are deemed irrelevant \n",
    "county=county.drop(columns=['STATEFP', 'COUNTYNS', 'GEOID', 'NAME', 'NAMELSAD', 'LSAD', \n",
    "                            'CLASSFP', 'MTFCC', 'CSAFP', 'CBSAFP', 'METDIVFP', 'FUNCSTAT'])"
   ]
  },
  {
   "cell_type": "code",
   "execution_count": null,
   "id": "retired-headset",
   "metadata": {},
   "outputs": [],
   "source": [
    "#Rename Columns to be More Descriptive \n",
    "county.rename(columns = {'COUNTYFP':'County FIPS Code', \n",
    "                        'ALAND':'Land Area', \n",
    "                        'AWATER':'Water Area', \n",
    "                        'INTPTLAT':'County Center Lat', \n",
    "                        'INTPTLON':'County Center Long', \n",
    "                        'Shape_Leng':'County Perimeter', \n",
    "                        'Shape_Area': 'County Area'}, inplace = True) "
   ]
  },
  {
   "cell_type": "code",
   "execution_count": null,
   "id": "annual-nowhere",
   "metadata": {},
   "outputs": [],
   "source": [
    "#Take another Overarching Look at County df \n",
    "county.info()"
   ]
  },
  {
   "cell_type": "markdown",
   "id": "clinical-parent",
   "metadata": {},
   "source": [
    "---\n",
    "## County Level: \n",
    "\n",
    "##### Importing Data with SQL and Cleaning\n",
    "---"
   ]
  },
  {
   "cell_type": "code",
   "execution_count": null,
   "id": "surprised-clearing",
   "metadata": {},
   "outputs": [],
   "source": [
    "#Import County Data from DB2 Using SQL Magic\n",
    "COUNTY_DATA = %sql select * from COUNTY1 where STATE LIKE 'Texas%'; "
   ]
  },
  {
   "cell_type": "code",
   "execution_count": null,
   "id": "upper-payday",
   "metadata": {},
   "outputs": [],
   "source": [
    "#Create DataFrame for Imported data\n",
    "county_df = COUNTY_DATA.DataFrame()\n",
    "county_df.head()"
   ]
  },
  {
   "cell_type": "code",
   "execution_count": null,
   "id": "statutory-lover",
   "metadata": {},
   "outputs": [],
   "source": [
    "#Take an Overarching Look at county_df\n",
    "county_df.info()"
   ]
  },
  {
   "cell_type": "code",
   "execution_count": null,
   "id": "sexual-warrant",
   "metadata": {},
   "outputs": [],
   "source": [
    "#Rename Columns\n",
    "county_df.rename({'gisjoin': 'GISJOIN',\n",
    "                 'statea': 'State FIPS Code',\n",
    "                 'county': 'County Name',\n",
    "                 'countya': 'County FIPS Code',\n",
    "                 'tracta': 'Tract FIPS Code',\n",
    "                 'name_e': 'County Area Name',\n",
    "                 'alube001': 'Total County Pop',\n",
    "                 'alt1e001': 'Total County Median Age',\n",
    "                 'alt1e002': 'County Median Age M',\n",
    "                 'alt1e003': 'County Median Age F',\n",
    "                 'aluce002': 'County Pop White',\n",
    "                 'aluce003': 'County Pop Black or African American',\n",
    "                 'aluce004': 'County Pop American Indian and Alaska Native',\n",
    "                 'aluce005': 'County Pop Asian',\n",
    "                 'alx5e001': 'County Per Capita Income - 12 Months',\n",
    "                 'alubm001': 'Total County Pop ME',\n",
    "                 'alt1m001': 'Total County Median Age ME',\n",
    "                 'alt1m002': 'County Median Age ME M',\n",
    "                 'alt1m003': 'County Median Age ME F',\n",
    "                 'alucm002': 'County Pop ME White',\n",
    "                 'alucm003': 'County Pop ME Black or African American',\n",
    "                 'alucm004': 'County Pop ME American Indian and Alaska Native',\n",
    "                 'alucm005': 'County Pop ME Asian',\n",
    "                 'alx5m001': 'County Per Capita Income ME - 12 Months'}, axis = \"columns\", inplace = True) "
   ]
  },
  {
   "cell_type": "code",
   "execution_count": null,
   "id": "featured-syndication",
   "metadata": {},
   "outputs": [],
   "source": [
    "#Trim to Columns of Interest\n",
    "county_df=county_df[['GISJOIN', 'State FIPS Code', 'County Name', 'County FIPS Code', 'County Area Name', \n",
    "                      'Total County Pop', 'Total County Median Age', 'County Median Age M', 'County Median Age F',\n",
    "                      'County Pop White', 'County Pop Black or African American', \n",
    "                      'County Pop American Indian and Alaska Native', 'County Pop Asian', \n",
    "                      'County Per Capita Income - 12 Months', 'Total County Pop ME', \n",
    "                      'Total County Median Age ME', 'County Median Age ME M', 'County Median Age ME F',\n",
    "                      'County Pop ME White', 'County Pop ME Black or African American', \n",
    "                      'County Pop ME American Indian and Alaska Native', 'County Pop ME Asian', \n",
    "                      'County Per Capita Income ME - 12 Months']]"
   ]
  },
  {
   "cell_type": "code",
   "execution_count": null,
   "id": "spatial-grace",
   "metadata": {},
   "outputs": [],
   "source": [
    "#Convert Age columns to Floats\n",
    "county_df['Total County Median Age']=pd.to_numeric(county_df['Total County Median Age'],errors='coerce',downcast='float')\n",
    "county_df['County Median Age M']=pd.to_numeric(county_df['County Median Age M'],errors='coerce',downcast='float')\n",
    "county_df['County Median Age F']=pd.to_numeric(county_df['County Median Age F'],errors='coerce',downcast='float')\n",
    "county_df['Total County Median Age ME']=pd.to_numeric(county_df['Total County Median Age ME'],errors='coerce',downcast='float')\n",
    "county_df['County Median Age ME M']=pd.to_numeric(county_df['County Median Age ME M'],errors='coerce',downcast='float')\n",
    "county_df['County Median Age ME F']=pd.to_numeric(county_df['County Median Age ME F'],errors='coerce',downcast='float')"
   ]
  },
  {
   "cell_type": "code",
   "execution_count": null,
   "id": "precious-hollywood",
   "metadata": {},
   "outputs": [],
   "source": [
    "#Final Overarching Look\n",
    "county_df.info()"
   ]
  },
  {
   "cell_type": "markdown",
   "id": "infectious-antique",
   "metadata": {},
   "source": [
    "---\n",
    "## County Level: \n",
    "\n",
    "##### Merging Data with GIS & Adding in Columns Using Functions\n",
    "---"
   ]
  },
  {
   "cell_type": "code",
   "execution_count": null,
   "id": "superior-melissa",
   "metadata": {},
   "outputs": [],
   "source": [
    "#Merge Data with GIS Data\n",
    "county_merge = county.merge(county_df, on='GISJOIN')\n",
    "county_merge"
   ]
  },
  {
   "cell_type": "code",
   "execution_count": null,
   "id": "hindu-champion",
   "metadata": {},
   "outputs": [],
   "source": [
    "#Create Column for Population Density\n",
    "county_merge[\"Pop Density per sq km\"] = popdens(county_merge[\"Total County Pop\"], county_merge[\"Land Area\"])\n",
    "county_merge.head()"
   ]
  },
  {
   "cell_type": "code",
   "execution_count": null,
   "id": "professional-closing",
   "metadata": {},
   "outputs": [],
   "source": [
    "#Create Columns for Percentage Breakdown of Race\n",
    "\n",
    "county_merge[\"County Percentage White\"] = raceperc(county_merge[\"County Pop White\"], \n",
    "                                           county_merge[\"Total County Pop\"])\n",
    "\n",
    "county_merge[\"County Percentage Black or African American\"] = raceperc(county_merge[\"County Pop Black or African American\"], \n",
    "                                                               county_merge[\"Total County Pop\"])\n",
    "\n",
    "county_merge[\"County Percentage American Indian and Alaskan Native\"] = raceperc(county_merge[\"County Pop American Indian and Alaska Native\"], \n",
    "                                                                        county_merge[\"Total County Pop\"])\n",
    "\n",
    "county_merge[\"County Percentage Asian\"] = raceperc(county_merge[\"County Pop Asian\"], \n",
    "                                           county_merge[\"Total County Pop\"])\n",
    "\n",
    "county_merge[\"County Percentage Other Race\"] = inverseraceperc(county_merge[\"County Percentage White\"], \n",
    "                                                       county_merge[\"County Percentage Black or African American\"], \n",
    "                                                       county_merge[\"County Percentage American Indian and Alaskan Native\"],\n",
    "                                                       county_merge[\"County Percentage Asian\"])"
   ]
  },
  {
   "cell_type": "code",
   "execution_count": null,
   "id": "dietary-module",
   "metadata": {},
   "outputs": [],
   "source": [
    "#Create Income String Columns for tooltips to display in Folium\n",
    "\n",
    "#Cast numeric Income value as String\n",
    "county_merge[\"County Income String\"] = county_merge['County Per Capita Income - 12 Months'].astype(str)\n",
    "\n",
    "#Find upper bound of Margin of Error and cast that to String\n",
    "county_merge[\"County Income ME Upper\"] = upperme(county_merge[\"County Per Capita Income - 12 Months\"],\n",
    "                                           county_merge[\"County Per Capita Income ME - 12 Months\"])\n",
    "county_merge[\"County Income ME Upper String\"] = county_merge['County Income ME Upper'].astype(str)\n",
    "\n",
    "#Find lower bound of Margin of Error and cast that to String\n",
    "county_merge[\"County Income ME Lower\"] = lowerme(county_merge[\"County Per Capita Income - 12 Months\"],\n",
    "                                           county_merge[\"County Per Capita Income ME - 12 Months\"])\n",
    "county_merge[\"County Income ME Lower String\"] = county_merge['County Income ME Lower'].astype(str)\n",
    "\n",
    "#Fill sentence set to display with Income, Income Margin of Error Range\n",
    "county_merge[\"County_Map_Income_Label\"] = 'County Income Estimate: $' + county_merge[\"County Income String\"] + ' (The US Census Bureau is 90% confident that the true per Capita Income in 2019 was between $' + county_merge[\"County Income ME Lower String\"] + ' and $' + county_merge[\"County Income ME Upper String\"] + ')'"
   ]
  },
  {
   "cell_type": "code",
   "execution_count": null,
   "id": "complimentary-lawsuit",
   "metadata": {},
   "outputs": [],
   "source": [
    "#Create Pop Density String Columns for tooltips to display in Folium\n",
    "\n",
    "#Cast numeric Income value as String\n",
    "county_merge[\"County Pop Density String\"] = county_merge['Pop Density per sq km'].astype(str)\n",
    "\n",
    "#Fill sentence set to display with Pop Density\n",
    "county_merge[\"County_Map_Pop_Density_Label\"] = 'County Population Density: ' + county_merge[\"County Pop Density String\"] + ' per sq km'"
   ]
  },
  {
   "cell_type": "code",
   "execution_count": null,
   "id": "bearing-opening",
   "metadata": {},
   "outputs": [],
   "source": [
    "#Convert to 4326 Projection, will merge with city specific shapefiles later, and want projection system to match\n",
    "county_merge_4326 = county_merge.to_crs(epsg='4326')"
   ]
  },
  {
   "cell_type": "markdown",
   "id": "signal-sheriff",
   "metadata": {},
   "source": [
    "---\n",
    "## County Level: \n",
    "\n",
    "##### *Filtering to Houston*\n",
    "---"
   ]
  },
  {
   "cell_type": "code",
   "execution_count": null,
   "id": "equal-listening",
   "metadata": {},
   "outputs": [],
   "source": [
    "#Merge shapes using inner & intersects methods\n",
    "#Inner uses intersection of keys from both dfs, but retains only the left geometry \n",
    "#intersects returns values that intersect with either the interior or exterior of the larger geometry \n",
    "houston_join_county_4326 = gpd.sjoin(county_merge_4326,houston_place_4326,how='inner',op='intersects')"
   ]
  },
  {
   "cell_type": "code",
   "execution_count": null,
   "id": "occasional-journalist",
   "metadata": {},
   "outputs": [],
   "source": [
    "#Check for Nan/Null values\n",
    "sum(houston_join_county_4326.isnull().any())"
   ]
  },
  {
   "cell_type": "code",
   "execution_count": null,
   "id": "quiet-contact",
   "metadata": {},
   "outputs": [],
   "source": [
    "#Print Nan/Null columns\n",
    "nan_cols_county = [i for i in houston_join_county_4326.columns if houston_join_county_4326[i].isnull().any()]\n",
    "print(nan_cols_county)"
   ]
  },
  {
   "cell_type": "code",
   "execution_count": null,
   "id": "latter-basis",
   "metadata": {},
   "outputs": [],
   "source": [
    "#Print percentage of column that is Nan/Null values\n",
    "houston_join_county_4326[houston_join_county_4326.columns[houston_join_county_4326.isnull().any()]].isnull().sum() * 100 / houston_join_county_4326.shape[0]"
   ]
  },
  {
   "cell_type": "code",
   "execution_count": null,
   "id": "tracked-moldova",
   "metadata": {},
   "outputs": [],
   "source": [
    "#Drop Nan/Null Values\n",
    "#houston_join_county_4326=houston_join_county_4326.dropna()"
   ]
  },
  {
   "cell_type": "code",
   "execution_count": null,
   "id": "geological-policy",
   "metadata": {},
   "outputs": [],
   "source": [
    "#Save File as GeoJSON\n",
    "houston_join_county_4326.to_file(\"houston_join_county_4326_gjson.geojson\", driver='GeoJSON')"
   ]
  },
  {
   "cell_type": "code",
   "execution_count": null,
   "id": "opposite-oxide",
   "metadata": {},
   "outputs": [],
   "source": [
    "#Create Function to Read GeoJSON Back in\n",
    "houston_join_county_4326_gjson = gpd.read_file(\"houston_join_county_4326_gjson.geojson\", driver='GeoJSON')"
   ]
  },
  {
   "cell_type": "markdown",
   "id": "egyptian-animal",
   "metadata": {},
   "source": [
    "---\n",
    "## County Level: \n",
    "\n",
    "##### *Filtering to Dallas*\n",
    "---"
   ]
  },
  {
   "cell_type": "code",
   "execution_count": null,
   "id": "thorough-conjunction",
   "metadata": {},
   "outputs": [],
   "source": [
    "#Merge shapes using inner & intersects methods\n",
    "#Inner uses intersection of keys from both dfs, but retains only the left geometry \n",
    "#intersects returns values that intersect with either the interior or exterior of the larger geometry \n",
    "dallas_join_county_4326 = gpd.sjoin(county_merge_4326,dallas_place_4326,how='inner',op='intersects')"
   ]
  },
  {
   "cell_type": "code",
   "execution_count": null,
   "id": "danish-liabilities",
   "metadata": {},
   "outputs": [],
   "source": [
    "#Check for Nan/Null values\n",
    "sum(dallas_join_county_4326.isnull().any())"
   ]
  },
  {
   "cell_type": "code",
   "execution_count": null,
   "id": "solar-logging",
   "metadata": {},
   "outputs": [],
   "source": [
    "#Print Nan/Null columns\n",
    "nan_cols_county = [i for i in dallas_join_county_4326.columns if dallas_join_county_4326[i].isnull().any()]\n",
    "print(nan_cols_county)"
   ]
  },
  {
   "cell_type": "code",
   "execution_count": null,
   "id": "protective-hardware",
   "metadata": {},
   "outputs": [],
   "source": [
    "#Print percentage of column that is Nan/Null values\n",
    "dallas_join_county_4326[dallas_join_county_4326.columns[dallas_join_county_4326.isnull().any()]].isnull().sum() * 100 / dallas_join_county_4326.shape[0]"
   ]
  },
  {
   "cell_type": "code",
   "execution_count": null,
   "id": "hydraulic-extraction",
   "metadata": {},
   "outputs": [],
   "source": [
    "#Drop Nan/Null Values\n",
    "#dallas_join_county_4326=dallas_join_county_4326.dropna()"
   ]
  },
  {
   "cell_type": "code",
   "execution_count": null,
   "id": "structural-medicare",
   "metadata": {},
   "outputs": [],
   "source": [
    "#Save File as GeoJSON\n",
    "dallas_join_county_4326.to_file(\"dallas_join_county_4326_gjson.geojson\", driver='GeoJSON')"
   ]
  },
  {
   "cell_type": "code",
   "execution_count": null,
   "id": "discrete-livestock",
   "metadata": {},
   "outputs": [],
   "source": [
    "#Create Function to Read GeoJSON Back in\n",
    "dallas_join_county_4326_gjson = gpd.read_file(\"dallas_join_county_4326_gjson.geojson\", driver='GeoJSON')"
   ]
  },
  {
   "cell_type": "markdown",
   "id": "systematic-seattle",
   "metadata": {},
   "source": [
    " "
   ]
  },
  {
   "cell_type": "markdown",
   "id": "signed-software",
   "metadata": {},
   "source": [
    "---\n",
    "## Tract Level: \n",
    "\n",
    "##### Importing and Cleaning Shapefile\n",
    "---"
   ]
  },
  {
   "cell_type": "code",
   "execution_count": null,
   "id": "bronze-princess",
   "metadata": {},
   "outputs": [],
   "source": [
    "#Import shape file of tracts\n",
    "tract_shp_file = ('nhgis0008_shape/nhgis0008_shapefile_tl2019_us_tract_2019/US_tract_2019.shp')\n",
    "\n",
    "#Read in shape file to geopandas\n",
    "tract = gpd.read_file(tract_shp_file)"
   ]
  },
  {
   "cell_type": "code",
   "execution_count": null,
   "id": "union-amazon",
   "metadata": {},
   "outputs": [],
   "source": [
    "#Check Tract Projection System\n",
    "tract.crs"
   ]
  },
  {
   "cell_type": "code",
   "execution_count": null,
   "id": "vietnamese-marijuana",
   "metadata": {},
   "outputs": [],
   "source": [
    "#Take an Overarching Look at Tract df \n",
    "tract.info()"
   ]
  },
  {
   "cell_type": "code",
   "execution_count": null,
   "id": "engaging-bunch",
   "metadata": {},
   "outputs": [],
   "source": [
    "#Drop Columns that are deemed irrelevant \n",
    "tract=tract.drop(columns=['STATEFP', 'COUNTYFP', 'TRACTCE', 'GEOID', 'NAME', 'NAMELSAD', 'MTFCC', 'FUNCSTAT'])"
   ]
  },
  {
   "cell_type": "code",
   "execution_count": null,
   "id": "nearby-valve",
   "metadata": {},
   "outputs": [],
   "source": [
    "#Rename Columns to be More Descriptive \n",
    "tract.rename(columns = {'ALAND':'Land Area', \n",
    "                        'AWATER':'Water Area', \n",
    "                        'INTPTLAT':'Tract Center Lat', \n",
    "                        'INTPTLON':'Tract Center Long', \n",
    "                        'Shape_Leng':'Tract Perimeter', \n",
    "                        'Shape_Area': 'Tract Area'}, inplace = True) "
   ]
  },
  {
   "cell_type": "code",
   "execution_count": null,
   "id": "devoted-techno",
   "metadata": {},
   "outputs": [],
   "source": [
    "#Take another Overarching Look at Tract df \n",
    "tract.info()"
   ]
  },
  {
   "cell_type": "markdown",
   "id": "sharing-premium",
   "metadata": {},
   "source": [
    "---\n",
    "## Tract Level: \n",
    "\n",
    "##### Importing Data with SQL and Cleaning\n",
    "---"
   ]
  },
  {
   "cell_type": "code",
   "execution_count": null,
   "id": "secondary-animal",
   "metadata": {},
   "outputs": [],
   "source": [
    "#Import Tract Data from DB2 Using SQL Magic\n",
    "TRACT_DATA = %sql select * from TRACT1 where STATE LIKE 'Texas%'; "
   ]
  },
  {
   "cell_type": "code",
   "execution_count": null,
   "id": "hollow-trainer",
   "metadata": {},
   "outputs": [],
   "source": [
    "#Create DataFrame for Imported data\n",
    "tract_df = TRACT_DATA.DataFrame()\n",
    "tract_df.head()"
   ]
  },
  {
   "cell_type": "code",
   "execution_count": null,
   "id": "olive-canon",
   "metadata": {},
   "outputs": [],
   "source": [
    "#Take an Overarching Look at tract_df\n",
    "tract_df.info()"
   ]
  },
  {
   "cell_type": "code",
   "execution_count": null,
   "id": "loaded-oxford",
   "metadata": {},
   "outputs": [],
   "source": [
    "#Rename Columns\n",
    "tract_df.rename({'gisjoin': 'GISJOIN',\n",
    "                 'statea': 'State FIPS Code',\n",
    "                 'county': 'County Name',\n",
    "                 'countya': 'County FIPS Code',\n",
    "                 'tracta': 'Tract FIPS Code',\n",
    "                 'name_e': 'Tract Area Name',\n",
    "                 'alube001': 'Total Tract Pop',\n",
    "                 'alt1e001': 'Total Tract Median Age',\n",
    "                 'alt1e002': 'Tract Median Age M',\n",
    "                 'alt1e003': 'Tract Median Age F',\n",
    "                 'aluce002': 'Tract Pop White',\n",
    "                 'aluce003': 'Tract Pop Black or African American',\n",
    "                 'aluce004': 'Tract Pop American Indian and Alaska Native',\n",
    "                 'aluce005': 'Tract Pop Asian',\n",
    "                 'alx5e001': 'Tract Per Capita Income - 12 Months',\n",
    "                 'alubm001': 'Total Tract Pop ME',\n",
    "                 'alt1m001': 'Total Tract Median Age ME',\n",
    "                 'alt1m002': 'Tract Median Age ME M',\n",
    "                 'alt1m003': 'Tract Median Age ME F',\n",
    "                 'alucm002': 'Tract Pop ME White',\n",
    "                 'alucm003': 'Tract Pop ME Black or African American',\n",
    "                 'alucm004': 'Tract Pop ME American Indian and Alaska Native',\n",
    "                 'alucm005': 'Tract Pop ME Asian',\n",
    "                 'alx5m001': 'Tract Per Capita Income ME - 12 Months'}, axis = \"columns\", inplace = True) "
   ]
  },
  {
   "cell_type": "code",
   "execution_count": null,
   "id": "comic-dimension",
   "metadata": {},
   "outputs": [],
   "source": [
    "#Trim to Columns of Interest\n",
    "tract_df=tract_df[['GISJOIN', 'State FIPS Code', 'County Name', 'County FIPS Code', 'Tract FIPS Code', \n",
    "                   'Tract Area Name', 'Total Tract Pop', 'Total Tract Median Age', 'Tract Median Age M', \n",
    "                   'Tract Median Age F', 'Tract Pop White', 'Tract Pop Black or African American', \n",
    "                   'Tract Pop American Indian and Alaska Native', 'Tract Pop Asian', \n",
    "                   'Tract Per Capita Income - 12 Months', 'Total Tract Pop ME', \n",
    "                   'Total Tract Median Age ME', 'Tract Median Age ME M', 'Tract Median Age ME F',\n",
    "                   'Tract Pop ME White', 'Tract Pop ME Black or African American', \n",
    "                   'Tract Pop ME American Indian and Alaska Native', 'Tract Pop ME Asian', \n",
    "                   'Tract Per Capita Income ME - 12 Months']]"
   ]
  },
  {
   "cell_type": "code",
   "execution_count": null,
   "id": "romance-prescription",
   "metadata": {},
   "outputs": [],
   "source": [
    "#Convert Age columns to Floats\n",
    "tract_df['Total Tract Median Age']=pd.to_numeric(tract_df['Total Tract Median Age'],errors='coerce',downcast='float')\n",
    "tract_df['Tract Median Age M']=pd.to_numeric(tract_df['Tract Median Age M'],errors='coerce',downcast='float')\n",
    "tract_df['Tract Median Age F']=pd.to_numeric(tract_df['Tract Median Age F'],errors='coerce',downcast='float')\n",
    "tract_df['Total Tract Median Age ME']=pd.to_numeric(tract_df['Total Tract Median Age ME'],errors='coerce',downcast='float')\n",
    "tract_df['Tract Median Age ME M']=pd.to_numeric(tract_df['Tract Median Age ME M'],errors='coerce',downcast='float')\n",
    "tract_df['Tract Median Age ME F']=pd.to_numeric(tract_df['Tract Median Age ME F'],errors='coerce',downcast='float')"
   ]
  },
  {
   "cell_type": "code",
   "execution_count": null,
   "id": "finished-province",
   "metadata": {},
   "outputs": [],
   "source": [
    "#Final Overarching Look\n",
    "tract_df.info()"
   ]
  },
  {
   "cell_type": "code",
   "execution_count": null,
   "id": "stylish-ottawa",
   "metadata": {},
   "outputs": [],
   "source": []
  },
  {
   "cell_type": "markdown",
   "id": "classified-jacob",
   "metadata": {},
   "source": [
    "---\n",
    "## Tract Level: \n",
    "\n",
    "##### Merging Data with GIS & Adding in Columns Using Functions\n",
    "---"
   ]
  },
  {
   "cell_type": "code",
   "execution_count": null,
   "id": "current-murray",
   "metadata": {},
   "outputs": [],
   "source": [
    "#Merge Data with GIS Data\n",
    "tract_merge = tract.merge(tract_df, on='GISJOIN')\n",
    "tract_merge"
   ]
  },
  {
   "cell_type": "code",
   "execution_count": null,
   "id": "hourly-banner",
   "metadata": {},
   "outputs": [],
   "source": [
    "#Create Column for Population Density\n",
    "tract_merge[\"Pop Density per sq km\"] = popdens(tract_merge[\"Total Tract Pop\"], tract_merge[\"Land Area\"])\n",
    "tract_merge.head()"
   ]
  },
  {
   "cell_type": "code",
   "execution_count": null,
   "id": "excess-porter",
   "metadata": {},
   "outputs": [],
   "source": [
    "#Create Columns for Percentage Breakdown of Race\n",
    "\n",
    "tract_merge[\"Tract Percentage White\"] = raceperc(tract_merge[\"Tract Pop White\"], \n",
    "                                           tract_merge[\"Total Tract Pop\"])\n",
    "\n",
    "tract_merge[\"Tract Percentage Black or African American\"] = raceperc(tract_merge[\"Tract Pop Black or African American\"], \n",
    "                                                               tract_merge[\"Total Tract Pop\"])\n",
    "\n",
    "tract_merge[\"Tract Percentage American Indian and Alaskan Native\"] = raceperc(tract_merge[\"Tract Pop American Indian and Alaska Native\"], \n",
    "                                                                        tract_merge[\"Total Tract Pop\"])\n",
    "\n",
    "tract_merge[\"Tract Percentage Asian\"] = raceperc(tract_merge[\"Tract Pop Asian\"], \n",
    "                                           tract_merge[\"Total Tract Pop\"])\n",
    "\n",
    "tract_merge[\"Tract Percentage Other Race\"] = inverseraceperc(tract_merge[\"Tract Percentage White\"], \n",
    "                                                       tract_merge[\"Tract Percentage Black or African American\"], \n",
    "                                                       tract_merge[\"Tract Percentage American Indian and Alaskan Native\"],\n",
    "                                                       tract_merge[\"Tract Percentage Asian\"])"
   ]
  },
  {
   "cell_type": "code",
   "execution_count": null,
   "id": "exact-banking",
   "metadata": {},
   "outputs": [],
   "source": [
    "#Create Income String Columns for tooltips to display in Folium\n",
    "\n",
    "#Cast numeric Income value as String\n",
    "tract_merge[\"Tract Income String\"] = tract_merge['Tract Per Capita Income - 12 Months'].astype(str)\n",
    "\n",
    "#Find upper bound of Margin of Error and cast that to String\n",
    "tract_merge[\"Tract Income ME Upper\"] = upperme(tract_merge[\"Tract Per Capita Income - 12 Months\"],\n",
    "                                           tract_merge[\"Tract Per Capita Income ME - 12 Months\"])\n",
    "tract_merge[\"Tract Income ME Upper String\"] = tract_merge['Tract Income ME Upper'].astype(str)\n",
    "\n",
    "#Find lower bound of Margin of Error and cast that to String\n",
    "tract_merge[\"Tract Income ME Lower\"] = lowerme(tract_merge[\"Tract Per Capita Income - 12 Months\"],\n",
    "                                           tract_merge[\"Tract Per Capita Income ME - 12 Months\"])\n",
    "tract_merge[\"Tract Income ME Lower String\"] = tract_merge['Tract Income ME Lower'].astype(str)\n",
    "\n",
    "#Fill sentence set to display with Income, Income Margin of Error Range\n",
    "tract_merge[\"Tract_Map_Income_Label\"] = 'Tract Income Estimate: $' + tract_merge[\"Tract Income String\"] + ' (The US Census Bureau is 90% confident that the true per Capita Income in 2019 was between $' + tract_merge[\"Tract Income ME Lower String\"] + ' and $' + tract_merge[\"Tract Income ME Upper String\"] + ')'"
   ]
  },
  {
   "cell_type": "code",
   "execution_count": null,
   "id": "english-council",
   "metadata": {},
   "outputs": [],
   "source": [
    "#Create Pop Density String Columns for tooltips to display in Folium\n",
    "\n",
    "#Cast numeric Income value as String\n",
    "tract_merge[\"Tract Pop Density String\"] = tract_merge['Pop Density per sq km'].astype(str)\n",
    "\n",
    "#Fill sentence set to display with Pop Density\n",
    "tract_merge[\"Tract_Map_Pop_Density_Label\"] = 'Tract Population Density: ' + tract_merge[\"Tract Pop Density String\"] + ' per sq km'"
   ]
  },
  {
   "cell_type": "code",
   "execution_count": null,
   "id": "elect-fundamental",
   "metadata": {},
   "outputs": [],
   "source": [
    "#Convert to 4326 Projection, will merge with city specific shapefiles later, and want projection system to match\n",
    "tract_merge_4326 = tract_merge.to_crs(epsg='4326')"
   ]
  },
  {
   "cell_type": "markdown",
   "id": "chubby-candy",
   "metadata": {},
   "source": [
    "---\n",
    "## Tract Level: \n",
    "\n",
    "##### *Filtering to Houston*\n",
    "---"
   ]
  },
  {
   "cell_type": "code",
   "execution_count": null,
   "id": "minus-celebration",
   "metadata": {},
   "outputs": [],
   "source": [
    "#Merge shapes using inner & intersects methods\n",
    "#Inner uses intersection of keys from both dfs, but retains only the left geometry \n",
    "#intersects returns values that intersect with either the interior or exterior of the larger geometry \n",
    "houston_join_tract_4326 = gpd.sjoin(tract_merge_4326,houston_place_4326,how='inner',op='intersects')"
   ]
  },
  {
   "cell_type": "code",
   "execution_count": null,
   "id": "light-mixture",
   "metadata": {},
   "outputs": [],
   "source": [
    "#Check for Nan/Null values\n",
    "sum(houston_join_tract_4326.isnull().any())"
   ]
  },
  {
   "cell_type": "code",
   "execution_count": null,
   "id": "ancient-partnership",
   "metadata": {},
   "outputs": [],
   "source": [
    "#Print Nan/Null columns\n",
    "nan_cols_tract = [i for i in houston_join_tract_4326.columns if houston_join_tract_4326[i].isnull().any()]\n",
    "print(nan_cols_tract)"
   ]
  },
  {
   "cell_type": "code",
   "execution_count": null,
   "id": "sticky-command",
   "metadata": {
    "scrolled": true
   },
   "outputs": [],
   "source": [
    "#Print number of values of columns that are Nan/Null\n",
    "houston_join_tract_4326[houston_join_tract_4326.columns[houston_join_tract_4326.isnull().any()]].isnull().sum()"
   ]
  },
  {
   "cell_type": "code",
   "execution_count": null,
   "id": "defensive-arnold",
   "metadata": {},
   "outputs": [],
   "source": [
    "houston_tract_nan=houston_join_tract_4326[houston_join_tract_4326.isna().any(axis=1)]\n",
    "houston_tract_nan"
   ]
  },
  {
   "cell_type": "code",
   "execution_count": null,
   "id": "continuous-colonial",
   "metadata": {},
   "outputs": [],
   "source": [
    "#Drop Tract with Nan values that is located on the airport\n",
    "houston_join_tract_4326.drop([3057],inplace=True)"
   ]
  },
  {
   "cell_type": "markdown",
   "id": "developed-burst",
   "metadata": {},
   "source": [
    "Change remaining Tract with Nan values -- Since the NaN values are in Female Median Age and Female Median Age ME, I assume that there are no Females in the tract. I decide to change the values of each category to the average of those Houston specific columns"
   ]
  },
  {
   "cell_type": "code",
   "execution_count": null,
   "id": "encouraging-adrian",
   "metadata": {},
   "outputs": [],
   "source": [
    "nanreplacement=houston_join_tract_4326[\"Tract Median Age F\"].mean()\n",
    "nanreplacement"
   ]
  },
  {
   "cell_type": "code",
   "execution_count": null,
   "id": "distant-camera",
   "metadata": {},
   "outputs": [],
   "source": [
    "nanreplacementme=houston_join_tract_4326[\"Tract Median Age ME F\"].mean()\n",
    "nanreplacementme"
   ]
  },
  {
   "cell_type": "code",
   "execution_count": null,
   "id": "toxic-venezuela",
   "metadata": {},
   "outputs": [],
   "source": [
    "houston_join_tract_4326.at[2029, 'Tract Median Age F'] = nanreplacement"
   ]
  },
  {
   "cell_type": "code",
   "execution_count": null,
   "id": "furnished-sharp",
   "metadata": {},
   "outputs": [],
   "source": [
    "houston_join_tract_4326.at[2029, 'Tract Median Age ME F'] = nanreplacementme"
   ]
  },
  {
   "cell_type": "code",
   "execution_count": null,
   "id": "productive-savings",
   "metadata": {
    "scrolled": true
   },
   "outputs": [],
   "source": [
    "#Check that the NaN values are gone\n",
    "houston_join_tract_4326[houston_join_tract_4326.columns[houston_join_tract_4326.isnull().any()]].isnull().sum()"
   ]
  },
  {
   "cell_type": "code",
   "execution_count": null,
   "id": "confident-dublin",
   "metadata": {},
   "outputs": [],
   "source": [
    "#Save File as GeoJSON\n",
    "houston_join_tract_4326.to_file(\"houston_join_tract_4326_gjson.geojson\", driver='GeoJSON')"
   ]
  },
  {
   "cell_type": "code",
   "execution_count": null,
   "id": "logical-antigua",
   "metadata": {},
   "outputs": [],
   "source": [
    "#Create Function to Read GeoJSON Back in\n",
    "houston_join_tract_4326_gjson = gpd.read_file(\"houston_join_tract_4326_gjson.geojson\", driver='GeoJSON')"
   ]
  },
  {
   "cell_type": "code",
   "execution_count": null,
   "id": "cubic-student",
   "metadata": {},
   "outputs": [],
   "source": [
    "dallas_join_tract_4326.info()"
   ]
  },
  {
   "cell_type": "code",
   "execution_count": null,
   "id": "applicable-alias",
   "metadata": {},
   "outputs": [],
   "source": [
    "houston_join_tract_4326[['Pop Density per sq km',\n",
    "                        'Total Tract Median Age',\n",
    "                        'Tract Median Age M',\n",
    "                        'Tract Median Age F',\n",
    "                        'Tract Per Capita Income - 12 Months',\n",
    "                        'Tract Percentage White',\n",
    "                        'Tract Percentage Black or African American',\n",
    "                        'Tract Percentage Asian']].corr()"
   ]
  },
  {
   "cell_type": "code",
   "execution_count": null,
   "id": "moved-howard",
   "metadata": {
    "scrolled": false
   },
   "outputs": [],
   "source": [
    "pd.set_option(\"max_columns\", 38)\n",
    "houston_join_tract_4326.describe(include=[np.number])"
   ]
  },
  {
   "cell_type": "code",
   "execution_count": null,
   "id": "tired-drain",
   "metadata": {},
   "outputs": [],
   "source": [
    "houston_join_describe=houston_join_tract_4326.describe(include=[np.number])"
   ]
  },
  {
   "cell_type": "code",
   "execution_count": null,
   "id": "dense-cement",
   "metadata": {},
   "outputs": [],
   "source": [
    "houston_join_describe=houston_join_describe.drop(columns=['Land Area_left', \n",
    "                                                          'Water Area_left', \n",
    "                                                          'Tract Perimeter', \n",
    "                                                          'Tract Area',\n",
    "                                                          'State FIPS Code_left',\n",
    "                                                          'County FIPS Code',\n",
    "                                                          'Tract FIPS Code', \n",
    "                                                          'index_right', \n",
    "                                                          'Land Area_right',\n",
    "                                                          'Water Area_right', \n",
    "                                                          'Place Perimeter', \n",
    "                                                          'Place Area'])\n",
    "houston_join_describe"
   ]
  },
  {
   "cell_type": "markdown",
   "id": "international-incentive",
   "metadata": {},
   "source": [
    "---\n",
    "## Tract Level: \n",
    "\n",
    "##### *Filtering to Dallas*\n",
    "---"
   ]
  },
  {
   "cell_type": "code",
   "execution_count": null,
   "id": "special-candidate",
   "metadata": {},
   "outputs": [],
   "source": [
    "#Merge shapes using inner & intersects methods\n",
    "#Inner uses intersection of keys from both dfs, but retains only the left geometry \n",
    "#intersects returns values that intersect with either the interior or exterior of the larger geometry \n",
    "dallas_join_tract_4326 = gpd.sjoin(tract_merge_4326,dallas_place_4326,how='inner',op='intersects')"
   ]
  },
  {
   "cell_type": "code",
   "execution_count": null,
   "id": "departmental-collins",
   "metadata": {},
   "outputs": [],
   "source": [
    "#Check for Nan/Null values\n",
    "sum(dallas_join_tract_4326.isnull().any())"
   ]
  },
  {
   "cell_type": "code",
   "execution_count": null,
   "id": "centered-illness",
   "metadata": {},
   "outputs": [],
   "source": [
    "#Print Nan/Null columns\n",
    "nan_cols_tract = [i for i in dallas_join_tract_4326.columns if dallas_join_tract_4326[i].isnull().any()]\n",
    "print(nan_cols_tract)"
   ]
  },
  {
   "cell_type": "code",
   "execution_count": null,
   "id": "gothic-hands",
   "metadata": {},
   "outputs": [],
   "source": [
    "#Print number of values of columns that are Nan/Null\n",
    "dallas_join_tract_4326[dallas_join_tract_4326.columns[dallas_join_tract_4326.isnull().any()]].isnull().sum()"
   ]
  },
  {
   "cell_type": "code",
   "execution_count": null,
   "id": "patent-wallace",
   "metadata": {},
   "outputs": [],
   "source": [
    "dallas_tract_nan=dallas_join_tract_4326[dallas_join_tract_4326.isna().any(axis=1)]\n",
    "dallas_tract_nan"
   ]
  },
  {
   "cell_type": "code",
   "execution_count": null,
   "id": "alert-proof",
   "metadata": {},
   "outputs": [],
   "source": [
    "#Drop Tract with Nan values since it is located on the airport\n",
    "dallas_join_tract_4326.drop([1558],inplace=True)"
   ]
  },
  {
   "cell_type": "code",
   "execution_count": null,
   "id": "authorized-techno",
   "metadata": {},
   "outputs": [],
   "source": [
    "#Check that the NaN values are gone\n",
    "dallas_join_tract_4326[dallas_join_tract_4326.columns[dallas_join_tract_4326.isnull().any()]].isnull().sum()"
   ]
  },
  {
   "cell_type": "code",
   "execution_count": null,
   "id": "olive-litigation",
   "metadata": {},
   "outputs": [],
   "source": [
    "#Save File as GeoJSON\n",
    "dallas_join_tract_4326.to_file(\"dallas_join_tract_4326_gjson.geojson\", driver='GeoJSON')"
   ]
  },
  {
   "cell_type": "code",
   "execution_count": null,
   "id": "pleasant-breakfast",
   "metadata": {},
   "outputs": [],
   "source": [
    "#Create Function to Read GeoJSON Back in\n",
    "dallas_join_tract_4326_gjson = gpd.read_file(\"dallas_join_tract_4326_gjson.geojson\", driver='GeoJSON')"
   ]
  },
  {
   "cell_type": "code",
   "execution_count": null,
   "id": "ranking-ordering",
   "metadata": {},
   "outputs": [],
   "source": []
  },
  {
   "cell_type": "code",
   "execution_count": null,
   "id": "fuzzy-quantity",
   "metadata": {
    "scrolled": true
   },
   "outputs": [],
   "source": []
  },
  {
   "cell_type": "code",
   "execution_count": null,
   "id": "grateful-nudist",
   "metadata": {
    "scrolled": false
   },
   "outputs": [],
   "source": []
  },
  {
   "cell_type": "markdown",
   "id": "promising-mechanism",
   "metadata": {},
   "source": [
    " "
   ]
  },
  {
   "cell_type": "markdown",
   "id": "coral-memorabilia",
   "metadata": {},
   "source": [
    "---\n",
    "## Foursquare: Preparing\n",
    "\n",
    "##### *Writing Functions etc.*\n",
    "---"
   ]
  },
  {
   "cell_type": "code",
   "execution_count": null,
   "id": "apart-suite",
   "metadata": {},
   "outputs": [],
   "source": [
    "FS_url = 'https://api.foursquare.com/v2/venues/search?client_id={}&client_secret={}&ll={},{}&radius={}&limit={}&categoryId={}&oauth_token={}&v={}'\n",
    "FS_VERSION = 20210213"
   ]
  },
  {
   "cell_type": "code",
   "execution_count": null,
   "id": "extraordinary-rainbow",
   "metadata": {},
   "outputs": [],
   "source": [
    "gym = '4bf58dd8d48988d175941735' #Gym/Fitness Center 3\n",
    "park = '4bf58dd8d48988d163941735' #Park 2\n",
    "FS_LIMIT=50"
   ]
  },
  {
   "cell_type": "code",
   "execution_count": null,
   "id": "attractive-credit",
   "metadata": {},
   "outputs": [],
   "source": [
    "#Define function to approximate Radius to use in Foursquare queries\n",
    "def rapprox(x):\n",
    "    return ((x / 6.283))\n",
    "#x will be the perimeter of the tract, this should give a reasonable radius to search\n",
    "#r = (Perimeter/(2*pi)) "
   ]
  },
  {
   "cell_type": "code",
   "execution_count": null,
   "id": "thousand-packet",
   "metadata": {},
   "outputs": [],
   "source": [
    "#Define function to pull the category name out of the Foursquare results\n",
    "def get_category_type(row):\n",
    "    try:\n",
    "        categories_list = row['categories']\n",
    "    except:\n",
    "        categories_list = row['venue.categories']\n",
    "        \n",
    "    if len(categories_list) == 0:\n",
    "        return None\n",
    "    else:\n",
    "        return categories_list[0]['name']"
   ]
  },
  {
   "cell_type": "code",
   "execution_count": null,
   "id": "structural-hearts",
   "metadata": {},
   "outputs": [],
   "source": [
    "#Due to Foursquare API limitations, will have to split Houston tracts list into two parts\n",
    "def middle_index(list):\n",
    "    return (len(list)//2)"
   ]
  },
  {
   "cell_type": "code",
   "execution_count": null,
   "id": "immediate-villa",
   "metadata": {},
   "outputs": [],
   "source": []
  },
  {
   "cell_type": "markdown",
   "id": "immune-merchant",
   "metadata": {},
   "source": [
    "---\n",
    "## Foursquare: Gathering Data \n",
    "\n",
    "##### *Houston*\n",
    "---"
   ]
  },
  {
   "cell_type": "code",
   "execution_count": null,
   "id": "surface-retailer",
   "metadata": {
    "scrolled": true
   },
   "outputs": [],
   "source": [
    "#Filter big dataframe to relevant data\n",
    "FS_houston = houston_join_tract_4326.filter(['Tract Perimeter','Tract Center Lat', 'Tract Center Long'],axis=1)"
   ]
  },
  {
   "cell_type": "code",
   "execution_count": null,
   "id": "gorgeous-madness",
   "metadata": {
    "scrolled": true
   },
   "outputs": [],
   "source": [
    "#Add Radius column by using rapprox function set up previously\n",
    "FS_houston[\"Radius\"] = rapprox(FS_houston[\"Tract Perimeter\"])"
   ]
  },
  {
   "cell_type": "code",
   "execution_count": null,
   "id": "choice-luther",
   "metadata": {},
   "outputs": [],
   "source": [
    "#Convert Lon & Lat columns to floats and strip the + sign so they can be put into Foursquare's API\n",
    "FS_houston['Tract Center Lat'] = (FS_houston['Tract Center Lat'].str.strip('+').astype(float))\n",
    "FS_houston['Tract Center Long'] = (FS_houston['Tract Center Long'].str.strip('+').astype(float))\n",
    "FS_houston.Radius = FS_houston.Radius.astype(int)"
   ]
  },
  {
   "cell_type": "code",
   "execution_count": null,
   "id": "pharmaceutical-recommendation",
   "metadata": {},
   "outputs": [],
   "source": [
    "#Create blank lists to create list to iterate through for Foursquare API\n",
    "houston_first_list = []\n",
    "FS_houston_list = []"
   ]
  },
  {
   "cell_type": "code",
   "execution_count": null,
   "id": "steady-trace",
   "metadata": {},
   "outputs": [],
   "source": [
    "#Write to the list using the filtered dataframe\n",
    "for index, rows in FS_houston.iterrows(): \n",
    "    houston_first_list = [rows['Tract Center Lat'], rows['Tract Center Long'], rows['Radius']]\n",
    "    FS_houston_list.append(houston_first_list)\n",
    "print(FS_houston_list)"
   ]
  },
  {
   "cell_type": "code",
   "execution_count": null,
   "id": "rising-jungle",
   "metadata": {},
   "outputs": [],
   "source": [
    "#Check to make sure the list is the correct length\n",
    "print(len(FS_houston_list))"
   ]
  },
  {
   "cell_type": "code",
   "execution_count": null,
   "id": "charitable-cooper",
   "metadata": {},
   "outputs": [],
   "source": [
    "#Find middle element of list to split into lengths less than 500 (Foursquare API limit is 500)\n",
    "houston_middle_index=middle_index(FS_houston_list)\n",
    "print(houston_middle_index)"
   ]
  },
  {
   "cell_type": "code",
   "execution_count": null,
   "id": "active-malpractice",
   "metadata": {},
   "outputs": [],
   "source": [
    "#Split list into two parts, first half and second half \n",
    "FS_houston_list1=FS_houston_list[:houston_middle_index]\n",
    "FS_houston_list2=FS_houston_list[houston_middle_index:]"
   ]
  },
  {
   "cell_type": "markdown",
   "id": "floating-mission",
   "metadata": {},
   "source": [
    "#### *Gym Query*"
   ]
  },
  {
   "cell_type": "code",
   "execution_count": null,
   "id": "tracked-hospital",
   "metadata": {},
   "outputs": [],
   "source": [
    "#Running loop to get first half of Houston FS gym data\n",
    "FS_houston_gym_list = []\n",
    "\n",
    "for v in FS_houston_list1:\n",
    "    FS_houston_gym_url1 = FS_url.format(\n",
    "    config.FS_CLIENT_ID, \n",
    "    config.FS_CLIENT_SECRET, \n",
    "    v[0], \n",
    "    v[1], \n",
    "    v[2], \n",
    "    FS_LIMIT,\n",
    "    gym, \n",
    "    config.FS_ACCESS_TOKEN, \n",
    "    FS_VERSION)\n",
    "    FS_houston_gym_results1 = requests.get(FS_houston_gym_url1).json()\n",
    "    FS_houston_gym_venues1 = FS_houston_gym_results1['response']['venues']\n",
    "    FS_houston_gym_list.extend(FS_houston_gym_venues1)"
   ]
  },
  {
   "cell_type": "code",
   "execution_count": null,
   "id": "forbidden-belize",
   "metadata": {},
   "outputs": [],
   "source": [
    "print(len(FS_houston_gym_list))"
   ]
  },
  {
   "cell_type": "code",
   "execution_count": null,
   "id": "downtown-portal",
   "metadata": {},
   "outputs": [],
   "source": [
    "#Running loop to get second half of Houston FS gym data\n",
    "for v in FS_houston_list2:\n",
    "    FS_houston_gym_url2 = FS_url.format(\n",
    "    config.FS_CLIENT_ID, \n",
    "    config.FS_CLIENT_SECRET, \n",
    "    v[0], \n",
    "    v[1], \n",
    "    v[2], \n",
    "    FS_LIMIT,\n",
    "    gym, \n",
    "    config.FS_ACCESS_TOKEN, \n",
    "    FS_VERSION)\n",
    "    FS_houston_gym_results2 = requests.get(FS_houston_gym_url2).json()\n",
    "    FS_houston_gym_venues2 = FS_houston_gym_results2['response']['venues']\n",
    "    FS_houston_gym_list.extend(FS_houston_gym_venues2)"
   ]
  },
  {
   "cell_type": "code",
   "execution_count": null,
   "id": "congressional-symphony",
   "metadata": {},
   "outputs": [],
   "source": [
    "print(len(FS_houston_gym_list))"
   ]
  },
  {
   "cell_type": "code",
   "execution_count": null,
   "id": "fundamental-feelings",
   "metadata": {},
   "outputs": [],
   "source": []
  },
  {
   "cell_type": "code",
   "execution_count": null,
   "id": "adaptive-printing",
   "metadata": {},
   "outputs": [],
   "source": [
    "#Normalize json list result so it can be treated as a dataframe\n",
    "FS_houston_gym_df=json_normalize(FS_houston_gym_list)"
   ]
  },
  {
   "cell_type": "code",
   "execution_count": null,
   "id": "approximate-contents",
   "metadata": {},
   "outputs": [],
   "source": [
    "#Clean dataset by dropping duplicate results\n",
    "FS_houston_gym_df.drop_duplicates(subset='id',inplace=True)"
   ]
  },
  {
   "cell_type": "code",
   "execution_count": null,
   "id": "fourth-wells",
   "metadata": {},
   "outputs": [],
   "source": [
    "#Clean dataset by pulling out category names from the list in each row, and only pulling relevant name and location results\n",
    "filtered_houston_gym_columns = ['name', 'categories'] + [col for col in FS_houston_gym_df.columns if col.startswith('location.')] + ['id']\n",
    "houston_gym_filtered = FS_houston_gym_df.loc[:, filtered_houston_gym_columns]\n",
    "\n",
    "houston_gym_filtered['categories'] = houston_gym_filtered.apply(get_category_type, axis=1)"
   ]
  },
  {
   "cell_type": "code",
   "execution_count": null,
   "id": "electoral-occupation",
   "metadata": {},
   "outputs": [],
   "source": [
    "houston_gym_filtered.head()"
   ]
  },
  {
   "cell_type": "code",
   "execution_count": null,
   "id": "published-uncle",
   "metadata": {},
   "outputs": [],
   "source": []
  },
  {
   "cell_type": "code",
   "execution_count": null,
   "id": "later-amount",
   "metadata": {},
   "outputs": [],
   "source": []
  },
  {
   "cell_type": "code",
   "execution_count": null,
   "id": "heavy-bailey",
   "metadata": {},
   "outputs": [],
   "source": [
    "houston_gym_filtered.info()"
   ]
  },
  {
   "cell_type": "code",
   "execution_count": null,
   "id": "hindu-miami",
   "metadata": {},
   "outputs": [],
   "source": [
    "#Clean column names\n",
    "houston_gym_filtered.columns = [column.split('.')[-1] for column in houston_gym_filtered.columns]"
   ]
  },
  {
   "cell_type": "code",
   "execution_count": null,
   "id": "responsible-edmonton",
   "metadata": {},
   "outputs": [],
   "source": [
    "houston_gym_gpd_input=houston_gym_filtered.drop(columns=['labeledLatLngs','formattedAddress'])"
   ]
  },
  {
   "cell_type": "code",
   "execution_count": null,
   "id": "environmental-hawaiian",
   "metadata": {},
   "outputs": [],
   "source": [
    "houston_gym_gpd=gpd.GeoDataFrame(houston_gym_gpd_input, geometry=gpd.points_from_xy(houston_gym_gpd_input.lng,\n",
    "                                                                   houston_gym_gpd_input.lat)\n",
    "                                )"
   ]
  },
  {
   "cell_type": "code",
   "execution_count": null,
   "id": "japanese-treatment",
   "metadata": {},
   "outputs": [],
   "source": [
    "#Save File as GeoJSON\n",
    "houston_gym_gpd.to_file(\"houston_gym_gpd_gjson.geojson\", driver='GeoJSON')"
   ]
  },
  {
   "cell_type": "code",
   "execution_count": null,
   "id": "natural-postage",
   "metadata": {},
   "outputs": [],
   "source": [
    "#Create Function to Read GeoJSON Back in\n",
    "houston_gym_gpd_gjson = gpd.read_file(\"houston_gym_gpd_gjson.geojson\", driver='GeoJSON')"
   ]
  },
  {
   "cell_type": "code",
   "execution_count": null,
   "id": "portuguese-candle",
   "metadata": {},
   "outputs": [],
   "source": [
    "#Save File as CSV\n",
    "houston_gym_filtered.to_csv('houston_gym_filtered_csv.csv')"
   ]
  },
  {
   "cell_type": "markdown",
   "id": "excess-relaxation",
   "metadata": {},
   "source": [
    "#### *Park Query*"
   ]
  },
  {
   "cell_type": "code",
   "execution_count": null,
   "id": "editorial-frost",
   "metadata": {},
   "outputs": [],
   "source": [
    "#Running loop to get first half of Houston FS park data\n",
    "FS_houston_park_list = []\n",
    "\n",
    "for v in FS_houston_list1:\n",
    "    FS_houston_park_url1 = FS_url.format(\n",
    "    config.FS_CLIENT_ID, \n",
    "    config.FS_CLIENT_SECRET, \n",
    "    v[0], \n",
    "    v[1], \n",
    "    v[2], \n",
    "    FS_LIMIT,\n",
    "    park, \n",
    "    config.FS_ACCESS_TOKEN, \n",
    "    FS_VERSION)\n",
    "    FS_houston_park_results1 = requests.get(FS_houston_park_url1).json()\n",
    "    FS_houston_park_venues1 = FS_houston_park_results1['response']['venues']\n",
    "    FS_houston_park_list.extend(FS_houston_park_venues1)"
   ]
  },
  {
   "cell_type": "code",
   "execution_count": null,
   "id": "foreign-fifteen",
   "metadata": {},
   "outputs": [],
   "source": [
    "#Running loop to get second half of Houston FS park data\n",
    "for v in FS_houston_list2:\n",
    "    FS_houston_park_url2 = FS_url.format(\n",
    "    config.FS_CLIENT_ID, \n",
    "    config.FS_CLIENT_SECRET, \n",
    "    v[0], \n",
    "    v[1], \n",
    "    v[2], \n",
    "    FS_LIMIT,\n",
    "    park, \n",
    "    config.FS_ACCESS_TOKEN, \n",
    "    FS_VERSION)\n",
    "    FS_houston_park_results2 = requests.get(FS_houston_park_url2).json()\n",
    "    FS_houston_park_venues2 = FS_houston_park_results2['response']['venues']\n",
    "    FS_houston_park_list.extend(FS_houston_park_venues2)"
   ]
  },
  {
   "cell_type": "code",
   "execution_count": null,
   "id": "occasional-brook",
   "metadata": {},
   "outputs": [],
   "source": [
    "#Normalize json list result so it can be treated as a dataframe\n",
    "FS_houston_park_df=json_normalize(FS_houston_park_list)"
   ]
  },
  {
   "cell_type": "code",
   "execution_count": null,
   "id": "focused-malpractice",
   "metadata": {},
   "outputs": [],
   "source": [
    "#Clean dataset by dropping duplicate results\n",
    "FS_houston_park_df.drop_duplicates(subset='id',inplace=True)"
   ]
  },
  {
   "cell_type": "code",
   "execution_count": null,
   "id": "spare-journalist",
   "metadata": {},
   "outputs": [],
   "source": [
    "#Clean dataset by pulling out category names from the list in each row, and only pulling relevant name and location results\n",
    "filtered_houston_park_columns = ['name', 'categories'] + [col for col in FS_houston_park_df.columns if col.startswith('location.')] + ['id']\n",
    "houston_park_filtered = FS_houston_park_df.loc[:, filtered_houston_park_columns]\n",
    "\n",
    "houston_park_filtered['categories'] = houston_park_filtered.apply(get_category_type, axis=1)"
   ]
  },
  {
   "cell_type": "code",
   "execution_count": null,
   "id": "alpha-pioneer",
   "metadata": {},
   "outputs": [],
   "source": [
    "FS_houston_park_df.info()"
   ]
  },
  {
   "cell_type": "code",
   "execution_count": null,
   "id": "treated-field",
   "metadata": {},
   "outputs": [],
   "source": [
    "houston_park_filtered.head()"
   ]
  },
  {
   "cell_type": "code",
   "execution_count": null,
   "id": "unsigned-wonder",
   "metadata": {},
   "outputs": [],
   "source": [
    "houston_park_filtered.info()"
   ]
  },
  {
   "cell_type": "code",
   "execution_count": null,
   "id": "novel-journal",
   "metadata": {},
   "outputs": [],
   "source": [
    "#Clean column names\n",
    "houston_park_filtered.columns = [column.split('.')[-1] for column in houston_park_filtered.columns]"
   ]
  },
  {
   "cell_type": "code",
   "execution_count": null,
   "id": "indirect-accreditation",
   "metadata": {},
   "outputs": [],
   "source": [
    "houston_park_gpd_input=houston_park_filtered.drop(columns=['labeledLatLngs','formattedAddress'])"
   ]
  },
  {
   "cell_type": "code",
   "execution_count": null,
   "id": "musical-henry",
   "metadata": {},
   "outputs": [],
   "source": [
    "houston_park_gpd=gpd.GeoDataFrame(houston_park_gpd_input, geometry=gpd.points_from_xy(houston_park_gpd_input.lng,\n",
    "                                                                   houston_park_gpd_input.lat)\n",
    "                                )"
   ]
  },
  {
   "cell_type": "code",
   "execution_count": null,
   "id": "judicial-bridge",
   "metadata": {},
   "outputs": [],
   "source": [
    "#Save File as GeoJSON\n",
    "houston_park_gpd.to_file(\"houston_park_gpd_gjson.geojson\", driver='GeoJSON')"
   ]
  },
  {
   "cell_type": "code",
   "execution_count": null,
   "id": "random-disco",
   "metadata": {},
   "outputs": [],
   "source": [
    "#Create Function to Read GeoJSON Back in\n",
    "houston_park_gpd_gjson = gpd.read_file(\"houston_park_gpd_gjson.geojson\", driver='GeoJSON')"
   ]
  },
  {
   "cell_type": "code",
   "execution_count": null,
   "id": "aboriginal-relative",
   "metadata": {},
   "outputs": [],
   "source": [
    "#Save File as CSV\n",
    "houston_park_filtered.to_csv('houston_park_filtered_csv.csv')"
   ]
  },
  {
   "cell_type": "markdown",
   "id": "elect-beijing",
   "metadata": {},
   "source": [
    "---\n",
    "## Foursquare: Gathering Data \n",
    "\n",
    "##### *Dallas*\n",
    "---"
   ]
  },
  {
   "cell_type": "code",
   "execution_count": null,
   "id": "orange-corrections",
   "metadata": {
    "scrolled": true
   },
   "outputs": [],
   "source": [
    "#Filter big dataframe to relevant data\n",
    "FS_dallas = dallas_join_tract_4326.filter(['Tract Perimeter','Tract Center Lat', 'Tract Center Long'],axis=1)"
   ]
  },
  {
   "cell_type": "code",
   "execution_count": null,
   "id": "sixth-margin",
   "metadata": {
    "scrolled": true
   },
   "outputs": [],
   "source": [
    "#Add Radius column by using rapprox function set up previously\n",
    "FS_dallas[\"Radius\"] = rapprox(FS_dallas[\"Tract Perimeter\"])"
   ]
  },
  {
   "cell_type": "code",
   "execution_count": null,
   "id": "nearby-pizza",
   "metadata": {},
   "outputs": [],
   "source": [
    "#Convert Lon & Lat columns to floats and strip the + sign so they can be put into Foursquare's API\n",
    "FS_dallas['Tract Center Lat'] = (FS_dallas['Tract Center Lat'].str.strip('+').astype(float))\n",
    "FS_dallas['Tract Center Long'] = (FS_dallas['Tract Center Long'].str.strip('+').astype(float))\n",
    "FS_dallas.Radius = FS_dallas.Radius.astype(int)"
   ]
  },
  {
   "cell_type": "code",
   "execution_count": null,
   "id": "educated-sight",
   "metadata": {},
   "outputs": [],
   "source": [
    "#Create blank lists to create list to iterate through for Foursquare API\n",
    "dallas_first_list = []\n",
    "FS_dallas_list = []"
   ]
  },
  {
   "cell_type": "code",
   "execution_count": null,
   "id": "modular-stadium",
   "metadata": {},
   "outputs": [],
   "source": [
    "#Write to the list using the filtered dataframe\n",
    "for index, rows in FS_dallas.iterrows(): \n",
    "    dallas_first_list = [rows['Tract Center Lat'], rows['Tract Center Long'], rows['Radius']]\n",
    "    FS_dallas_list.append(dallas_first_list)\n",
    "print(FS_dallas_list)"
   ]
  },
  {
   "cell_type": "code",
   "execution_count": null,
   "id": "running-conjunction",
   "metadata": {},
   "outputs": [],
   "source": [
    "#Check to make sure the list is the correct length\n",
    "print(len(FS_dallas_list))"
   ]
  },
  {
   "cell_type": "markdown",
   "id": "local-asthma",
   "metadata": {},
   "source": [
    "#### *Gym Query*"
   ]
  },
  {
   "cell_type": "code",
   "execution_count": null,
   "id": "needed-victorian",
   "metadata": {},
   "outputs": [],
   "source": [
    "#Running loop to get Dallas FS gym data\n",
    "FS_dallas_gym_list = []\n",
    "\n",
    "for v in FS_dallas_list:\n",
    "    FS_dallas_gym_url = FS_url.format(\n",
    "    config.FS_CLIENT_ID, \n",
    "    config.FS_CLIENT_SECRET, \n",
    "    v[0], \n",
    "    v[1], \n",
    "    v[2], \n",
    "    FS_LIMIT,\n",
    "    gym, \n",
    "    config.FS_ACCESS_TOKEN, \n",
    "    FS_VERSION)\n",
    "    FS_dallas_gym_results = requests.get(FS_dallas_gym_url).json()\n",
    "    FS_dallas_gym_venues = FS_dallas_gym_results['response']['venues']\n",
    "    FS_dallas_gym_list.extend(FS_dallas_gym_venues)"
   ]
  },
  {
   "cell_type": "code",
   "execution_count": null,
   "id": "filled-intellectual",
   "metadata": {},
   "outputs": [],
   "source": [
    "#Normalize json list result so it can be treated as a dataframe\n",
    "FS_dallas_gym_df=json_normalize(FS_dallas_gym_list)"
   ]
  },
  {
   "cell_type": "code",
   "execution_count": null,
   "id": "statutory-survey",
   "metadata": {},
   "outputs": [],
   "source": [
    "FS_dallas_gym_df.info()"
   ]
  },
  {
   "cell_type": "code",
   "execution_count": null,
   "id": "finnish-boundary",
   "metadata": {},
   "outputs": [],
   "source": [
    "#Clean dataset by dropping duplicate results\n",
    "FS_dallas_gym_df.drop_duplicates(subset='id',inplace=True)"
   ]
  },
  {
   "cell_type": "code",
   "execution_count": null,
   "id": "desirable-recognition",
   "metadata": {},
   "outputs": [],
   "source": [
    "#Clean dataset by pulling out category names from the list in each row, and only pulling relevant name and location results\n",
    "filtered_dallas_gym_columns = ['name', 'categories'] + [col for col in FS_dallas_gym_df.columns if col.startswith('location.')] + ['id']\n",
    "dallas_gym_filtered = FS_dallas_gym_df.loc[:, filtered_dallas_gym_columns]\n",
    "\n",
    "dallas_gym_filtered['categories'] = dallas_gym_filtered.apply(get_category_type, axis=1)"
   ]
  },
  {
   "cell_type": "code",
   "execution_count": null,
   "id": "unlike-casting",
   "metadata": {},
   "outputs": [],
   "source": [
    "dallas_gym_filtered.head()"
   ]
  },
  {
   "cell_type": "code",
   "execution_count": null,
   "id": "designed-ground",
   "metadata": {
    "scrolled": false
   },
   "outputs": [],
   "source": [
    "dallas_gym_filtered.info()"
   ]
  },
  {
   "cell_type": "code",
   "execution_count": null,
   "id": "fitting-librarian",
   "metadata": {},
   "outputs": [],
   "source": [
    "#Clean column names\n",
    "dallas_gym_filtered.columns = [column.split('.')[-1] for column in dallas_gym_filtered.columns]"
   ]
  },
  {
   "cell_type": "code",
   "execution_count": null,
   "id": "green-kelly",
   "metadata": {},
   "outputs": [],
   "source": [
    "dallas_gym_gpd_input=dallas_gym_filtered.drop(columns=['labeledLatLngs','formattedAddress'])"
   ]
  },
  {
   "cell_type": "code",
   "execution_count": null,
   "id": "light-addiction",
   "metadata": {},
   "outputs": [],
   "source": [
    "dallas_gym_gpd=gpd.GeoDataFrame(dallas_gym_gpd_input, geometry=gpd.points_from_xy(dallas_gym_gpd_input.lng,\n",
    "                                                                   dallas_gym_gpd_input.lat)\n",
    "                                )"
   ]
  },
  {
   "cell_type": "code",
   "execution_count": null,
   "id": "educated-catalyst",
   "metadata": {},
   "outputs": [],
   "source": [
    "#Save File as GeoJSON\n",
    "dallas_gym_gpd.to_file(\"dallas_gym_gpd_gjson.geojson\", driver='GeoJSON')"
   ]
  },
  {
   "cell_type": "code",
   "execution_count": null,
   "id": "super-power",
   "metadata": {},
   "outputs": [],
   "source": [
    "#Create Function to Read GeoJSON Back in\n",
    "dallas_gym_gpd.to_file(\"dallas_gym_gpd_gjson.geojson\", driver='GeoJSON')\n",
    "dallas_gym_gpd_gjson = gpd.read_file(\"dallas_gym_gpd_gjson.geojson\", driver='GeoJSON')"
   ]
  },
  {
   "cell_type": "code",
   "execution_count": null,
   "id": "worldwide-calculator",
   "metadata": {},
   "outputs": [],
   "source": [
    "#Save File as CSV\n",
    "dallas_gym_filtered.to_csv('dallas_gym_filtered_csv.csv')"
   ]
  },
  {
   "cell_type": "markdown",
   "id": "finished-marker",
   "metadata": {},
   "source": [
    "#### *Park Query*"
   ]
  },
  {
   "cell_type": "code",
   "execution_count": null,
   "id": "cross-madison",
   "metadata": {},
   "outputs": [],
   "source": [
    "#Running loop to get Dallas FS park data\n",
    "FS_dallas_park_list = []\n",
    "\n",
    "for v in FS_dallas_list:\n",
    "    FS_dallas_park_url = FS_url.format(\n",
    "    config.FS_CLIENT_ID, \n",
    "    config.FS_CLIENT_SECRET, \n",
    "    v[0], \n",
    "    v[1], \n",
    "    v[2], \n",
    "    FS_LIMIT,\n",
    "    park, \n",
    "    config.FS_ACCESS_TOKEN, \n",
    "    FS_VERSION)\n",
    "    FS_dallas_park_results = requests.get(FS_dallas_park_url).json()\n",
    "    FS_dallas_park_venues = FS_dallas_park_results['response']['venues']\n",
    "    FS_dallas_park_list.extend(FS_dallas_park_venues)"
   ]
  },
  {
   "cell_type": "code",
   "execution_count": null,
   "id": "adolescent-framework",
   "metadata": {},
   "outputs": [],
   "source": [
    "#Normalize json list result so it can be treated as a dataframe\n",
    "FS_dallas_park_df=json_normalize(FS_dallas_park_list)"
   ]
  },
  {
   "cell_type": "code",
   "execution_count": null,
   "id": "continuing-charter",
   "metadata": {},
   "outputs": [],
   "source": [
    "FS_dallas_park_df.info()"
   ]
  },
  {
   "cell_type": "code",
   "execution_count": null,
   "id": "timely-pierre",
   "metadata": {},
   "outputs": [],
   "source": [
    "#Clean dataset by dropping duplicate results\n",
    "FS_dallas_park_df.drop_duplicates(subset='id',inplace=True)"
   ]
  },
  {
   "cell_type": "code",
   "execution_count": null,
   "id": "directed-forest",
   "metadata": {},
   "outputs": [],
   "source": [
    "#Clean dataset by pulling out category names from the list in each row, and only pulling relevant name and location results\n",
    "filtered_dallas_park_columns = ['name', 'categories'] + [col for col in FS_dallas_park_df.columns if col.startswith('location.')] + ['id']\n",
    "dallas_park_filtered = FS_dallas_park_df.loc[:, filtered_dallas_park_columns]\n",
    "\n",
    "dallas_park_filtered['categories'] = dallas_park_filtered.apply(get_category_type, axis=1)"
   ]
  },
  {
   "cell_type": "code",
   "execution_count": null,
   "id": "black-southwest",
   "metadata": {},
   "outputs": [],
   "source": [
    "dallas_park_filtered.head()"
   ]
  },
  {
   "cell_type": "code",
   "execution_count": null,
   "id": "aerial-sector",
   "metadata": {},
   "outputs": [],
   "source": [
    "dallas_park_filtered.info()"
   ]
  },
  {
   "cell_type": "code",
   "execution_count": null,
   "id": "sound-clinton",
   "metadata": {},
   "outputs": [],
   "source": [
    "#Clean column names\n",
    "dallas_park_filtered.columns = [column.split('.')[-1] for column in dallas_park_filtered.columns]"
   ]
  },
  {
   "cell_type": "code",
   "execution_count": null,
   "id": "double-arbitration",
   "metadata": {},
   "outputs": [],
   "source": [
    "dallas_park_gpd_input=dallas_park_filtered.drop(columns=['labeledLatLngs','formattedAddress'])"
   ]
  },
  {
   "cell_type": "code",
   "execution_count": null,
   "id": "biological-adapter",
   "metadata": {},
   "outputs": [],
   "source": [
    "dallas_park_gpd=gpd.GeoDataFrame(dallas_park_gpd_input, geometry=gpd.points_from_xy(dallas_park_gpd_input.lng,\n",
    "                                                                   dallas_park_gpd_input.lat)\n",
    "                                )"
   ]
  },
  {
   "cell_type": "code",
   "execution_count": null,
   "id": "affecting-woman",
   "metadata": {},
   "outputs": [],
   "source": [
    "#Save File as GeoJSON\n",
    "dallas_park_gpd.to_file(\"dallas_park_gpd_gjson.geojson\", driver='GeoJSON')"
   ]
  },
  {
   "cell_type": "code",
   "execution_count": null,
   "id": "frozen-archive",
   "metadata": {},
   "outputs": [],
   "source": [
    "#Create Function to Read GeoJSON Back in\n",
    "dallas_park_gpd_gjson = gpd.read_file(\"dallas_park_gpd_gjson.geojson\", driver='GeoJSON')"
   ]
  },
  {
   "cell_type": "code",
   "execution_count": null,
   "id": "military-accused",
   "metadata": {},
   "outputs": [],
   "source": [
    "#Save File as CSV\n",
    "dallas_park_filtered.to_csv('dallas_park_filtered_csv.csv')"
   ]
  },
  {
   "cell_type": "markdown",
   "id": "welsh-batch",
   "metadata": {},
   "source": [
    "---\n",
    "## Foursquare: Adding to Large Datasets\n",
    "\n",
    "##### *Dallas*\n",
    "---"
   ]
  },
  {
   "cell_type": "code",
   "execution_count": null,
   "id": "rough-performance",
   "metadata": {},
   "outputs": [],
   "source": [
    "def percap (x,y):\n",
    "    return (x/y)"
   ]
  },
  {
   "cell_type": "code",
   "execution_count": null,
   "id": "pressing-fleet",
   "metadata": {},
   "outputs": [],
   "source": [
    "#Add number of gyms and parks to dataframes"
   ]
  },
  {
   "cell_type": "code",
   "execution_count": null,
   "id": "solar-cable",
   "metadata": {},
   "outputs": [],
   "source": [
    "dallas_gym_points_merge = gpd.sjoin(dallas_gym_gpd_gjson,tract_merge_4326)"
   ]
  },
  {
   "cell_type": "code",
   "execution_count": null,
   "id": "hybrid-cigarette",
   "metadata": {},
   "outputs": [],
   "source": [
    "dallas_gym_points_merge=dallas_gym_points_merge[['id',\n",
    "                             'name',\n",
    "                             'geometry',\n",
    "                             'GISJOIN']]"
   ]
  },
  {
   "cell_type": "code",
   "execution_count": null,
   "id": "professional-there",
   "metadata": {},
   "outputs": [],
   "source": [
    "dallas_gym_points_merge.info()"
   ]
  },
  {
   "cell_type": "code",
   "execution_count": null,
   "id": "metric-smith",
   "metadata": {},
   "outputs": [],
   "source": [
    "dallas_gym_counts=(dallas_gym_points_merge.pivot_table(index=['GISJOIN'], aggfunc='size'))"
   ]
  },
  {
   "cell_type": "code",
   "execution_count": null,
   "id": "velvet-california",
   "metadata": {},
   "outputs": [],
   "source": [
    "dallas_gym_counts=dallas_gym_counts.to_frame()"
   ]
  },
  {
   "cell_type": "code",
   "execution_count": null,
   "id": "vocational-invalid",
   "metadata": {},
   "outputs": [],
   "source": [
    "dallas_gym_counts=dallas_gym_counts.rename({0:'Number of Gyms'}, axis=\"columns\")"
   ]
  },
  {
   "cell_type": "code",
   "execution_count": null,
   "id": "varying-earthquake",
   "metadata": {},
   "outputs": [],
   "source": [
    "dallas_join_tract_4326_gjson=dallas_join_tract_4326_gjson.rename({'GISJOIN_left':'GISJOIN'}, axis=\"columns\")"
   ]
  },
  {
   "cell_type": "code",
   "execution_count": null,
   "id": "mineral-spread",
   "metadata": {},
   "outputs": [],
   "source": [
    "dallas_gym_counts_merge = dallas_join_tract_4326_gjson.merge(dallas_gym_counts, how='left', on='GISJOIN')"
   ]
  },
  {
   "cell_type": "code",
   "execution_count": null,
   "id": "quick-warren",
   "metadata": {},
   "outputs": [],
   "source": [
    "dallas_gym_counts_merge['Number of Gyms'] = dallas_gym_counts_merge['Number of Gyms'].fillna(0)"
   ]
  },
  {
   "cell_type": "code",
   "execution_count": null,
   "id": "behavioral-whale",
   "metadata": {},
   "outputs": [],
   "source": []
  },
  {
   "cell_type": "code",
   "execution_count": null,
   "id": "graduate-metallic",
   "metadata": {},
   "outputs": [],
   "source": [
    "dallas_park_points_merge = gpd.sjoin(dallas_park_gpd_gjson,tract_merge_4326)"
   ]
  },
  {
   "cell_type": "code",
   "execution_count": null,
   "id": "automatic-single",
   "metadata": {},
   "outputs": [],
   "source": [
    "dallas_park_points_merge=dallas_park_points_merge[['id',\n",
    "                             'name',\n",
    "                             'geometry',\n",
    "                             'GISJOIN']]"
   ]
  },
  {
   "cell_type": "code",
   "execution_count": null,
   "id": "suburban-norman",
   "metadata": {},
   "outputs": [],
   "source": [
    "dallas_park_points_merge.info()"
   ]
  },
  {
   "cell_type": "code",
   "execution_count": null,
   "id": "lined-average",
   "metadata": {},
   "outputs": [],
   "source": [
    "dallas_park_counts=(dallas_park_points_merge.pivot_table(index=['GISJOIN'], aggfunc='size'))"
   ]
  },
  {
   "cell_type": "code",
   "execution_count": null,
   "id": "specific-forth",
   "metadata": {},
   "outputs": [],
   "source": [
    "dallas_park_counts=dallas_park_counts.to_frame()"
   ]
  },
  {
   "cell_type": "code",
   "execution_count": null,
   "id": "optical-compression",
   "metadata": {},
   "outputs": [],
   "source": [
    "dallas_park_counts=dallas_park_counts.rename({0:'Number of Parks'}, axis=\"columns\")"
   ]
  },
  {
   "cell_type": "code",
   "execution_count": null,
   "id": "likely-miami",
   "metadata": {},
   "outputs": [],
   "source": [
    "dallas_gym_park_counts_merge = dallas_gym_counts_merge.merge(dallas_park_counts, how='left', on='GISJOIN')"
   ]
  },
  {
   "cell_type": "code",
   "execution_count": null,
   "id": "specialized-process",
   "metadata": {},
   "outputs": [],
   "source": [
    "dallas_gym_park_counts_merge['Number of Parks'] = dallas_gym_park_counts_merge['Number of Parks'].fillna(0)"
   ]
  },
  {
   "cell_type": "code",
   "execution_count": null,
   "id": "classified-racing",
   "metadata": {},
   "outputs": [],
   "source": [
    "dallas_gym_park_counts_merge['Gyms per Capita'] = percap(dallas_gym_park_counts_merge['Number of Gyms'],\n",
    "                                                          dallas_gym_park_counts_merge['Total Tract Pop'])\n",
    "\n",
    "dallas_gym_park_counts_merge['Parks per Capita'] = percap(dallas_gym_park_counts_merge['Number of Parks'],\n",
    "                                                          dallas_gym_park_counts_merge['Total Tract Pop'])"
   ]
  },
  {
   "cell_type": "code",
   "execution_count": null,
   "id": "provincial-malta",
   "metadata": {},
   "outputs": [],
   "source": [
    "dallas_gym_park_counts_merge['Gyms per sq km'] = popdens(dallas_gym_park_counts_merge['Number of Gyms'],\n",
    "                                                          dallas_gym_park_counts_merge['Land Area_left'])\n",
    "\n",
    "dallas_gym_park_counts_merge['Parks per sq km'] = popdens(dallas_gym_park_counts_merge['Number of Parks'],\n",
    "                                                          dallas_gym_park_counts_merge['Land Area_left'])"
   ]
  },
  {
   "cell_type": "code",
   "execution_count": null,
   "id": "celtic-longer",
   "metadata": {},
   "outputs": [],
   "source": []
  },
  {
   "cell_type": "code",
   "execution_count": null,
   "id": "african-research",
   "metadata": {},
   "outputs": [],
   "source": [
    "houston_gym_points_merge = gpd.sjoin(houston_gym_gpd_gjson,tract_merge_4326)"
   ]
  },
  {
   "cell_type": "code",
   "execution_count": null,
   "id": "posted-whale",
   "metadata": {},
   "outputs": [],
   "source": [
    "houston_gym_points_merge=houston_gym_points_merge[['id',\n",
    "                             'name',\n",
    "                             'geometry',\n",
    "                             'GISJOIN']]"
   ]
  },
  {
   "cell_type": "code",
   "execution_count": null,
   "id": "roman-technology",
   "metadata": {},
   "outputs": [],
   "source": [
    "houston_gym_points_merge.info()"
   ]
  },
  {
   "cell_type": "code",
   "execution_count": null,
   "id": "finished-sunglasses",
   "metadata": {},
   "outputs": [],
   "source": [
    "houston_gym_counts=(houston_gym_points_merge.pivot_table(index=['GISJOIN'], aggfunc='size'))"
   ]
  },
  {
   "cell_type": "code",
   "execution_count": null,
   "id": "excited-jordan",
   "metadata": {},
   "outputs": [],
   "source": [
    "houston_gym_counts=houston_gym_counts.to_frame()"
   ]
  },
  {
   "cell_type": "code",
   "execution_count": null,
   "id": "worse-drilling",
   "metadata": {},
   "outputs": [],
   "source": [
    "houston_gym_counts=houston_gym_counts.rename({0:'Number of Gyms'}, axis=\"columns\")"
   ]
  },
  {
   "cell_type": "code",
   "execution_count": null,
   "id": "included-prophet",
   "metadata": {},
   "outputs": [],
   "source": [
    "houston_join_tract_4326_gjson=houston_join_tract_4326_gjson.rename({'GISJOIN_left':'GISJOIN'}, axis=\"columns\")"
   ]
  },
  {
   "cell_type": "code",
   "execution_count": null,
   "id": "seven-recipient",
   "metadata": {},
   "outputs": [],
   "source": [
    "houston_gym_counts_merge = houston_join_tract_4326_gjson.merge(houston_gym_counts, how='left', on='GISJOIN')"
   ]
  },
  {
   "cell_type": "code",
   "execution_count": null,
   "id": "floppy-brunei",
   "metadata": {},
   "outputs": [],
   "source": [
    "houston_gym_counts_merge['Number of Gyms'] = houston_gym_counts_merge['Number of Gyms'].fillna(0)"
   ]
  },
  {
   "cell_type": "code",
   "execution_count": null,
   "id": "seeing-leeds",
   "metadata": {},
   "outputs": [],
   "source": []
  },
  {
   "cell_type": "code",
   "execution_count": null,
   "id": "intended-dictionary",
   "metadata": {},
   "outputs": [],
   "source": [
    "houston_park_points_merge = gpd.sjoin(houston_park_gpd_gjson,tract_merge_4326)"
   ]
  },
  {
   "cell_type": "code",
   "execution_count": null,
   "id": "crucial-machinery",
   "metadata": {},
   "outputs": [],
   "source": [
    "houston_park_points_merge=houston_park_points_merge[['id',\n",
    "                             'name',\n",
    "                             'geometry',\n",
    "                             'GISJOIN']]"
   ]
  },
  {
   "cell_type": "code",
   "execution_count": null,
   "id": "elect-purple",
   "metadata": {},
   "outputs": [],
   "source": [
    "houston_park_points_merge.info()"
   ]
  },
  {
   "cell_type": "code",
   "execution_count": null,
   "id": "fantastic-humidity",
   "metadata": {},
   "outputs": [],
   "source": [
    "houston_park_counts=(houston_park_points_merge.pivot_table(index=['GISJOIN'], aggfunc='size'))"
   ]
  },
  {
   "cell_type": "code",
   "execution_count": null,
   "id": "thermal-tamil",
   "metadata": {},
   "outputs": [],
   "source": [
    "houston_park_counts=houston_park_counts.to_frame()"
   ]
  },
  {
   "cell_type": "code",
   "execution_count": null,
   "id": "polished-brook",
   "metadata": {},
   "outputs": [],
   "source": [
    "houston_park_counts=houston_park_counts.rename({0:'Number of Parks'}, axis=\"columns\")"
   ]
  },
  {
   "cell_type": "code",
   "execution_count": null,
   "id": "abroad-butler",
   "metadata": {},
   "outputs": [],
   "source": [
    "houston_gym_park_counts_merge = houston_gym_counts_merge.merge(houston_park_counts, how='left', on='GISJOIN')"
   ]
  },
  {
   "cell_type": "code",
   "execution_count": null,
   "id": "saved-twenty",
   "metadata": {},
   "outputs": [],
   "source": [
    "houston_gym_park_counts_merge['Number of Parks'] = houston_gym_park_counts_merge['Number of Parks'].fillna(0)"
   ]
  },
  {
   "cell_type": "code",
   "execution_count": null,
   "id": "revised-canadian",
   "metadata": {},
   "outputs": [],
   "source": [
    "houston_gym_park_counts_merge['Gyms per Capita'] = percap(houston_gym_park_counts_merge['Number of Gyms'],\n",
    "                                                          houston_gym_park_counts_merge['Total Tract Pop'])\n",
    "\n",
    "houston_gym_park_counts_merge['Parks per Capita'] = percap(houston_gym_park_counts_merge['Number of Parks'],\n",
    "                                                          houston_gym_park_counts_merge['Total Tract Pop'])"
   ]
  },
  {
   "cell_type": "code",
   "execution_count": null,
   "id": "intermediate-employee",
   "metadata": {},
   "outputs": [],
   "source": [
    "houston_gym_park_counts_merge['Gyms per sq km'] = popdens(houston_gym_park_counts_merge['Number of Gyms'],\n",
    "                                                          houston_gym_park_counts_merge['Land Area_left'])\n",
    "\n",
    "houston_gym_park_counts_merge['Parks per sq km'] = popdens(houston_gym_park_counts_merge['Number of Parks'],\n",
    "                                                          houston_gym_park_counts_merge['Land Area_left'])"
   ]
  },
  {
   "cell_type": "markdown",
   "id": "catholic-marathon",
   "metadata": {},
   "source": [
    "---\n",
    "## Looking at Correlation and other Statistical Analyses\n",
    "\n",
    "##### Houston\n",
    "---"
   ]
  },
  {
   "cell_type": "code",
   "execution_count": null,
   "id": "narrative-midwest",
   "metadata": {},
   "outputs": [],
   "source": [
    "from scipy.stats import kendalltau, pearsonr, spearmanr\n",
    "\n",
    "def kendall_pval(x,y):\n",
    "    return kendalltau(x,y)[1]\n",
    "    \n",
    "def pearsonr_pval(x,y):\n",
    "    return pearsonr(x,y)[1]\n",
    "    \n",
    "def spearmanr_pval(x,y):\n",
    "    return spearmanr(x,y)[1]"
   ]
  },
  {
   "cell_type": "code",
   "execution_count": null,
   "id": "annoying-chance",
   "metadata": {},
   "outputs": [],
   "source": [
    "#Create Z-Score Columns\n",
    "houston_gym_park_counts_merge['Z Pop Density per sq km']=((houston_gym_park_counts_merge['Pop Density per sq km']-\n",
    "                                                         houston_gym_park_counts_merge['Pop Density per sq km'].mean())/\n",
    "                                                         (houston_gym_park_counts_merge['Pop Density per sq km'].std()))\n",
    "\n",
    "houston_gym_park_counts_merge['Z Total Tract Median Age']=((houston_gym_park_counts_merge['Total Tract Median Age']-\n",
    "                                                         houston_gym_park_counts_merge['Total Tract Median Age'].mean())/\n",
    "                                                         (houston_gym_park_counts_merge['Total Tract Median Age'].std()))\n",
    "\n",
    "houston_gym_park_counts_merge['Z Tract Median Age M']=((houston_gym_park_counts_merge['Tract Median Age M']-\n",
    "                                                         houston_gym_park_counts_merge['Tract Median Age M'].mean())/\n",
    "                                                         (houston_gym_park_counts_merge['Tract Median Age M'].std()))\n",
    "\n",
    "houston_gym_park_counts_merge['Z Tract Median Age F']=((houston_gym_park_counts_merge['Tract Median Age F']-\n",
    "                                                         houston_gym_park_counts_merge['Tract Median Age F'].mean())/\n",
    "                                                         (houston_gym_park_counts_merge['Tract Median Age F'].std()))\n",
    "\n",
    "houston_gym_park_counts_merge['Z Tract Per Capita Income - 12 Months']=((houston_gym_park_counts_merge['Tract Per Capita Income - 12 Months']-\n",
    "                                                         houston_gym_park_counts_merge['Tract Per Capita Income - 12 Months'].mean())/\n",
    "                                                         (houston_gym_park_counts_merge['Tract Per Capita Income - 12 Months'].std()))\n",
    "\n",
    "houston_gym_park_counts_merge['Z Tract Percentage White']=((houston_gym_park_counts_merge['Tract Percentage White']-\n",
    "                                                         houston_gym_park_counts_merge['Tract Percentage White'].mean())/\n",
    "                                                         (houston_gym_park_counts_merge['Tract Percentage White'].std()))\n",
    "\n",
    "houston_gym_park_counts_merge['Z Tract Percentage Black or African American']=((houston_gym_park_counts_merge['Tract Percentage Black or African American']-\n",
    "                                                         houston_gym_park_counts_merge['Tract Percentage Black or African American'].mean())/\n",
    "                                                         (houston_gym_park_counts_merge['Tract Percentage Black or African American'].std()))\n",
    "\n",
    "houston_gym_park_counts_merge['Z Tract Percentage Asian']=((houston_gym_park_counts_merge['Tract Percentage Asian']-\n",
    "                                                         houston_gym_park_counts_merge['Tract Percentage Asian'].mean())/\n",
    "                                                         (houston_gym_park_counts_merge['Tract Percentage Asian'].std()))\n",
    "\n",
    "houston_gym_park_counts_merge['Z Gyms per Capita']=((houston_gym_park_counts_merge['Gyms per Capita']-\n",
    "                                                         houston_gym_park_counts_merge['Gyms per Capita'].mean())/\n",
    "                                                         (houston_gym_park_counts_merge['Gyms per Capita'].std()))\n",
    "\n",
    "houston_gym_park_counts_merge['Z Gyms per sq km']=((houston_gym_park_counts_merge['Gyms per sq km']-\n",
    "                                                         houston_gym_park_counts_merge['Gyms per sq km'].mean())/\n",
    "                                                         (houston_gym_park_counts_merge['Gyms per sq km'].std()))\n",
    "\n",
    "houston_gym_park_counts_merge['Z Parks per Capita']=((houston_gym_park_counts_merge['Parks per Capita']-\n",
    "                                                         houston_gym_park_counts_merge['Parks per Capita'].mean())/\n",
    "                                                         (houston_gym_park_counts_merge['Parks per Capita'].std()))\n",
    "\n",
    "houston_gym_park_counts_merge['Z Parks per sq km']=((houston_gym_park_counts_merge['Parks per sq km']-\n",
    "                                                         houston_gym_park_counts_merge['Parks per sq km'].mean())/\n",
    "                                                         (houston_gym_park_counts_merge['Parks per sq km'].std()))"
   ]
  },
  {
   "cell_type": "code",
   "execution_count": null,
   "id": "headed-swift",
   "metadata": {},
   "outputs": [],
   "source": []
  },
  {
   "cell_type": "code",
   "execution_count": null,
   "id": "bottom-michael",
   "metadata": {},
   "outputs": [],
   "source": [
    "houston_corr_coeff=houston_gym_park_counts_merge[['Pop Density per sq km',\n",
    "                                                  'Total Tract Median Age',\n",
    "                                                  'Tract Per Capita Income - 12 Months',\n",
    "                                                  'Tract Percentage White',\n",
    "                                                  'Number of Gyms',\n",
    "                                                  'Number of Parks']].corr(method=pearsonr_pval)\n",
    "houston_corr_coeff"
   ]
  },
  {
   "cell_type": "code",
   "execution_count": null,
   "id": "primary-friendship",
   "metadata": {},
   "outputs": [],
   "source": [
    "fig, ax = plt.subplots()\n",
    "im = ax.pcolor(houston_corr_coeff, cmap='RdBu', vmin=-1, vmax=1)\n",
    "\n",
    "#label names\n",
    "row_labels = houston_corr_coeff.columns\n",
    "col_labels = houston_corr_coeff.index\n",
    "\n",
    "#move ticks and labels to the center\n",
    "ax.set_xticks(np.arange(len(houston_corr_coeff)))\n",
    "ax.set_yticks(np.arange(len(houston_corr_coeff)))\n",
    "\n",
    "#insert labels\n",
    "ax.set_xticklabels(row_labels)\n",
    "ax.set_yticklabels(col_labels)\n",
    "\n",
    "#rotate label if too long\n",
    "plt.setp(ax.get_xticklabels(), rotation=45, ha=\"right\", rotation_mode=\"anchor\")\n",
    "\n",
    "#set title\n",
    "plt.title(label=\"Houston Correlation Heatmap\")\n",
    "\n",
    "fig.colorbar(im)\n",
    "plt.show()\n",
    "#fig.savefig(\"HoustonHeat.png\")"
   ]
  },
  {
   "cell_type": "code",
   "execution_count": null,
   "id": "natural-football",
   "metadata": {},
   "outputs": [],
   "source": [
    "z_houston_corr_coeff=houston_gym_park_counts_merge[['Z Pop Density per sq km',\n",
    "                               'Z Total Tract Median Age',\n",
    "                               'Z Tract Median Age M',\n",
    "                               'Z Tract Median Age F',\n",
    "                               'Z Tract Per Capita Income - 12 Months',\n",
    "                               'Z Tract Percentage White',\n",
    "                               'Z Tract Percentage Black or African American',\n",
    "                               'Z Tract Percentage Asian',\n",
    "                               'Z Gyms per Capita',\n",
    "                               'Z Gyms per sq km',\n",
    "                               'Z Parks per Capita',\n",
    "                               'Z Parks per sq km']].corr()\n",
    "z_houston_corr_coeff"
   ]
  },
  {
   "cell_type": "code",
   "execution_count": null,
   "id": "horizontal-yukon",
   "metadata": {},
   "outputs": [],
   "source": [
    "houston_p_values=houston_gym_park_counts_merge[['Pop Density per sq km',\n",
    "                               'Total Tract Median Age',\n",
    "                               'Tract Median Age M',\n",
    "                               'Tract Median Age F',\n",
    "                               'Tract Per Capita Income - 12 Months',\n",
    "                               'Tract Percentage White',\n",
    "                               'Tract Percentage Black or African American',\n",
    "                               'Tract Percentage Asian',\n",
    "                               'Gyms per Capita',\n",
    "                               'Gyms per sq km',\n",
    "                               'Parks per Capita',\n",
    "                               'Parks per sq km']].corr(method=pearsonr_pval)\n",
    "houston_p_values"
   ]
  },
  {
   "cell_type": "code",
   "execution_count": null,
   "id": "careful-cosmetic",
   "metadata": {},
   "outputs": [],
   "source": [
    "houston_describe=houston_gym_park_counts_merge.describe(include=[np.number])\n",
    "houston_describe"
   ]
  },
  {
   "cell_type": "code",
   "execution_count": null,
   "id": "accomplished-qualification",
   "metadata": {},
   "outputs": [],
   "source": [
    "#Save Final Houston GeoDataframe to GJSON and create function to read it back in\n",
    "houston_gym_park_counts_merge.to_file(\"houston_gym_park_counts_merge_gjson.geojson\", driver='GeoJSON')\n",
    "houston_gym_park_counts_merge_gjson = gpd.read_file(\"houston_gym_park_counts_merge_gjson.geojson\", driver='GeoJSON')"
   ]
  },
  {
   "cell_type": "markdown",
   "id": "amended-above",
   "metadata": {},
   "source": [
    "---\n",
    "## Looking at Correlation and other Statistical Analyses\n",
    "\n",
    "##### Dallas\n",
    "---"
   ]
  },
  {
   "cell_type": "code",
   "execution_count": null,
   "id": "adjustable-toyota",
   "metadata": {},
   "outputs": [],
   "source": [
    "#Create Z-Score Columns\n",
    "dallas_gym_park_counts_merge['Z Pop Density per sq km']=((dallas_gym_park_counts_merge['Pop Density per sq km']-\n",
    "                                                         dallas_gym_park_counts_merge['Pop Density per sq km'].mean())/\n",
    "                                                         (dallas_gym_park_counts_merge['Pop Density per sq km'].std()))\n",
    "\n",
    "dallas_gym_park_counts_merge['Z Total Tract Median Age']=((dallas_gym_park_counts_merge['Total Tract Median Age']-\n",
    "                                                         dallas_gym_park_counts_merge['Total Tract Median Age'].mean())/\n",
    "                                                         (dallas_gym_park_counts_merge['Total Tract Median Age'].std()))\n",
    "\n",
    "dallas_gym_park_counts_merge['Z Tract Median Age M']=((dallas_gym_park_counts_merge['Tract Median Age M']-\n",
    "                                                         dallas_gym_park_counts_merge['Tract Median Age M'].mean())/\n",
    "                                                         (dallas_gym_park_counts_merge['Tract Median Age M'].std()))\n",
    "\n",
    "dallas_gym_park_counts_merge['Z Tract Median Age F']=((dallas_gym_park_counts_merge['Tract Median Age F']-\n",
    "                                                         dallas_gym_park_counts_merge['Tract Median Age F'].mean())/\n",
    "                                                         (dallas_gym_park_counts_merge['Tract Median Age F'].std()))\n",
    "\n",
    "dallas_gym_park_counts_merge['Z Tract Per Capita Income - 12 Months']=((dallas_gym_park_counts_merge['Tract Per Capita Income - 12 Months']-\n",
    "                                                         dallas_gym_park_counts_merge['Tract Per Capita Income - 12 Months'].mean())/\n",
    "                                                         (dallas_gym_park_counts_merge['Tract Per Capita Income - 12 Months'].std()))\n",
    "\n",
    "dallas_gym_park_counts_merge['Z Tract Percentage White']=((dallas_gym_park_counts_merge['Tract Percentage White']-\n",
    "                                                         dallas_gym_park_counts_merge['Tract Percentage White'].mean())/\n",
    "                                                         (dallas_gym_park_counts_merge['Tract Percentage White'].std()))\n",
    "\n",
    "dallas_gym_park_counts_merge['Z Tract Percentage Black or African American']=((dallas_gym_park_counts_merge['Tract Percentage Black or African American']-\n",
    "                                                         dallas_gym_park_counts_merge['Tract Percentage Black or African American'].mean())/\n",
    "                                                         (dallas_gym_park_counts_merge['Tract Percentage Black or African American'].std()))\n",
    "\n",
    "dallas_gym_park_counts_merge['Z Tract Percentage Asian']=((dallas_gym_park_counts_merge['Tract Percentage Asian']-\n",
    "                                                         dallas_gym_park_counts_merge['Tract Percentage Asian'].mean())/\n",
    "                                                         (dallas_gym_park_counts_merge['Tract Percentage Asian'].std()))\n",
    "\n",
    "dallas_gym_park_counts_merge['Z Gyms per Capita']=((dallas_gym_park_counts_merge['Gyms per Capita']-\n",
    "                                                         dallas_gym_park_counts_merge['Gyms per Capita'].mean())/\n",
    "                                                         (dallas_gym_park_counts_merge['Gyms per Capita'].std()))\n",
    "\n",
    "dallas_gym_park_counts_merge['Z Gyms per sq km']=((dallas_gym_park_counts_merge['Gyms per sq km']-\n",
    "                                                         dallas_gym_park_counts_merge['Gyms per sq km'].mean())/\n",
    "                                                         (dallas_gym_park_counts_merge['Gyms per sq km'].std()))\n",
    "\n",
    "dallas_gym_park_counts_merge['Z Parks per Capita']=((dallas_gym_park_counts_merge['Parks per Capita']-\n",
    "                                                         dallas_gym_park_counts_merge['Parks per Capita'].mean())/\n",
    "                                                         (dallas_gym_park_counts_merge['Parks per Capita'].std()))\n",
    "\n",
    "dallas_gym_park_counts_merge['Z Parks per sq km']=((dallas_gym_park_counts_merge['Parks per sq km']-\n",
    "                                                         dallas_gym_park_counts_merge['Parks per sq km'].mean())/\n",
    "                                                         (dallas_gym_park_counts_merge['Parks per sq km'].std()))\n",
    "\n",
    "dallas_gym_park_counts_merge['Z Total Tract Pop']=((dallas_gym_park_counts_merge['Total Tract Pop']-\n",
    "                                                         dallas_gym_park_counts_merge['Total Tract Pop'].mean())/\n",
    "                                                         (dallas_gym_park_counts_merge['Total Tract Pop'].std()))\n",
    "\n",
    "dallas_gym_park_counts_merge['Z Number of Gyms']=((dallas_gym_park_counts_merge['Number of Gyms']-\n",
    "                                                         dallas_gym_park_counts_merge['Number of Gyms'].mean())/\n",
    "                                                         (dallas_gym_park_counts_merge['Number of Gyms'].std()))\n",
    "\n",
    "dallas_gym_park_counts_merge['Z Number of Parks']=((dallas_gym_park_counts_merge['Number of Parks']-\n",
    "                                                         dallas_gym_park_counts_merge['Number of Parks'].mean())/\n",
    "                                                         (dallas_gym_park_counts_merge['Number of Parks'].std()))\n",
    "\n",
    "dallas_gym_park_counts_merge['Z Land Area']=((dallas_gym_park_counts_merge['Land Area_left']-\n",
    "                                                         dallas_gym_park_counts_merge['Land Area_left'].mean())/\n",
    "                                                         (dallas_gym_park_counts_merge['Land Area_left'].std()))"
   ]
  },
  {
   "cell_type": "code",
   "execution_count": null,
   "id": "regulated-therapy",
   "metadata": {
    "scrolled": false
   },
   "outputs": [],
   "source": [
    "z_dallas_corr_coeff=dallas_gym_park_counts_merge[['Z Total Tract Pop',\n",
    "                                                  'Z Total Tract Median Age',\n",
    "                                                  'Z Tract Median Age M',\n",
    "                                                  'Z Tract Median Age F',\n",
    "                                                  'Z Tract Per Capita Income - 12 Months',\n",
    "                                                  'Z Tract Percentage White',\n",
    "                                                  'Z Tract Percentage Black or African American',\n",
    "                                                  'Z Tract Percentage Asian',\n",
    "                                                  'Z Number of Gyms',\n",
    "                                                  'Z Number of Parks',\n",
    "                                                  'Z Land Area']].corr()\n",
    "z_dallas_corr_coeff"
   ]
  },
  {
   "cell_type": "code",
   "execution_count": null,
   "id": "breeding-server",
   "metadata": {},
   "outputs": [],
   "source": []
  },
  {
   "cell_type": "code",
   "execution_count": null,
   "id": "neither-scottish",
   "metadata": {},
   "outputs": [],
   "source": [
    "plt.figure(figsize=(15, 10))\n",
    "\n",
    "sns.set(font_scale=1.5)\n",
    "sns.set_style('whitegrid')\n",
    "\n",
    "ax=sns.regplot(x='Z Tract Per Capita Income - 12 Months', \n",
    "               y='Z Total Tract Median Age', \n",
    "               data=dallas_gym_park_counts_merge,\n",
    "               color='green',\n",
    "               marker='+',\n",
    "               scatter_kws={'s': 200})\n",
    "\n",
    "ax.set(xlabel='Per Capita Income (Z-Score)', \n",
    "       ylabel='Median Age (Z-Score)')\n",
    "\n",
    "ax.set(xlim=(-1,6),\n",
    "       ylim=(-3,5))\n",
    "\n",
    "ax.set(title='Regression - Median Age vs. Per Capita Income (Normalized as Z-Scores)')"
   ]
  },
  {
   "cell_type": "code",
   "execution_count": null,
   "id": "italian-going",
   "metadata": {
    "scrolled": true
   },
   "outputs": [],
   "source": [
    "sns.displot(dallas_gym_park_counts_merge, x=\"Tract Per Capita Income - 12 Months\", kind=\"kde\")"
   ]
  },
  {
   "cell_type": "code",
   "execution_count": null,
   "id": "innocent-latter",
   "metadata": {},
   "outputs": [],
   "source": [
    "sns.displot(houston_gym_park_counts_merge, x=\"Tract Per Capita Income - 12 Months\", kind=\"kde\")"
   ]
  },
  {
   "cell_type": "code",
   "execution_count": null,
   "id": "sustainable-survey",
   "metadata": {},
   "outputs": [],
   "source": []
  },
  {
   "cell_type": "code",
   "execution_count": null,
   "id": "generous-arrow",
   "metadata": {
    "scrolled": true
   },
   "outputs": [],
   "source": [
    "fig, ax = plt.subplots()\n",
    "z=dallas_gym_park_counts_merge['Pop Density per sq km']\n",
    "q=houston_gym_park_counts_merge['Pop Density per sq km']\n",
    "for a in [z, q]:\n",
    "    sns.distplot(a, kde=True)\n",
    "ax.set_xlim([0, 20000])\n",
    "fig.legend(labels=['Dallas','Houston'])\n",
    "fig.savefig(\"Pop.png\")"
   ]
  },
  {
   "cell_type": "code",
   "execution_count": null,
   "id": "important-robinson",
   "metadata": {},
   "outputs": [],
   "source": [
    "fig, ax = plt.subplots()\n",
    "z=dallas_gym_park_counts_merge['Tract Per Capita Income - 12 Months']\n",
    "q=houston_gym_park_counts_merge['Tract Per Capita Income - 12 Months']\n",
    "for a in [z, q]:\n",
    "    sns.distplot(a, kde=True)\n",
    "ax.set_xlim([0, 200000])\n",
    "fig.legend(labels=['Dallas','Houston'])\n",
    "fig.savefig(\"Income.png\")"
   ]
  },
  {
   "cell_type": "code",
   "execution_count": null,
   "id": "thick-webster",
   "metadata": {},
   "outputs": [],
   "source": [
    "fig, ax = plt.subplots()\n",
    "z=dallas_gym_park_counts_merge['Total Tract Median Age']\n",
    "q=houston_gym_park_counts_merge['Total Tract Median Age']\n",
    "for a in [z, q]:\n",
    "    sns.distplot(a, kde=True)\n",
    "#ax.set_xlim([0, 200000])\n",
    "fig.legend(labels=['Dallas','Houston'])\n",
    "fig.savefig(\"Age.png\")"
   ]
  },
  {
   "cell_type": "code",
   "execution_count": null,
   "id": "proved-strand",
   "metadata": {},
   "outputs": [],
   "source": [
    "fig, ax = plt.subplots()\n",
    "z=dallas_gym_park_counts_merge['Tract Pop White']\n",
    "q=houston_gym_park_counts_merge['Tract Pop White']\n",
    "for a in [z, q]:\n",
    "    sns.distplot(a, kde=True)\n",
    "#ax.set_xlim([0, 100])\n",
    "fig.legend(labels=['Dallas','Houston'])\n",
    "fig.savefig(\"Whitepop.png\")"
   ]
  },
  {
   "cell_type": "code",
   "execution_count": null,
   "id": "foster-chapter",
   "metadata": {},
   "outputs": [],
   "source": [
    "fig, ax = plt.subplots()\n",
    "z=dallas_gym_park_counts_merge['Tract Pop Black or African American']\n",
    "q=houston_gym_park_counts_merge['Tract Pop Black or African American']\n",
    "for a in [z, q]:\n",
    "    sns.distplot(a, kde=True)\n",
    "#ax.set_xlim([0, 100])\n",
    "fig.legend(labels=['Dallas','Houston'])\n",
    "fig.savefig(\"Blackpop.png\")"
   ]
  },
  {
   "cell_type": "code",
   "execution_count": null,
   "id": "democratic-blowing",
   "metadata": {},
   "outputs": [],
   "source": [
    "fig, ax = plt.subplots()\n",
    "z=dallas_gym_park_counts_merge['Tract Pop Asian']\n",
    "q=houston_gym_park_counts_merge['Tract Pop Asian']\n",
    "for a in [z, q]:\n",
    "    sns.distplot(a, kde=True)\n",
    "#ax.set_xlim([0, 100])\n",
    "fig.legend(labels=['Dallas','Houston'])\n",
    "fig.savefig(\"Asianpop.png\")"
   ]
  },
  {
   "cell_type": "code",
   "execution_count": null,
   "id": "separated-capitol",
   "metadata": {},
   "outputs": [],
   "source": [
    "fig, ax = plt.subplots()\n",
    "z=dallas_gym_park_counts_merge['Tract Percentage Other Race']\n",
    "q=houston_gym_park_counts_merge['Tract Percentage Other Race']\n",
    "for a in [z, q]:\n",
    "    sns.distplot(a, kde=True)\n",
    "#ax.set_xlim([0, 100])\n",
    "fig.legend(labels=['Dallas','Houston'])\n",
    "#fig.savefig(\"OtherRace.png\")"
   ]
  },
  {
   "cell_type": "code",
   "execution_count": null,
   "id": "committed-crawford",
   "metadata": {
    "scrolled": false
   },
   "outputs": [],
   "source": [
    "plt.figure(figsize=(15, 10))\n",
    "\n",
    "#slope, intercept, r_value, p_value, std_err = stats.linregress(tips['total_bill'],tips['tip'])\n",
    "\n",
    "sns.set(font_scale=1.5)\n",
    "sns.set_style('whitegrid')\n",
    "\n",
    "ax=sns.regplot(x='Z Gyms per Capita', \n",
    "               y='Z Tract Per Capita Income - 12 Months', \n",
    "               data=dallas_gym_park_counts_merge,\n",
    "               color='green',\n",
    "               marker='+',\n",
    "               scatter_kws={'s': 200})\n",
    "\n",
    "ax.set(xlabel='Per Capita Gyms (Z-Score)', \n",
    "       ylabel='Per Capita Income (Z-Score)')\n",
    "\n",
    "#ax.set(xlim=(-1,4),\n",
    "#       ylim=(-2,5))\n",
    "\n",
    "ax.set(title='Regression - Per Capita Income vs. Per Capita Gyms (Normalized with Z-Scores)')"
   ]
  },
  {
   "cell_type": "code",
   "execution_count": null,
   "id": "hispanic-drive",
   "metadata": {},
   "outputs": [],
   "source": [
    "for w, b, a, i, o in dallas_gym_park_counts_merge"
   ]
  },
  {
   "cell_type": "code",
   "execution_count": null,
   "id": "numerical-blair",
   "metadata": {},
   "outputs": [],
   "source": [
    "dallas_corr_coeff=dallas_gym_park_counts_merge[['Pop Density per sq km',\n",
    "                               'Total Tract Median Age',\n",
    "                               'Tract Median Age M',\n",
    "                               'Tract Median Age F',\n",
    "                               'Tract Per Capita Income - 12 Months',\n",
    "                               'Tract Percentage White',\n",
    "                               'Tract Percentage Black or African American',\n",
    "                               'Tract Percentage Asian',\n",
    "                               'Gyms per Capita',\n",
    "                               'Gyms per sq km',\n",
    "                               'Parks per Capita',\n",
    "                               'Parks per sq km']].corr()\n",
    "dallas_corr_coeff"
   ]
  },
  {
   "cell_type": "code",
   "execution_count": null,
   "id": "sensitive-restaurant",
   "metadata": {},
   "outputs": [],
   "source": [
    "dallas_describe=dallas_gym_park_counts_merge.describe(include=[np.number])\n",
    "dallas_describe"
   ]
  },
  {
   "cell_type": "code",
   "execution_count": null,
   "id": "virgin-astronomy",
   "metadata": {},
   "outputs": [],
   "source": [
    "#Save Final Dallas GeoDataframe to GJSON and create function to read it back in\n",
    "dallas_gym_park_counts_merge.to_file(\"dallas_gym_park_counts_merge_gjson.geojson\", driver='GeoJSON')\n",
    "dallas_gym_park_counts_merge_gjson = gpd.read_file(\"dallas_gym_park_counts_merge_gjson.geojson\", driver='GeoJSON')"
   ]
  },
  {
   "cell_type": "code",
   "execution_count": null,
   "id": "subjective-potato",
   "metadata": {},
   "outputs": [],
   "source": []
  },
  {
   "cell_type": "markdown",
   "id": "suitable-rendering",
   "metadata": {},
   "source": [
    "---\n",
    "## Maps: Set Up \n",
    "\n",
    "##### *Houston*\n",
    "---"
   ]
  },
  {
   "cell_type": "code",
   "execution_count": null,
   "id": "loose-blackjack",
   "metadata": {},
   "outputs": [],
   "source": [
    "#Look at Quantile values of Income to find a good range for color scale\n",
    "houston_min_income, houston_max_income = houston_join_tract_4326['Tract Per Capita Income - 12 Months'].quantile([0,.95]).apply(lambda x: round(x, 2))\n",
    "houston_mean_income = round(houston_join_tract_4326['Tract Per Capita Income - 12 Months'].mean(),2)\n",
    "print(f\"Min: {houston_min_income}\", f\"Max: {houston_max_income}\", f\"Mean: {houston_mean_income}\", sep=\"\\n\\n\")"
   ]
  },
  {
   "cell_type": "code",
   "execution_count": null,
   "id": "previous-landing",
   "metadata": {},
   "outputs": [],
   "source": [
    "#Set Income Scale\n",
    "houstontractincomecolors = linear.Greens_05.scale(0,\n",
    "                                                   100000)\n",
    "houstontractincomecolors.caption = 'Tract Per Capita Income - Past 12 Months'"
   ]
  },
  {
   "cell_type": "code",
   "execution_count": null,
   "id": "demographic-december",
   "metadata": {},
   "outputs": [],
   "source": []
  },
  {
   "cell_type": "code",
   "execution_count": null,
   "id": "female-tolerance",
   "metadata": {
    "scrolled": true
   },
   "outputs": [],
   "source": [
    "#Look at Quantile values of Population Density to find a good range for color scale\n",
    "houston_min_popdense, houston_max_popdense = houston_join_tract_4326['Pop Density per sq km'].quantile([0.01,.95]).apply(lambda x: round(x, 2))\n",
    "houston_mean_popdense = round(houston_join_tract_4326['Pop Density per sq km'].mean(),2)\n",
    "print(f\"Min: {houston_min_popdense}\", f\"Max: {houston_max_popdense}\", f\"Mean: {houston_mean_popdense}\", sep=\"\\n\\n\")"
   ]
  },
  {
   "cell_type": "code",
   "execution_count": null,
   "id": "given-bankruptcy",
   "metadata": {},
   "outputs": [],
   "source": [
    "#Set Population Density Scale\n",
    "houstontractpopulationcolors = linear.Reds_05.scale(0,\n",
    "                                                   5000)\n",
    "houstontractpopulationcolors.caption = 'Tract Population Density (/sq km)'"
   ]
  },
  {
   "cell_type": "code",
   "execution_count": null,
   "id": "ahead-luxembourg",
   "metadata": {},
   "outputs": [],
   "source": []
  },
  {
   "cell_type": "code",
   "execution_count": null,
   "id": "circular-affect",
   "metadata": {},
   "outputs": [],
   "source": []
  },
  {
   "cell_type": "markdown",
   "id": "fifty-saudi",
   "metadata": {},
   "source": [
    "---\n",
    "## Maps: Generation \n",
    "\n",
    "##### *Houston*\n",
    "---"
   ]
  },
  {
   "cell_type": "markdown",
   "id": "progressive-expense",
   "metadata": {},
   "source": [
    "##### Houston Income"
   ]
  },
  {
   "cell_type": "code",
   "execution_count": null,
   "id": "cross-detroit",
   "metadata": {},
   "outputs": [],
   "source": [
    "#Create map centered on Houston\n",
    "final_houston_map = folium.Map(location=[29.85027,-95.37473],\n",
    "                   tiles=None, height=700, width=1100, zoom_start=10)\n",
    "\n",
    "#Clean Popup Layer\n",
    "houston_tract_popup_layer=folium.GeoJson(houston_gym_park_counts_merge_gjson, \n",
    "       name = 'Simple Tract Outlines',\n",
    "       style_function = lambda feature: {\n",
    "           'color': 'black',\n",
    "           'weight': .35, \n",
    "           'lineOpacity': 1,\n",
    "           'fillColor': 'lightgrey',\n",
    "           'fillOpacity': .8}, \n",
    "       highlight_function=lambda x: {\n",
    "            'color': 'black',\n",
    "            'weight': 2,\n",
    "            'lineOpacity': .8,\n",
    "            'fillColor': 'grey',\n",
    "            'fillOpacity': .5},\n",
    "       tooltip = folium.GeoJsonTooltip(fields=('Tract Area Name', \n",
    "                                               'Tract Per Capita Income - 12 Months',\n",
    "                                               'Pop Density per sq km',\n",
    "                                               'Number of Parks',\n",
    "                                               'Number of Gyms',\n",
    "                                               'Tract Percentage White',\n",
    "                                               'Tract Percentage Black or African American',\n",
    "                                               'Tract Percentage Asian',\n",
    "                                               'Tract Percentage American Indian and Alaskan Native',\n",
    "                                               'Tract Percentage Other Race'),\n",
    "                                       aliases=('Census Tract (#, County Name, State):',\n",
    "                                                'Tract Income (2019 Inflation Adjusted USD):',\n",
    "                                                'Tract Population Density (/sq km):',\n",
    "                                                'Number of Parks:',\n",
    "                                                'Number of Gyms:',\n",
    "                                                'Population % White:',\n",
    "                                                'Population % Black/African American:',\n",
    "                                                'Population % Asian:',\n",
    "                                                'Population % American Indian',\n",
    "                                                'Population % Other'),\n",
    "                                       sticky=True,\n",
    "                                       localize=True),\n",
    "       show = True,\n",
    "       overlay = False,\n",
    "       zoom_on_click = True)\n",
    "folium.TileLayer(tiles='https://server.arcgisonline.com/ArcGIS/rest/services/Canvas/World_Light_Gray_Base/MapServer/tile/{z}/{y}/{x}', \n",
    "                 attr='Tiles &copy; Esri &mdash; Esri, DeLorme, NAVTEQ', \n",
    "                 name='Tract Base').add_to(houston_tract_popup_layer)\n",
    "houston_tract_popup_layer.add_to(final_houston_map)\n",
    "\n",
    "\n",
    "#Tract Income & Population Density Combined\n",
    "houston_pop_income_layer=folium.GeoJson(houston_gym_park_counts_merge_gjson, \n",
    "       name='Per Capita Income & Population Density', \n",
    "       style_function = lambda feature: {\n",
    "           'color': 'black',\n",
    "           'weight': 0, \n",
    "           'fillColor': houstontractpopulationcolors(feature['properties']['Pop Density per sq km']), \n",
    "           'fillOpacity': .5,\n",
    "           'highlight': True}, \n",
    "       overlay = False,\n",
    "       show = True\n",
    "        )\n",
    "folium.GeoJson(houston_gym_park_counts_merge_gjson, \n",
    "       style_function = lambda feature: {\n",
    "           'color': 'black',\n",
    "           'weight': 0, \n",
    "           'fillColor': houstontractincomecolors(feature['properties']['Tract Per Capita Income - 12 Months']), \n",
    "           'fillOpacity': .5,\n",
    "           'highlight': True}, \n",
    "       overlay = False\n",
    "        ).add_to(houston_pop_income_layer)\n",
    "folium.TileLayer(tiles='https://server.arcgisonline.com/ArcGIS/rest/services/Canvas/World_Light_Gray_Base/MapServer/tile/{z}/{y}/{x}', \n",
    "                 attr='Tiles &copy; Esri &mdash; Esri, DeLorme, NAVTEQ', \n",
    "                 name='Tract Base').add_to(houston_pop_income_layer)\n",
    "houston_tract_popup_layer1=folium.GeoJson(houston_gym_park_counts_merge_gjson, \n",
    "       style_function = lambda feature: {\n",
    "           'color': 'black',\n",
    "           'weight': .35, \n",
    "           'fillColor': 'white',\n",
    "           'fillOpacity': 0}, \n",
    "       highlight_function=lambda x: {\n",
    "            'color': 'black',\n",
    "            'weight': 2,\n",
    "            'lineOpacity': .8,\n",
    "            'fillColor': 'grey',\n",
    "            'fillOpacity': .25},\n",
    "       tooltip = folium.GeoJsonTooltip(fields=('Tract Area Name', \n",
    "                                               'Tract Per Capita Income - 12 Months',\n",
    "                                               'Pop Density per sq km',\n",
    "                                               'Number of Parks',\n",
    "                                               'Number of Gyms',\n",
    "                                               'Tract Percentage White',\n",
    "                                               'Tract Percentage Black or African American',\n",
    "                                               'Tract Percentage Asian',\n",
    "                                               'Tract Percentage American Indian and Alaskan Native',\n",
    "                                               'Tract Percentage Other Race'),\n",
    "                                       aliases=('Census Tract (#, County Name, State):',\n",
    "                                                'Tract Income (2019 Inflation Adjusted USD):',\n",
    "                                                'Tract Population Density (/sq km):',\n",
    "                                                'Number of Parks:',\n",
    "                                                'Number of Gyms:',\n",
    "                                                'Population % White:',\n",
    "                                                'Population % Black/African American:',\n",
    "                                                'Population % Asian:',\n",
    "                                                'Population % American Indian',\n",
    "                                                'Population % Other'),\n",
    "                                       sticky=True,\n",
    "                                       localize=True),\n",
    "       show = True,\n",
    "       overlay = False,\n",
    "       zoom_on_click = True).add_to(houston_pop_income_layer)\n",
    "houston_pop_income_layer.add_to(final_houston_map)\n",
    "\n",
    "\n",
    "#Tract Population Density Color Scale Layer\n",
    "houston_population_layer=folium.GeoJson(houston_gym_park_counts_merge_gjson, \n",
    "       name='Population Density', \n",
    "       style_function = lambda feature: {\n",
    "           'color': 'black',\n",
    "           'weight': 0, \n",
    "           'fillColor': houstontractpopulationcolors(feature['properties']['Pop Density per sq km']), \n",
    "           'fillOpacity': .5,\n",
    "           'highlight': True}, \n",
    "       overlay = False\n",
    "        )\n",
    "folium.TileLayer(tiles='https://server.arcgisonline.com/ArcGIS/rest/services/Canvas/World_Light_Gray_Base/MapServer/tile/{z}/{y}/{x}', \n",
    "                 attr='Tiles &copy; Esri &mdash; Esri, DeLorme, NAVTEQ', \n",
    "                 name='Tract Base').add_to(houston_population_layer)\n",
    "houston_tract_popup_layer2=folium.GeoJson(houston_gym_park_counts_merge_gjson, \n",
    "       style_function = lambda feature: {\n",
    "           'color': 'black',\n",
    "           'weight': .35, \n",
    "           'fillColor': 'white',\n",
    "           'fillOpacity': 0}, \n",
    "       highlight_function=lambda x: {\n",
    "            'color': 'black',\n",
    "            'weight': 2,\n",
    "            'lineOpacity': .8,\n",
    "            'fillColor': 'grey',\n",
    "            'fillOpacity': .25},\n",
    "       tooltip = folium.GeoJsonTooltip(fields=('Tract Area Name', \n",
    "                                               'Tract Per Capita Income - 12 Months',\n",
    "                                               'Pop Density per sq km',\n",
    "                                               'Number of Parks',\n",
    "                                               'Number of Gyms',\n",
    "                                               'Tract Percentage White',\n",
    "                                               'Tract Percentage Black or African American',\n",
    "                                               'Tract Percentage Asian',\n",
    "                                               'Tract Percentage American Indian and Alaskan Native',\n",
    "                                               'Tract Percentage Other Race'),\n",
    "                                       aliases=('Census Tract (#, County Name, State):',\n",
    "                                                'Tract Income (2019 Inflation Adjusted USD):',\n",
    "                                                'Tract Population Density (/sq km):',\n",
    "                                                'Number of Parks:',\n",
    "                                                'Number of Gyms:',\n",
    "                                                'Population % White:',\n",
    "                                                'Population % Black/African American:',\n",
    "                                                'Population % Asian:',\n",
    "                                                'Population % American Indian',\n",
    "                                                'Population % Other'),\n",
    "                                       sticky=True,\n",
    "                                       localize=True),\n",
    "       show = True,\n",
    "       overlay = False,\n",
    "       zoom_on_click = True).add_to(houston_population_layer)\n",
    "houston_population_layer.add_to(final_houston_map)\n",
    "\n",
    "\n",
    "#Tract Income Color Scale Layer\n",
    "houston_income_layer=folium.GeoJson(houston_gym_park_counts_merge_gjson, \n",
    "       name='Per Capita Income (2019)', \n",
    "       style_function = lambda feature: {\n",
    "           'color': 'black',\n",
    "           'weight': 0, \n",
    "           'fillColor': houstontractincomecolors(feature['properties']['Tract Per Capita Income - 12 Months']), \n",
    "           'fillOpacity': .5,\n",
    "           'highlight': True}, \n",
    "       overlay = False\n",
    "        )\n",
    "folium.TileLayer(tiles='https://server.arcgisonline.com/ArcGIS/rest/services/Canvas/World_Light_Gray_Base/MapServer/tile/{z}/{y}/{x}', \n",
    "                 attr='Tiles &copy; Esri &mdash; Esri, DeLorme, NAVTEQ', \n",
    "                 name='Tract Base').add_to(houston_income_layer)\n",
    "houston_tract_popup_layer3=folium.GeoJson(houston_gym_park_counts_merge_gjson,  \n",
    "       style_function = lambda feature: {\n",
    "           'color': 'black',\n",
    "           'weight': .35, \n",
    "           'fillColor': 'white',\n",
    "           'fillOpacity': 0}, \n",
    "       highlight_function=lambda x: {\n",
    "            'color': 'black',\n",
    "            'weight': 2,\n",
    "            'lineOpacity': .8,\n",
    "            'fillColor': 'grey',\n",
    "            'fillOpacity': .25},\n",
    "       tooltip = folium.GeoJsonTooltip(fields=('Tract Area Name', \n",
    "                                               'Tract Per Capita Income - 12 Months',\n",
    "                                               'Pop Density per sq km',\n",
    "                                               'Number of Parks',\n",
    "                                               'Number of Gyms',\n",
    "                                               'Tract Percentage White',\n",
    "                                               'Tract Percentage Black or African American',\n",
    "                                               'Tract Percentage Asian',\n",
    "                                               'Tract Percentage American Indian and Alaskan Native',\n",
    "                                               'Tract Percentage Other Race'),\n",
    "                                       aliases=('Census Tract (#, County Name, State):',\n",
    "                                                'Tract Income (2019 Inflation Adjusted USD):',\n",
    "                                                'Tract Population Density (/sq km):',\n",
    "                                                'Number of Parks:',\n",
    "                                                'Number of Gyms:',\n",
    "                                                'Population % White:',\n",
    "                                                'Population % Black/African American:',\n",
    "                                                'Population % Asian:',\n",
    "                                                'Population % American Indian',\n",
    "                                                'Population % Other'),\n",
    "                                       sticky=True,\n",
    "                                       localize=True),\n",
    "       show = True,\n",
    "       overlay = False,\n",
    "       zoom_on_click = True).add_to(houston_income_layer)\n",
    "houston_income_layer.add_to(final_houston_map)\n",
    "\n",
    "\n",
    "#County Outline Layer\n",
    "houston_county_outline_layer=folium.GeoJson(houston_join_county_4326_gjson, \n",
    "       name='Surrounding Counties (Purple Outlines)', \n",
    "       style_function = lambda feature: {\n",
    "           'color': 'purple',\n",
    "           'weight': 2, \n",
    "           'fillOpacity': 0,\n",
    "           'interactive': False\n",
    "       },\n",
    "       show=False\n",
    "       ).add_to(final_houston_map)\n",
    "\n",
    "#City Outline Layer\n",
    "houston_city_outline_layer=folium.GeoJson(houston_join_place_4326_gjson, \n",
    "       name='Houston City Limits (Blue Outline)', \n",
    "       style_function = lambda feature: {\n",
    "           'color': 'blue',\n",
    "           'weight': 2, \n",
    "           'fillOpacity': 0,\n",
    "           'interactive': False\n",
    "       },\n",
    "       show=False\n",
    "       ).add_to(final_houston_map)\n",
    "\n",
    "#Add Foursquare gym results as markers\n",
    "houston_gym_markers = folium.FeatureGroup(name='Gym Locations (Yellow Dots)', overlay=True, control=True, show=False)\n",
    "for lat, lng, label in zip(houston_gym_filtered.lat, houston_gym_filtered.lng, houston_gym_filtered.name):\n",
    "    folium.CircleMarker(\n",
    "        [lat, lng],\n",
    "        radius=4,\n",
    "        color='gray',\n",
    "        weight=1,\n",
    "        popup=label,\n",
    "        fill = True,\n",
    "        fill_color='yellow',\n",
    "        fill_opacity=0.8\n",
    "    ).add_to(houston_gym_markers)\n",
    "houston_gym_markers.add_to(final_houston_map)\n",
    "\n",
    "#Add Foursquare gym results as markers\n",
    "houston_park_markers = folium.FeatureGroup(name='Park Locations (Blue Dots)', overlay=True, control=True, show=False)\n",
    "for lat, lng, label in zip(houston_park_filtered.lat, houston_park_filtered.lng, houston_park_filtered.name):\n",
    "    folium.CircleMarker(\n",
    "        [lat, lng],\n",
    "        radius=4,\n",
    "        color='gray',\n",
    "        weight=1,\n",
    "        popup=label,\n",
    "        fill = True,\n",
    "        fill_color='blue',\n",
    "        fill_opacity=0.8,\n",
    "    ).add_to(houston_park_markers)\n",
    "houston_park_markers.add_to(final_houston_map)\n",
    "\n",
    "\n",
    "#Add Color Scales\n",
    "houstontractincomecolors.add_to(final_houston_map)\n",
    "houstontractpopulationcolors.add_to(final_houston_map)\n",
    "\n",
    "\n",
    "#Set order of layers\n",
    "final_houston_map.keep_in_front(houston_tract_popup_layer,\n",
    "                               houston_population_layer,\n",
    "                               houston_income_layer,\n",
    "                               houston_pop_income_layer,\n",
    "                               houston_city_outline_layer,\n",
    "                               houston_county_outline_layer,\n",
    "                               houston_gym_markers,\n",
    "                               houston_park_markers\n",
    "                               )\n",
    "\n",
    "#Add layer control\n",
    "folium.LayerControl(position = 'topright',\n",
    "                    collapsed = False).add_to(final_houston_map)\n",
    "\n",
    "final_houston_map"
   ]
  },
  {
   "cell_type": "code",
   "execution_count": null,
   "id": "joined-arrival",
   "metadata": {},
   "outputs": [],
   "source": [
    "final_houston_map.save('Houston_Map.html')"
   ]
  },
  {
   "cell_type": "code",
   "execution_count": null,
   "id": "practical-douglas",
   "metadata": {},
   "outputs": [],
   "source": [
    "#Create map centered on Houston\n",
    "houston_park_cluster_map = folium.Map(location=[29.85027,-95.37473],\n",
    "                   tiles=None, height=700, width=1100, zoom_start=10)\n",
    "\n",
    "#Clean Tract Outline Layer\n",
    "houston_tract_popup_layer=folium.GeoJson(houston_gym_park_counts_merge_gjson, \n",
    "       name = 'Simple Tract Outlines',\n",
    "       style_function = lambda feature: {\n",
    "           'color': 'black',\n",
    "           'weight': .35, \n",
    "           'lineOpacity': 1,\n",
    "           'fillColor': 'lightgrey',\n",
    "           'fillOpacity': .8}, \n",
    "       show = True,\n",
    "       overlay = False)\n",
    "folium.TileLayer(tiles='https://server.arcgisonline.com/ArcGIS/rest/services/Canvas/World_Light_Gray_Base/MapServer/tile/{z}/{y}/{x}', \n",
    "                 attr='Tiles &copy; Esri &mdash; Esri, DeLorme, NAVTEQ', \n",
    "                 name='Tract Base').add_to(houston_tract_popup_layer)\n",
    "houston_park_cluster1 = plugins.MarkerCluster(name='Park Clusters',\n",
    "                                            options={'showCoverageOnHover': True,\n",
    "                                                     'zoomToBoundsOnClick': True,\n",
    "                                                     'disableClusteringAtZoom': 15,\n",
    "                                                     'removeOutsideVisibleBounds': True,\n",
    "                                                     'spiderfyOnMaxZoom': False},\n",
    "                                            show=False)\n",
    "for lat, lng, label in zip(houston_park_filtered.lat, houston_park_filtered.lng, houston_park_filtered.name):\n",
    "    folium.Marker(\n",
    "        location=[lat, lng],\n",
    "        icon=folium.Icon(color='green', icon_color='white', icon='tree', prefix='fa'),\n",
    "        popup=label,\n",
    "    ).add_to(houston_park_cluster1)\n",
    "houston_park_cluster1.add_to(houston_tract_popup_layer)\n",
    "houston_tract_popup_layer.add_to(houston_park_cluster_map)\n",
    "\n",
    "#Tract Income & Population Density Combined\n",
    "houston_pop_income_layer=folium.GeoJson(houston_gym_park_counts_merge_gjson, \n",
    "       name='Per Capita Income & Population Density', \n",
    "       style_function = lambda feature: {\n",
    "           'color': 'black',\n",
    "           'weight': 0, \n",
    "           'fillColor': houstontractpopulationcolors(feature['properties']['Pop Density per sq km']), \n",
    "           'fillOpacity': .5,\n",
    "           'highlight': True}, \n",
    "       overlay = False,\n",
    "       show = True\n",
    "        )\n",
    "folium.GeoJson(houston_gym_park_counts_merge_gjson, \n",
    "       style_function = lambda feature: {\n",
    "           'color': 'black',\n",
    "           'weight': .35, \n",
    "           'fillColor': houstontractincomecolors(feature['properties']['Tract Per Capita Income - 12 Months']), \n",
    "           'fillOpacity': .5,\n",
    "           'highlight': True}, \n",
    "       overlay = False\n",
    "        ).add_to(houston_pop_income_layer)\n",
    "folium.TileLayer(tiles='https://server.arcgisonline.com/ArcGIS/rest/services/Canvas/World_Light_Gray_Base/MapServer/tile/{z}/{y}/{x}', \n",
    "                 attr='Tiles &copy; Esri &mdash; Esri, DeLorme, NAVTEQ', \n",
    "                 name='Tract Base').add_to(houston_pop_income_layer)\n",
    "houston_park_cluster2 = plugins.MarkerCluster(name='Park Clusters',\n",
    "                                            options={'showCoverageOnHover': True,\n",
    "                                                     'zoomToBoundsOnClick': True,\n",
    "                                                     'disableClusteringAtZoom': 15,\n",
    "                                                     'removeOutsideVisibleBounds': True,\n",
    "                                                     'spiderfyOnMaxZoom': False},\n",
    "                                            show=False)\n",
    "for lat, lng, label in zip(houston_park_filtered.lat, houston_park_filtered.lng, houston_park_filtered.name):\n",
    "    folium.Marker(\n",
    "        location=[lat, lng],\n",
    "        icon=folium.Icon(color='green', icon_color='white', icon='tree', prefix='fa'),\n",
    "        popup=label,\n",
    "    ).add_to(houston_park_cluster2)\n",
    "houston_park_cluster2.add_to(houston_pop_income_layer)\n",
    "houston_pop_income_layer.add_to(houston_park_cluster_map)\n",
    "\n",
    "\n",
    "#Tract Population Density Color Scale Layer\n",
    "houston_population_layer=folium.GeoJson(houston_gym_park_counts_merge_gjson, \n",
    "       name='Population Density', \n",
    "       style_function = lambda feature: {\n",
    "           'color': 'black',\n",
    "           'weight': .35, \n",
    "           'fillColor': houstontractpopulationcolors(feature['properties']['Pop Density per sq km']), \n",
    "           'fillOpacity': .5,\n",
    "           'highlight': True}, \n",
    "       overlay = False\n",
    "        )\n",
    "folium.TileLayer(tiles='https://server.arcgisonline.com/ArcGIS/rest/services/Canvas/World_Light_Gray_Base/MapServer/tile/{z}/{y}/{x}', \n",
    "                 attr='Tiles &copy; Esri &mdash; Esri, DeLorme, NAVTEQ', \n",
    "                 name='Tract Base').add_to(houston_population_layer)\n",
    "houston_park_cluster3 = plugins.MarkerCluster(name='Park Clusters',\n",
    "                                            options={'showCoverageOnHover': True,\n",
    "                                                     'zoomToBoundsOnClick': True,\n",
    "                                                     'disableClusteringAtZoom': 15,\n",
    "                                                     'removeOutsideVisibleBounds': True,\n",
    "                                                     'spiderfyOnMaxZoom': False},\n",
    "                                            show=False)\n",
    "for lat, lng, label in zip(houston_park_filtered.lat, houston_park_filtered.lng, houston_park_filtered.name):\n",
    "    folium.Marker(\n",
    "        location=[lat, lng],\n",
    "        icon=folium.Icon(color='green', icon_color='white', icon='tree', prefix='fa'),\n",
    "        popup=label,\n",
    "    ).add_to(houston_park_cluster3)\n",
    "houston_park_cluster3.add_to(houston_population_layer)\n",
    "houston_population_layer.add_to(houston_park_cluster_map)\n",
    "\n",
    "\n",
    "#Tract Income Color Scale Layer\n",
    "houston_income_layer=folium.GeoJson(houston_gym_park_counts_merge_gjson, \n",
    "       name='Per Capita Income (2019)', \n",
    "       style_function = lambda feature: {\n",
    "           'color': 'black',\n",
    "           'weight': .35, \n",
    "           'fillColor': houstontractincomecolors(feature['properties']['Tract Per Capita Income - 12 Months']), \n",
    "           'fillOpacity': .5,\n",
    "           'highlight': True}, \n",
    "       overlay = False\n",
    "        )\n",
    "folium.TileLayer(tiles='https://server.arcgisonline.com/ArcGIS/rest/services/Canvas/World_Light_Gray_Base/MapServer/tile/{z}/{y}/{x}', \n",
    "                 attr='Tiles &copy; Esri &mdash; Esri, DeLorme, NAVTEQ', \n",
    "                 name='Tract Base').add_to(houston_income_layer)\n",
    "houston_park_cluster4 = plugins.MarkerCluster(name='Park Clusters',\n",
    "                                            options={'showCoverageOnHover': True,\n",
    "                                                     'zoomToBoundsOnClick': True,\n",
    "                                                     'disableClusteringAtZoom': 15,\n",
    "                                                     'removeOutsideVisibleBounds': True,\n",
    "                                                     'spiderfyOnMaxZoom': False},\n",
    "                                            show=False)\n",
    "for lat, lng, label in zip(houston_park_filtered.lat, houston_park_filtered.lng, houston_park_filtered.name):\n",
    "    folium.Marker(\n",
    "        location=[lat, lng],\n",
    "        icon=folium.Icon(color='green', icon_color='white', icon='tree', prefix='fa'),\n",
    "        popup=label,\n",
    "    ).add_to(houston_park_cluster4)\n",
    "houston_park_cluster4.add_to(houston_income_layer)\n",
    "houston_income_layer.add_to(houston_park_cluster_map)\n",
    "\n",
    "\n",
    "#County Outline Layer\n",
    "houston_county_outline_layer=folium.GeoJson(houston_join_county_4326_gjson, \n",
    "       name='Surrounding Counties (Purple Outlines)', \n",
    "       style_function = lambda feature: {\n",
    "           'color': 'purple',\n",
    "           'weight': 2, \n",
    "           'fillOpacity': 0,\n",
    "           'interactive': False\n",
    "       },\n",
    "       show=False\n",
    "       ).add_to(houston_park_cluster_map)\n",
    "\n",
    "#City Outline Layer\n",
    "houston_city_outline_layer=folium.GeoJson(houston_join_place_4326_gjson, \n",
    "       name='Houston City Limits (Blue Outline)', \n",
    "       style_function = lambda feature: {\n",
    "           'color': 'blue',\n",
    "           'weight': 2, \n",
    "           'fillOpacity': 0,\n",
    "           'interactive': False\n",
    "       },\n",
    "       show=False\n",
    "       ).add_to(houston_park_cluster_map)\n",
    "\n",
    "\n",
    "#Add Color Scales\n",
    "houstontractincomecolors.add_to(houston_park_cluster_map)\n",
    "houstontractpopulationcolors.add_to(houston_park_cluster_map)\n",
    "\n",
    "\n",
    "#Set items to stay in front\n",
    "houston_park_cluster_map.keep_in_front(houston_tract_popup_layer,\n",
    "                                      houston_population_layer,\n",
    "                                      houston_income_layer,\n",
    "                                      houston_pop_income_layer,\n",
    "                                      houston_city_outline_layer,\n",
    "                                      houston_county_outline_layer\n",
    "                                      )\n",
    "\n",
    "#Add layer control\n",
    "folium.LayerControl(position = 'topright',\n",
    "                    collapsed = False,\n",
    "                    autoZIndex = True).add_to(houston_park_cluster_map)\n",
    "\n",
    "houston_park_cluster_map"
   ]
  },
  {
   "cell_type": "code",
   "execution_count": null,
   "id": "existing-corrections",
   "metadata": {},
   "outputs": [],
   "source": [
    "houston_park_cluster_map.save('Houston_Park_Cluster.html')"
   ]
  },
  {
   "cell_type": "code",
   "execution_count": null,
   "id": "homeless-convertible",
   "metadata": {},
   "outputs": [],
   "source": [
    "#Create map centered on Houston\n",
    "houston_gym_cluster_map = folium.Map(location=[29.85027,-95.37473],\n",
    "                   tiles=None, height=700, width=1100, zoom_start=10)\n",
    "\n",
    "#Clean Tract Outline Layer\n",
    "houston_tract_popup_layer=folium.GeoJson(houston_gym_park_counts_merge_gjson, \n",
    "       name = 'Simple Tract Outlines',\n",
    "       style_function = lambda feature: {\n",
    "           'color': 'black',\n",
    "           'weight': .35, \n",
    "           'lineOpacity': 1,\n",
    "           'fillColor': 'lightgrey',\n",
    "           'fillOpacity': .8}, \n",
    "       show = True,\n",
    "       overlay = False)\n",
    "folium.TileLayer(tiles='https://server.arcgisonline.com/ArcGIS/rest/services/Canvas/World_Light_Gray_Base/MapServer/tile/{z}/{y}/{x}', \n",
    "                 attr='Tiles &copy; Esri &mdash; Esri, DeLorme, NAVTEQ', \n",
    "                 name='Tract Base').add_to(houston_tract_popup_layer)\n",
    "houston_gym_cluster1 = plugins.MarkerCluster(name='Gym Clusters',\n",
    "                                            options={'showCoverageOnHover': True,\n",
    "                                                     'zoomToBoundsOnClick': True,\n",
    "                                                     'disableClusteringAtZoom': 15,\n",
    "                                                     'removeOutsideVisibleBounds': True,\n",
    "                                                     'spiderfyOnMaxZoom': False},\n",
    "                                            show=False)\n",
    "for lat, lng, label in zip(houston_gym_filtered.lat, houston_gym_filtered.lng, houston_gym_filtered.name):\n",
    "    folium.Marker(\n",
    "        location=[lat, lng],\n",
    "        icon=folium.Icon(color='white', icon_color='red', icon='heartbeat', prefix='fa'),\n",
    "        popup=label,\n",
    "    ).add_to(houston_gym_cluster1)\n",
    "houston_gym_cluster1.add_to(houston_tract_popup_layer)\n",
    "houston_tract_popup_layer.add_to(houston_gym_cluster_map)\n",
    "\n",
    "#Tract Income & Population Density Combined\n",
    "houston_pop_income_layer=folium.GeoJson(houston_gym_park_counts_merge_gjson, \n",
    "       name='Per Capita Income & Population Density', \n",
    "       style_function = lambda feature: {\n",
    "           'color': 'black',\n",
    "           'weight': 0, \n",
    "           'fillColor': houstontractpopulationcolors(feature['properties']['Pop Density per sq km']), \n",
    "           'fillOpacity': .5,\n",
    "           'highlight': True}, \n",
    "       overlay = False,\n",
    "       show = True\n",
    "        )\n",
    "folium.GeoJson(houston_gym_park_counts_merge_gjson, \n",
    "       style_function = lambda feature: {\n",
    "           'color': 'black',\n",
    "           'weight': .35, \n",
    "           'fillColor': houstontractincomecolors(feature['properties']['Tract Per Capita Income - 12 Months']), \n",
    "           'fillOpacity': .5,\n",
    "           'highlight': True}, \n",
    "       overlay = False\n",
    "        ).add_to(houston_pop_income_layer)\n",
    "folium.TileLayer(tiles='https://server.arcgisonline.com/ArcGIS/rest/services/Canvas/World_Light_Gray_Base/MapServer/tile/{z}/{y}/{x}', \n",
    "                 attr='Tiles &copy; Esri &mdash; Esri, DeLorme, NAVTEQ', \n",
    "                 name='Tract Base').add_to(houston_pop_income_layer)\n",
    "houston_gym_cluster2 = plugins.MarkerCluster(name='Gym Clusters',\n",
    "                                            options={'showCoverageOnHover': True,\n",
    "                                                     'zoomToBoundsOnClick': True,\n",
    "                                                     'disableClusteringAtZoom': 15,\n",
    "                                                     'removeOutsideVisibleBounds': True,\n",
    "                                                     'spiderfyOnMaxZoom': False},\n",
    "                                            show=False)\n",
    "for lat, lng, label in zip(houston_gym_filtered.lat, houston_gym_filtered.lng, houston_gym_filtered.name):\n",
    "    folium.Marker(\n",
    "        location=[lat, lng],\n",
    "        icon=folium.Icon(color='white', icon_color='red', icon='heartbeat', prefix='fa'),\n",
    "        popup=label,\n",
    "    ).add_to(houston_gym_cluster2)\n",
    "houston_gym_cluster2.add_to(houston_pop_income_layer)\n",
    "houston_pop_income_layer.add_to(houston_gym_cluster_map)\n",
    "\n",
    "\n",
    "#Tract Population Density Color Scale Layer\n",
    "houston_population_layer=folium.GeoJson(houston_gym_park_counts_merge_gjson, \n",
    "       name='Population Density', \n",
    "       style_function = lambda feature: {\n",
    "           'color': 'black',\n",
    "           'weight': .35, \n",
    "           'fillColor': houstontractpopulationcolors(feature['properties']['Pop Density per sq km']), \n",
    "           'fillOpacity': .5,\n",
    "           'highlight': True}, \n",
    "       overlay = False\n",
    "        )\n",
    "folium.TileLayer(tiles='https://server.arcgisonline.com/ArcGIS/rest/services/Canvas/World_Light_Gray_Base/MapServer/tile/{z}/{y}/{x}', \n",
    "                 attr='Tiles &copy; Esri &mdash; Esri, DeLorme, NAVTEQ', \n",
    "                 name='Tract Base').add_to(houston_population_layer)\n",
    "houston_gym_cluster3 = plugins.MarkerCluster(name='Gym Clusters',\n",
    "                                            options={'showCoverageOnHover': True,\n",
    "                                                     'zoomToBoundsOnClick': True,\n",
    "                                                     'disableClusteringAtZoom': 15,\n",
    "                                                     'removeOutsideVisibleBounds': True,\n",
    "                                                     'spiderfyOnMaxZoom': False},\n",
    "                                            show=False)\n",
    "for lat, lng, label in zip(houston_gym_filtered.lat, houston_gym_filtered.lng, houston_gym_filtered.name):\n",
    "    folium.Marker(\n",
    "        location=[lat, lng],\n",
    "        icon=folium.Icon(color='white', icon_color='red', icon='heartbeat', prefix='fa'),\n",
    "        popup=label,\n",
    "    ).add_to(houston_gym_cluster3)\n",
    "houston_gym_cluster3.add_to(houston_population_layer)\n",
    "houston_population_layer.add_to(houston_gym_cluster_map)\n",
    "\n",
    "\n",
    "#Tract Income Color Scale Layer\n",
    "houston_income_layer=folium.GeoJson(houston_gym_park_counts_merge_gjson, \n",
    "       name='Per Capita Income (2019)', \n",
    "       style_function = lambda feature: {\n",
    "           'color': 'black',\n",
    "           'weight': .35, \n",
    "           'fillColor': houstontractincomecolors(feature['properties']['Tract Per Capita Income - 12 Months']), \n",
    "           'fillOpacity': .5,\n",
    "           'highlight': True}, \n",
    "       overlay = False\n",
    "        )\n",
    "folium.TileLayer(tiles='https://server.arcgisonline.com/ArcGIS/rest/services/Canvas/World_Light_Gray_Base/MapServer/tile/{z}/{y}/{x}', \n",
    "                 attr='Tiles &copy; Esri &mdash; Esri, DeLorme, NAVTEQ', \n",
    "                 name='Tract Base').add_to(houston_income_layer)\n",
    "houston_gym_cluster4 = plugins.MarkerCluster(name='Gym Clusters',\n",
    "                                            options={'showCoverageOnHover': True,\n",
    "                                                     'zoomToBoundsOnClick': True,\n",
    "                                                     'disableClusteringAtZoom': 15,\n",
    "                                                     'removeOutsideVisibleBounds': True,\n",
    "                                                     'spiderfyOnMaxZoom': False},\n",
    "                                            show=False)\n",
    "for lat, lng, label in zip(houston_gym_filtered.lat, houston_gym_filtered.lng, houston_gym_filtered.name):\n",
    "    folium.Marker(\n",
    "        location=[lat, lng],\n",
    "        icon=folium.Icon(color='white', icon_color='red', icon='heartbeat', prefix='fa'),\n",
    "        popup=label,\n",
    "    ).add_to(houston_gym_cluster4)\n",
    "houston_gym_cluster4.add_to(houston_income_layer)\n",
    "houston_income_layer.add_to(houston_gym_cluster_map)\n",
    "\n",
    "\n",
    "#County Outline Layer\n",
    "houston_county_outline_layer=folium.GeoJson(houston_join_county_4326_gjson, \n",
    "       name='Surrounding Counties (Purple Outlines)', \n",
    "       style_function = lambda feature: {\n",
    "           'color': 'purple',\n",
    "           'weight': 2, \n",
    "           'fillOpacity': 0,\n",
    "           'interactive': False\n",
    "       },\n",
    "       show=False\n",
    "       ).add_to(houston_gym_cluster_map)\n",
    "\n",
    "#City Outline Layer\n",
    "houston_city_outline_layer=folium.GeoJson(houston_join_place_4326_gjson, \n",
    "       name='Houston City Limits (Blue Outline)', \n",
    "       style_function = lambda feature: {\n",
    "           'color': 'blue',\n",
    "           'weight': 2, \n",
    "           'fillOpacity': 0,\n",
    "           'interactive': False\n",
    "       },\n",
    "       show=False\n",
    "       ).add_to(houston_gym_cluster_map)\n",
    "\n",
    "\n",
    "#Add Color Scales\n",
    "houstontractincomecolors.add_to(houston_gym_cluster_map)\n",
    "houstontractpopulationcolors.add_to(houston_gym_cluster_map)\n",
    "\n",
    "\n",
    "#Set items to stay in front\n",
    "houston_gym_cluster_map.keep_in_front(houston_tract_popup_layer,\n",
    "                                     houston_population_layer,\n",
    "                                     houston_income_layer,\n",
    "                                     houston_pop_income_layer,\n",
    "                                     houston_city_outline_layer,\n",
    "                                     houston_county_outline_layer\n",
    "                                     )\n",
    "\n",
    "#Add layer control\n",
    "folium.LayerControl(position = 'topright',\n",
    "                    collapsed = False,\n",
    "                    autoZIndex = True).add_to(houston_gym_cluster_map)\n",
    "\n",
    "houston_gym_cluster_map"
   ]
  },
  {
   "cell_type": "code",
   "execution_count": null,
   "id": "adverse-reputation",
   "metadata": {},
   "outputs": [],
   "source": [
    "houston_gym_cluster_map.save('Houston_Gym_Cluster.html')"
   ]
  },
  {
   "cell_type": "markdown",
   "id": "economic-samoa",
   "metadata": {},
   "source": [
    "##### FourSquare Added in"
   ]
  },
  {
   "cell_type": "code",
   "execution_count": null,
   "id": "supported-daniel",
   "metadata": {
    "scrolled": false
   },
   "outputs": [],
   "source": [
    "#Create map centered on Houston\n",
    "houston_FS_map = folium.Map(location=[29.85027,-95.37473],\n",
    "                   tiles=None, height=700, width=1100, zoom_start=10)\n",
    "\n",
    "#Simple Tract Outline\n",
    "houston_tract_popup_layer=folium.GeoJson(houston_join_tract_4326_gjson, \n",
    "       name='Houston Tract Layer', \n",
    "       style_function = lambda feature: {\n",
    "           'color': 'black',\n",
    "           'weight': .35, \n",
    "           'fillColor': 'white',\n",
    "           'fillOpacity': 0}, \n",
    "       show = True,\n",
    "       control = False).add_to(houston_FS_map)\n",
    "\n",
    "#County Outline Layer\n",
    "houston_county_outline_layer=folium.GeoJson(houston_join_county_4326_gjson, \n",
    "       name='Surrounding Counties (Purple Outlines)', \n",
    "       style_function = lambda feature: {\n",
    "           'color': 'purple',\n",
    "           'weight': 2, \n",
    "           'fillOpacity': 0,\n",
    "           'interactive': False\n",
    "       },\n",
    "       show=False\n",
    "       ).add_to(houston_FS_map)\n",
    "\n",
    "#City Outline Layer\n",
    "houston_city_outline_layer=folium.GeoJson(houston_join_place_4326_gjson, \n",
    "       name='Houston City Limits (Blue Outline)', \n",
    "       style_function = lambda feature: {\n",
    "           'color': 'blue',\n",
    "           'weight': 2, \n",
    "           'fillOpacity': 0,\n",
    "           'interactive': False\n",
    "       },\n",
    "       show=True\n",
    "       ).add_to(houston_FS_map)\n",
    "\n",
    "\n",
    "#Add Foursquare gym search areas\n",
    "houston_search_radius = folium.FeatureGroup(name='Search Radius', overlay=False, control=True, show=True)\n",
    "for lat, lng, rad in zip(FS_houston['Tract Center Lat'], FS_houston['Tract Center Long'], FS_houston['Radius']):\n",
    "    folium.Circle(\n",
    "        [lat, lng],\n",
    "        radius=rad,\n",
    "        color='red',\n",
    "        stroke=0.5,\n",
    "        opacity=0.25,\n",
    "        fill = True,\n",
    "        fill_color='red',\n",
    "        fill_opacity=0.5\n",
    "    ).add_to(houston_search_radius)\n",
    "\n",
    "folium.TileLayer(tiles='https://server.arcgisonline.com/ArcGIS/rest/services/Canvas/World_Light_Gray_Base/MapServer/tile/{z}/{y}/{x}', \n",
    "                 attr='Tiles &copy; Esri &mdash; Esri, DeLorme, NAVTEQ', \n",
    "                 name='Tract Base').add_to(houston_search_radius)\n",
    "\n",
    "houston_search_radius.add_to(houston_FS_map)\n",
    "\n",
    "\n",
    "#Set items to stay in front\n",
    "houston_FS_map.keep_in_front(houston_search_radius, houston_tract_popup_layer, houston_county_outline_layer, houston_city_outline_layer)\n",
    "\n",
    "#Add layer control\n",
    "folium.LayerControl(position = 'topright',\n",
    "                    collapsed = False,\n",
    "                    autoZIndex = True).add_to(houston_FS_map)\n",
    "\n",
    "houston_FS_map"
   ]
  },
  {
   "cell_type": "code",
   "execution_count": null,
   "id": "major-soviet",
   "metadata": {},
   "outputs": [],
   "source": [
    "houston_FS_map.save('Houston_Search_Radius.html')"
   ]
  },
  {
   "cell_type": "markdown",
   "id": "sized-junior",
   "metadata": {},
   "source": [
    "##### FourSquare Added in"
   ]
  },
  {
   "cell_type": "code",
   "execution_count": null,
   "id": "packed-brazilian",
   "metadata": {},
   "outputs": [],
   "source": [
    "#Not created yet"
   ]
  },
  {
   "cell_type": "code",
   "execution_count": null,
   "id": "entertaining-experiment",
   "metadata": {},
   "outputs": [],
   "source": []
  },
  {
   "cell_type": "markdown",
   "id": "canadian-novelty",
   "metadata": {},
   "source": [
    "---\n",
    "## Maps: Set Up\n",
    "\n",
    "##### *Dallas*\n",
    "---"
   ]
  },
  {
   "cell_type": "code",
   "execution_count": null,
   "id": "better-commonwealth",
   "metadata": {},
   "outputs": [],
   "source": [
    "#Look at Quantile values of Income to find a good range for color scale\n",
    "dallas_min_income, dallas_max_income = dallas_join_tract_4326['Tract Per Capita Income - 12 Months'].quantile([0,.95]).apply(lambda x: round(x, 2))\n",
    "dallas_mean_income = round(dallas_join_tract_4326['Tract Per Capita Income - 12 Months'].mean(),2)\n",
    "print(f\"Min: {dallas_min_income}\", f\"Max: {dallas_max_income}\", f\"Mean: {dallas_mean_income}\", sep=\"\\n\\n\")"
   ]
  },
  {
   "cell_type": "code",
   "execution_count": null,
   "id": "integrated-samuel",
   "metadata": {},
   "outputs": [],
   "source": [
    "#Set Income Scale\n",
    "dallastractincomecolors = linear.Greens_05.scale(0,\n",
    "                                                   100000)\n",
    "dallastractincomecolors.caption = 'Tract Per Capita Income - Past 12 Months'"
   ]
  },
  {
   "cell_type": "code",
   "execution_count": null,
   "id": "authentic-virus",
   "metadata": {},
   "outputs": [],
   "source": []
  },
  {
   "cell_type": "code",
   "execution_count": null,
   "id": "protective-treatment",
   "metadata": {},
   "outputs": [],
   "source": [
    "#Look at Quantile values of Population Density to find a good range for color scale\n",
    "dallas_min_popdense, dallas_max_popdense = dallas_join_tract_4326['Pop Density per sq km'].quantile([0.01,.95]).apply(lambda x: round(x, 2))\n",
    "dallas_mean_popdense = round(dallas_join_tract_4326['Pop Density per sq km'].mean(),2)\n",
    "print(f\"Min: {dallas_min_popdense}\", f\"Max: {dallas_max_popdense}\", f\"Mean: {dallas_mean_popdense}\", sep=\"\\n\\n\")"
   ]
  },
  {
   "cell_type": "code",
   "execution_count": null,
   "id": "natural-dancing",
   "metadata": {},
   "outputs": [],
   "source": [
    "#Set Population Density Scale\n",
    "dallastractpopulationcolors = linear.Reds_05.scale(0,\n",
    "                                                   5000)\n",
    "dallastractpopulationcolors.caption = 'Tract Population Density (/sq km)'"
   ]
  },
  {
   "cell_type": "code",
   "execution_count": null,
   "id": "expected-wings",
   "metadata": {},
   "outputs": [],
   "source": [
    "dallas_min_popdense, dallas_max_popdense = dallas_join_tract_4326['Pop Density per sq km'].quantile([0.01,.92]).apply(lambda x: round(x, 2))\n",
    "dallas_mean_popdense = round(dallas_join_tract_4326['Pop Density per sq km'].mean(),2)\n",
    "print(f\"Min: {dallas_min_popdense}\", f\"Max: {dallas_max_popdense}\", f\"Mean: {dallas_mean_popdense}\", sep=\"\\n\\n\")"
   ]
  },
  {
   "cell_type": "code",
   "execution_count": null,
   "id": "oriental-candidate",
   "metadata": {},
   "outputs": [],
   "source": []
  },
  {
   "cell_type": "markdown",
   "id": "confirmed-savings",
   "metadata": {},
   "source": [
    "---\n",
    "## Maps: Generation \n",
    "\n",
    "##### *Dallas*\n",
    "---"
   ]
  },
  {
   "cell_type": "code",
   "execution_count": null,
   "id": "corporate-nepal",
   "metadata": {},
   "outputs": [],
   "source": [
    "print(dallas_place['Place Center Lat'], dallas_place['Place Center Long'])"
   ]
  },
  {
   "cell_type": "code",
   "execution_count": null,
   "id": "outer-politics",
   "metadata": {},
   "outputs": [],
   "source": [
    "#Create map centered on Dallas\n",
    "final_dallas_map = folium.Map(location=[32.8033334, -96.8665128],\n",
    "                   tiles=None, height=700, width=1000, zoom_start=10)\n",
    "\n",
    "#Clean Popup Layer\n",
    "dallas_tract_popup_layer=folium.GeoJson(dallas_gym_park_counts_merge_gjson, \n",
    "       name = 'Simple Tract Outlines',\n",
    "       style_function = lambda feature: {\n",
    "           'color': 'black',\n",
    "           'weight': .35, \n",
    "           'lineOpacity': 1,\n",
    "           'fillColor': 'lightgrey',\n",
    "           'fillOpacity': .8}, \n",
    "       highlight_function=lambda x: {\n",
    "            'color': 'black',\n",
    "            'weight': 2,\n",
    "            'lineOpacity': .8,\n",
    "            'fillColor': 'grey',\n",
    "            'fillOpacity': .5},\n",
    "       tooltip = folium.GeoJsonTooltip(fields=('Tract Area Name', \n",
    "                                               'Tract Per Capita Income - 12 Months',\n",
    "                                               'Pop Density per sq km',\n",
    "                                               'Number of Parks',\n",
    "                                               'Number of Gyms',\n",
    "                                               'Tract Percentage White',\n",
    "                                               'Tract Percentage Black or African American',\n",
    "                                               'Tract Percentage Asian',\n",
    "                                               'Tract Percentage American Indian and Alaskan Native',\n",
    "                                               'Tract Percentage Other Race'),\n",
    "                                       aliases=('Census Tract (#, County Name, State):',\n",
    "                                                'Tract Income (2019 Inflation Adjusted USD):',\n",
    "                                                'Tract Population Density (/sq km):',\n",
    "                                                'Number of Parks:',\n",
    "                                                'Number of Gyms:',\n",
    "                                                'Population % White:',\n",
    "                                                'Population % Black/African American:',\n",
    "                                                'Population % Asian:',\n",
    "                                                'Population % American Indian',\n",
    "                                                'Population % Other'),\n",
    "                                       sticky=True,\n",
    "                                       localize=True),\n",
    "       show = True,\n",
    "       overlay = False,\n",
    "       zoom_on_click = True)\n",
    "folium.TileLayer(tiles='https://server.arcgisonline.com/ArcGIS/rest/services/Canvas/World_Light_Gray_Base/MapServer/tile/{z}/{y}/{x}', \n",
    "                 attr='Tiles &copy; Esri &mdash; Esri, DeLorme, NAVTEQ', \n",
    "                 name='Tract Base').add_to(dallas_tract_popup_layer)\n",
    "dallas_tract_popup_layer.add_to(final_dallas_map)\n",
    "\n",
    "\n",
    "#Tract Income & Population Density Combined\n",
    "dallas_pop_income_layer=folium.GeoJson(dallas_gym_park_counts_merge_gjson, \n",
    "       name='Per Capita Income & Population Density', \n",
    "       style_function = lambda feature: {\n",
    "           'color': 'black',\n",
    "           'weight': 0, \n",
    "           'fillColor': dallastractpopulationcolors(feature['properties']['Pop Density per sq km']), \n",
    "           'fillOpacity': .5,\n",
    "           'highlight': True}, \n",
    "       overlay = False,\n",
    "       show = True\n",
    "        )\n",
    "folium.GeoJson(dallas_gym_park_counts_merge_gjson, \n",
    "       style_function = lambda feature: {\n",
    "           'color': 'black',\n",
    "           'weight': 0, \n",
    "           'fillColor': dallastractincomecolors(feature['properties']['Tract Per Capita Income - 12 Months']), \n",
    "           'fillOpacity': .5,\n",
    "           'highlight': True}, \n",
    "       overlay = False\n",
    "        ).add_to(dallas_pop_income_layer)\n",
    "folium.TileLayer(tiles='https://server.arcgisonline.com/ArcGIS/rest/services/Canvas/World_Light_Gray_Base/MapServer/tile/{z}/{y}/{x}', \n",
    "                 attr='Tiles &copy; Esri &mdash; Esri, DeLorme, NAVTEQ', \n",
    "                 name='Tract Base').add_to(dallas_pop_income_layer)\n",
    "dallas_tract_popup_layer1=folium.GeoJson(dallas_gym_park_counts_merge_gjson, \n",
    "       style_function = lambda feature: {\n",
    "           'color': 'black',\n",
    "           'weight': .35, \n",
    "           'fillColor': 'white',\n",
    "           'fillOpacity': 0}, \n",
    "       highlight_function=lambda x: {\n",
    "            'color': 'black',\n",
    "            'weight': 2,\n",
    "            'lineOpacity': .8,\n",
    "            'fillColor': 'grey',\n",
    "            'fillOpacity': .25},\n",
    "       tooltip = folium.GeoJsonTooltip(fields=('Tract Area Name', \n",
    "                                               'Tract Per Capita Income - 12 Months',\n",
    "                                               'Pop Density per sq km',\n",
    "                                               'Number of Parks',\n",
    "                                               'Number of Gyms',\n",
    "                                               'Tract Percentage White',\n",
    "                                               'Tract Percentage Black or African American',\n",
    "                                               'Tract Percentage Asian',\n",
    "                                               'Tract Percentage American Indian and Alaskan Native',\n",
    "                                               'Tract Percentage Other Race'),\n",
    "                                       aliases=('Census Tract (#, County Name, State):',\n",
    "                                                'Tract Income (2019 Inflation Adjusted USD):',\n",
    "                                                'Tract Population Density (/sq km):',\n",
    "                                                'Number of Parks:',\n",
    "                                                'Number of Gyms:',\n",
    "                                                'Population % White:',\n",
    "                                                'Population % Black/African American:',\n",
    "                                                'Population % Asian:',\n",
    "                                                'Population % American Indian',\n",
    "                                                'Population % Other'),\n",
    "                                       sticky=True,\n",
    "                                       localize=True),\n",
    "       show = True,\n",
    "       overlay = False,\n",
    "       zoom_on_click = True).add_to(dallas_pop_income_layer)\n",
    "dallas_pop_income_layer.add_to(final_dallas_map)\n",
    "\n",
    "\n",
    "#Tract Population Density Color Scale Layer\n",
    "dallas_population_layer=folium.GeoJson(dallas_gym_park_counts_merge_gjson, \n",
    "       name='Population Density', \n",
    "       style_function = lambda feature: {\n",
    "           'color': 'black',\n",
    "           'weight': 0, \n",
    "           'fillColor': dallastractpopulationcolors(feature['properties']['Pop Density per sq km']), \n",
    "           'fillOpacity': .5,\n",
    "           'highlight': True}, \n",
    "       overlay = False\n",
    "        )\n",
    "folium.TileLayer(tiles='https://server.arcgisonline.com/ArcGIS/rest/services/Canvas/World_Light_Gray_Base/MapServer/tile/{z}/{y}/{x}', \n",
    "                 attr='Tiles &copy; Esri &mdash; Esri, DeLorme, NAVTEQ', \n",
    "                 name='Tract Base').add_to(dallas_population_layer)\n",
    "dallas_tract_popup_layer2=folium.GeoJson(dallas_gym_park_counts_merge_gjson, \n",
    "       style_function = lambda feature: {\n",
    "           'color': 'black',\n",
    "           'weight': .35, \n",
    "           'fillColor': 'white',\n",
    "           'fillOpacity': 0}, \n",
    "       highlight_function=lambda x: {\n",
    "            'color': 'black',\n",
    "            'weight': 2,\n",
    "            'lineOpacity': .8,\n",
    "            'fillColor': 'grey',\n",
    "            'fillOpacity': .25},\n",
    "       tooltip = folium.GeoJsonTooltip(fields=('Tract Area Name', \n",
    "                                               'Tract Per Capita Income - 12 Months',\n",
    "                                               'Pop Density per sq km',\n",
    "                                               'Number of Parks',\n",
    "                                               'Number of Gyms',\n",
    "                                               'Tract Percentage White',\n",
    "                                               'Tract Percentage Black or African American',\n",
    "                                               'Tract Percentage Asian',\n",
    "                                               'Tract Percentage American Indian and Alaskan Native',\n",
    "                                               'Tract Percentage Other Race'),\n",
    "                                       aliases=('Census Tract (#, County Name, State):',\n",
    "                                                'Tract Income (2019 Inflation Adjusted USD):',\n",
    "                                                'Tract Population Density (/sq km):',\n",
    "                                                'Number of Parks:',\n",
    "                                                'Number of Gyms:',\n",
    "                                                'Population % White:',\n",
    "                                                'Population % Black/African American:',\n",
    "                                                'Population % Asian:',\n",
    "                                                'Population % American Indian',\n",
    "                                                'Population % Other'),\n",
    "                                       sticky=True,\n",
    "                                       localize=True),\n",
    "       show = True,\n",
    "       overlay = False,\n",
    "       zoom_on_click = True).add_to(dallas_population_layer)\n",
    "dallas_population_layer.add_to(final_dallas_map)\n",
    "\n",
    "\n",
    "#Tract Income Color Scale Layer\n",
    "dallas_income_layer=folium.GeoJson(dallas_gym_park_counts_merge_gjson, \n",
    "       name='Per Capita Income (2019)', \n",
    "       style_function = lambda feature: {\n",
    "           'color': 'black',\n",
    "           'weight': 0, \n",
    "           'fillColor': dallastractincomecolors(feature['properties']['Tract Per Capita Income - 12 Months']), \n",
    "           'fillOpacity': .5,\n",
    "           'highlight': True}, \n",
    "       overlay = False\n",
    "        )\n",
    "folium.TileLayer(tiles='https://server.arcgisonline.com/ArcGIS/rest/services/Canvas/World_Light_Gray_Base/MapServer/tile/{z}/{y}/{x}', \n",
    "                 attr='Tiles &copy; Esri &mdash; Esri, DeLorme, NAVTEQ', \n",
    "                 name='Tract Base').add_to(dallas_income_layer)\n",
    "dallas_tract_popup_layer3=folium.GeoJson(dallas_gym_park_counts_merge_gjson,  \n",
    "       style_function = lambda feature: {\n",
    "           'color': 'black',\n",
    "           'weight': .35, \n",
    "           'fillColor': 'white',\n",
    "           'fillOpacity': 0}, \n",
    "       highlight_function=lambda x: {\n",
    "            'color': 'black',\n",
    "            'weight': 2,\n",
    "            'lineOpacity': .8,\n",
    "            'fillColor': 'grey',\n",
    "            'fillOpacity': .25},\n",
    "       tooltip = folium.GeoJsonTooltip(fields=('Tract Area Name', \n",
    "                                               'Tract Per Capita Income - 12 Months',\n",
    "                                               'Pop Density per sq km',\n",
    "                                               'Number of Parks',\n",
    "                                               'Number of Gyms',\n",
    "                                               'Tract Percentage White',\n",
    "                                               'Tract Percentage Black or African American',\n",
    "                                               'Tract Percentage Asian',\n",
    "                                               'Tract Percentage American Indian and Alaskan Native',\n",
    "                                               'Tract Percentage Other Race'),\n",
    "                                       aliases=('Census Tract (#, County Name, State):',\n",
    "                                                'Tract Income (2019 Inflation Adjusted USD):',\n",
    "                                                'Tract Population Density (/sq km):',\n",
    "                                                'Number of Parks:',\n",
    "                                                'Number of Gyms:',\n",
    "                                                'Population % White:',\n",
    "                                                'Population % Black/African American:',\n",
    "                                                'Population % Asian:',\n",
    "                                                'Population % American Indian',\n",
    "                                                'Population % Other'),\n",
    "                                       sticky=True,\n",
    "                                       localize=True),\n",
    "       show = True,\n",
    "       overlay = False,\n",
    "       zoom_on_click = True).add_to(dallas_income_layer)\n",
    "dallas_income_layer.add_to(final_dallas_map)\n",
    "\n",
    "\n",
    "#County Outline Layer\n",
    "dallas_county_outline_layer=folium.GeoJson(dallas_join_county_4326_gjson, \n",
    "       name='Surrounding Counties (Purple Outlines)', \n",
    "       style_function = lambda feature: {\n",
    "           'color': 'purple',\n",
    "           'weight': 2, \n",
    "           'fillOpacity': 0,\n",
    "           'interactive': False\n",
    "       },\n",
    "       show=False\n",
    "       ).add_to(final_dallas_map)\n",
    "\n",
    "#City Outline Layer\n",
    "dallas_city_outline_layer=folium.GeoJson(dallas_join_place_4326_gjson, \n",
    "       name='Dallas City Limits (Blue Outline)', \n",
    "       style_function = lambda feature: {\n",
    "           'color': 'blue',\n",
    "           'weight': 2, \n",
    "           'fillOpacity': 0,\n",
    "           'interactive': False\n",
    "       },\n",
    "       show=False\n",
    "       ).add_to(final_dallas_map)\n",
    "\n",
    "#Add Foursquare gym results as markers\n",
    "dallas_gym_markers = folium.FeatureGroup(name='Gym Locations (Yellow Dots)', overlay=True, control=True, show=False)\n",
    "for lat, lng, label in zip(dallas_gym_filtered.lat, dallas_gym_filtered.lng, dallas_gym_filtered.name):\n",
    "    folium.CircleMarker(\n",
    "        [lat, lng],\n",
    "        radius=4,\n",
    "        color='gray',\n",
    "        weight=1,\n",
    "        popup=label,\n",
    "        fill = True,\n",
    "        fill_color='yellow',\n",
    "        fill_opacity=0.8\n",
    "    ).add_to(dallas_gym_markers)\n",
    "dallas_gym_markers.add_to(final_dallas_map)\n",
    "\n",
    "#Add Foursquare gym results as markers\n",
    "dallas_park_markers = folium.FeatureGroup(name='Park Locations (Blue Dots)', overlay=True, control=True, show=False)\n",
    "for lat, lng, label in zip(dallas_park_filtered.lat, dallas_park_filtered.lng, dallas_park_filtered.name):\n",
    "    folium.CircleMarker(\n",
    "        [lat, lng],\n",
    "        radius=4,\n",
    "        color='gray',\n",
    "        weight=1,\n",
    "        popup=label,\n",
    "        fill = True,\n",
    "        fill_color='blue',\n",
    "        fill_opacity=0.8,\n",
    "    ).add_to(dallas_park_markers)\n",
    "dallas_park_markers.add_to(final_dallas_map)\n",
    "\n",
    "\n",
    "#Add Color Scales\n",
    "dallastractincomecolors.add_to(final_dallas_map)\n",
    "dallastractpopulationcolors.add_to(final_dallas_map)\n",
    "\n",
    "\n",
    "#Set order of layers\n",
    "final_dallas_map.keep_in_front(dallas_tract_popup_layer,\n",
    "                               dallas_population_layer,\n",
    "                               dallas_income_layer,\n",
    "                               dallas_pop_income_layer,\n",
    "                               dallas_city_outline_layer,\n",
    "                               dallas_county_outline_layer,\n",
    "                               dallas_gym_markers,\n",
    "                               dallas_park_markers\n",
    "                               )\n",
    "\n",
    "#Add layer control\n",
    "folium.LayerControl(position = 'topleft',\n",
    "                    collapsed = False,\n",
    "                    autoZIndex = True).add_to(final_dallas_map)\n",
    "\n",
    "final_dallas_map"
   ]
  },
  {
   "cell_type": "code",
   "execution_count": null,
   "id": "initial-accountability",
   "metadata": {},
   "outputs": [],
   "source": [
    "final_dallas_map.save('Dallas_Map.html')"
   ]
  },
  {
   "cell_type": "code",
   "execution_count": null,
   "id": "coated-sally",
   "metadata": {},
   "outputs": [],
   "source": [
    "#Create map centered on Dallas\n",
    "dallas_park_cluster_map = folium.Map(location=[32.8033334, -96.8665128],\n",
    "                   tiles=None, height=700, width=1000, zoom_start=10)\n",
    "\n",
    "#Clean Tract Outline Layer\n",
    "dallas_tract_popup_layer=folium.GeoJson(dallas_gym_park_counts_merge_gjson, \n",
    "       name = 'Simple Tract Outlines',\n",
    "       style_function = lambda feature: {\n",
    "           'color': 'black',\n",
    "           'weight': .35, \n",
    "           'lineOpacity': 1,\n",
    "           'fillColor': 'lightgrey',\n",
    "           'fillOpacity': .8}, \n",
    "       show = True,\n",
    "       overlay = False)\n",
    "folium.TileLayer(tiles='https://server.arcgisonline.com/ArcGIS/rest/services/Canvas/World_Light_Gray_Base/MapServer/tile/{z}/{y}/{x}', \n",
    "                 attr='Tiles &copy; Esri &mdash; Esri, DeLorme, NAVTEQ', \n",
    "                 name='Tract Base').add_to(dallas_tract_popup_layer)\n",
    "dallas_park_cluster1 = plugins.MarkerCluster(name='Park Clusters',\n",
    "                                            options={'showCoverageOnHover': True,\n",
    "                                                     'zoomToBoundsOnClick': True,\n",
    "                                                     'disableClusteringAtZoom': 15,\n",
    "                                                     'removeOutsideVisibleBounds': True,\n",
    "                                                     'spiderfyOnMaxZoom': False},\n",
    "                                            show=False)\n",
    "for lat, lng, label in zip(dallas_park_filtered.lat, dallas_park_filtered.lng, dallas_park_filtered.name):\n",
    "    folium.Marker(\n",
    "        location=[lat, lng],\n",
    "        icon=folium.Icon(color='green', icon_color='white', icon='tree', prefix='fa'),\n",
    "        popup=label,\n",
    "    ).add_to(dallas_park_cluster1)\n",
    "dallas_park_cluster1.add_to(dallas_tract_popup_layer)\n",
    "dallas_tract_popup_layer.add_to(dallas_park_cluster_map)\n",
    "\n",
    "#Tract Income & Population Density Combined\n",
    "dallas_pop_income_layer=folium.GeoJson(dallas_gym_park_counts_merge_gjson, \n",
    "       name='Per Capita Income & Population Density', \n",
    "       style_function = lambda feature: {\n",
    "           'color': 'black',\n",
    "           'weight': 0, \n",
    "           'fillColor': dallastractpopulationcolors(feature['properties']['Pop Density per sq km']), \n",
    "           'fillOpacity': .5,\n",
    "           'highlight': True}, \n",
    "       overlay = False,\n",
    "       show = True\n",
    "        )\n",
    "folium.GeoJson(dallas_gym_park_counts_merge_gjson, \n",
    "       style_function = lambda feature: {\n",
    "           'color': 'black',\n",
    "           'weight': .35, \n",
    "           'fillColor': dallastractincomecolors(feature['properties']['Tract Per Capita Income - 12 Months']), \n",
    "           'fillOpacity': .5,\n",
    "           'highlight': True}, \n",
    "       overlay = False\n",
    "        ).add_to(dallas_pop_income_layer)\n",
    "folium.TileLayer(tiles='https://server.arcgisonline.com/ArcGIS/rest/services/Canvas/World_Light_Gray_Base/MapServer/tile/{z}/{y}/{x}', \n",
    "                 attr='Tiles &copy; Esri &mdash; Esri, DeLorme, NAVTEQ', \n",
    "                 name='Tract Base').add_to(dallas_pop_income_layer)\n",
    "dallas_park_cluster2 = plugins.MarkerCluster(name='Park Clusters',\n",
    "                                            options={'showCoverageOnHover': True,\n",
    "                                                     'zoomToBoundsOnClick': True,\n",
    "                                                     'disableClusteringAtZoom': 15,\n",
    "                                                     'removeOutsideVisibleBounds': True,\n",
    "                                                     'spiderfyOnMaxZoom': False},\n",
    "                                            show=False)\n",
    "for lat, lng, label in zip(dallas_park_filtered.lat, dallas_park_filtered.lng, dallas_park_filtered.name):\n",
    "    folium.Marker(\n",
    "        location=[lat, lng],\n",
    "        icon=folium.Icon(color='green', icon_color='white', icon='tree', prefix='fa'),\n",
    "        popup=label,\n",
    "    ).add_to(dallas_park_cluster2)\n",
    "dallas_park_cluster2.add_to(dallas_pop_income_layer)\n",
    "dallas_pop_income_layer.add_to(dallas_park_cluster_map)\n",
    "\n",
    "\n",
    "#Tract Population Density Color Scale Layer\n",
    "dallas_population_layer=folium.GeoJson(dallas_gym_park_counts_merge_gjson, \n",
    "       name='Population Density', \n",
    "       style_function = lambda feature: {\n",
    "           'color': 'black',\n",
    "           'weight': .35, \n",
    "           'fillColor': dallastractpopulationcolors(feature['properties']['Pop Density per sq km']), \n",
    "           'fillOpacity': .5,\n",
    "           'highlight': True}, \n",
    "       overlay = False\n",
    "        )\n",
    "folium.TileLayer(tiles='https://server.arcgisonline.com/ArcGIS/rest/services/Canvas/World_Light_Gray_Base/MapServer/tile/{z}/{y}/{x}', \n",
    "                 attr='Tiles &copy; Esri &mdash; Esri, DeLorme, NAVTEQ', \n",
    "                 name='Tract Base').add_to(dallas_population_layer)\n",
    "dallas_park_cluster3 = plugins.MarkerCluster(name='Park Clusters',\n",
    "                                            options={'showCoverageOnHover': True,\n",
    "                                                     'zoomToBoundsOnClick': True,\n",
    "                                                     'disableClusteringAtZoom': 15,\n",
    "                                                     'removeOutsideVisibleBounds': True,\n",
    "                                                     'spiderfyOnMaxZoom': False},\n",
    "                                            show=False)\n",
    "for lat, lng, label in zip(dallas_park_filtered.lat, dallas_park_filtered.lng, dallas_park_filtered.name):\n",
    "    folium.Marker(\n",
    "        location=[lat, lng],\n",
    "        icon=folium.Icon(color='green', icon_color='white', icon='tree', prefix='fa'),\n",
    "        popup=label,\n",
    "    ).add_to(dallas_park_cluster3)\n",
    "dallas_park_cluster3.add_to(dallas_population_layer)\n",
    "dallas_population_layer.add_to(dallas_park_cluster_map)\n",
    "\n",
    "\n",
    "#Tract Income Color Scale Layer\n",
    "dallas_income_layer=folium.GeoJson(dallas_gym_park_counts_merge_gjson, \n",
    "       name='Per Capita Income (2019)', \n",
    "       style_function = lambda feature: {\n",
    "           'color': 'black',\n",
    "           'weight': .35, \n",
    "           'fillColor': dallastractincomecolors(feature['properties']['Tract Per Capita Income - 12 Months']), \n",
    "           'fillOpacity': .5,\n",
    "           'highlight': True}, \n",
    "       overlay = False\n",
    "        )\n",
    "folium.TileLayer(tiles='https://server.arcgisonline.com/ArcGIS/rest/services/Canvas/World_Light_Gray_Base/MapServer/tile/{z}/{y}/{x}', \n",
    "                 attr='Tiles &copy; Esri &mdash; Esri, DeLorme, NAVTEQ', \n",
    "                 name='Tract Base').add_to(dallas_income_layer)\n",
    "dallas_park_cluster4 = plugins.MarkerCluster(name='Park Clusters',\n",
    "                                            options={'showCoverageOnHover': True,\n",
    "                                                     'zoomToBoundsOnClick': True,\n",
    "                                                     'disableClusteringAtZoom': 15,\n",
    "                                                     'removeOutsideVisibleBounds': True,\n",
    "                                                     'spiderfyOnMaxZoom': False},\n",
    "                                            show=False)\n",
    "for lat, lng, label in zip(dallas_park_filtered.lat, dallas_park_filtered.lng, dallas_park_filtered.name):\n",
    "    folium.Marker(\n",
    "        location=[lat, lng],\n",
    "        icon=folium.Icon(color='green', icon_color='white', icon='tree', prefix='fa'),\n",
    "        popup=label,\n",
    "    ).add_to(dallas_park_cluster4)\n",
    "dallas_park_cluster4.add_to(dallas_income_layer)\n",
    "dallas_income_layer.add_to(dallas_park_cluster_map)\n",
    "\n",
    "\n",
    "#County Outline Layer\n",
    "dallas_county_outline_layer=folium.GeoJson(dallas_join_county_4326_gjson, \n",
    "       name='Surrounding Counties (Purple Outlines)', \n",
    "       style_function = lambda feature: {\n",
    "           'color': 'purple',\n",
    "           'weight': 2, \n",
    "           'fillOpacity': 0,\n",
    "           'interactive': False\n",
    "       },\n",
    "       show=False\n",
    "       ).add_to(dallas_park_cluster_map)\n",
    "\n",
    "#City Outline Layer\n",
    "dallas_city_outline_layer=folium.GeoJson(dallas_join_place_4326_gjson, \n",
    "       name='Dallas City Limits (Blue Outline)', \n",
    "       style_function = lambda feature: {\n",
    "           'color': 'blue',\n",
    "           'weight': 2, \n",
    "           'fillOpacity': 0,\n",
    "           'interactive': False\n",
    "       },\n",
    "       show=False\n",
    "       ).add_to(dallas_park_cluster_map)\n",
    "\n",
    "\n",
    "#Add Color Scales\n",
    "dallastractincomecolors.add_to(dallas_park_cluster_map)\n",
    "dallastractpopulationcolors.add_to(dallas_park_cluster_map)\n",
    "\n",
    "\n",
    "#Set items to stay in front\n",
    "dallas_park_cluster_map.keep_in_front(dallas_tract_popup_layer,\n",
    "                                      dallas_population_layer,\n",
    "                                      dallas_income_layer,\n",
    "                                      dallas_pop_income_layer,\n",
    "                                      dallas_city_outline_layer,\n",
    "                                      dallas_county_outline_layer\n",
    "                                      )\n",
    "\n",
    "#Add layer control\n",
    "folium.LayerControl(position = 'topleft',\n",
    "                    collapsed = False).add_to(dallas_park_cluster_map)\n",
    "\n",
    "dallas_park_cluster_map"
   ]
  },
  {
   "cell_type": "code",
   "execution_count": null,
   "id": "local-gateway",
   "metadata": {},
   "outputs": [],
   "source": [
    "dallas_park_cluster_map.save('Dallas_Park_Cluster.html')"
   ]
  },
  {
   "cell_type": "code",
   "execution_count": null,
   "id": "planned-anxiety",
   "metadata": {
    "scrolled": true
   },
   "outputs": [],
   "source": [
    "#Create map centered on Dallas\n",
    "dallas_gym_cluster_map = folium.Map(location=[32.8033334, -96.8665128],\n",
    "                   tiles=None, height=700, width=1000, zoom_start=10)\n",
    "\n",
    "#Clean Tract Outline Layer\n",
    "dallas_tract_popup_layer=folium.GeoJson(dallas_gym_park_counts_merge_gjson, \n",
    "       name = 'Simple Tract Outlines',\n",
    "       style_function = lambda feature: {\n",
    "           'color': 'black',\n",
    "           'weight': .35, \n",
    "           'lineOpacity': 1,\n",
    "           'fillColor': 'lightgrey',\n",
    "           'fillOpacity': .8}, \n",
    "       show = True,\n",
    "       overlay = False)\n",
    "folium.TileLayer(tiles='https://server.arcgisonline.com/ArcGIS/rest/services/Canvas/World_Light_Gray_Base/MapServer/tile/{z}/{y}/{x}', \n",
    "                 attr='Tiles &copy; Esri &mdash; Esri, DeLorme, NAVTEQ', \n",
    "                 name='Tract Base').add_to(dallas_tract_popup_layer)\n",
    "dallas_gym_cluster1 = plugins.MarkerCluster(name='Gym Clusters',\n",
    "                                            options={'showCoverageOnHover': True,\n",
    "                                                     'zoomToBoundsOnClick': True,\n",
    "                                                     'disableClusteringAtZoom': 15,\n",
    "                                                     'removeOutsideVisibleBounds': True,\n",
    "                                                     'spiderfyOnMaxZoom': False},\n",
    "                                            show=False)\n",
    "for lat, lng, label in zip(dallas_gym_filtered.lat, dallas_gym_filtered.lng, dallas_gym_filtered.name):\n",
    "    folium.Marker(\n",
    "        location=[lat, lng],\n",
    "        icon=folium.Icon(color='white', icon_color='red', icon='heartbeat', prefix='fa'),\n",
    "        popup=label,\n",
    "    ).add_to(dallas_gym_cluster1)\n",
    "dallas_gym_cluster1.add_to(dallas_tract_popup_layer)\n",
    "dallas_tract_popup_layer.add_to(dallas_gym_cluster_map)\n",
    "\n",
    "#Tract Income & Population Density Combined\n",
    "dallas_pop_income_layer=folium.GeoJson(dallas_gym_park_counts_merge_gjson, \n",
    "       name='Per Capita Income & Population Density', \n",
    "       style_function = lambda feature: {\n",
    "           'color': 'black',\n",
    "           'weight': 0, \n",
    "           'fillColor': dallastractpopulationcolors(feature['properties']['Pop Density per sq km']), \n",
    "           'fillOpacity': .5,\n",
    "           'highlight': True}, \n",
    "       overlay = False,\n",
    "       show = True\n",
    "        )\n",
    "folium.GeoJson(dallas_gym_park_counts_merge_gjson, \n",
    "       style_function = lambda feature: {\n",
    "           'color': 'black',\n",
    "           'weight': .35, \n",
    "           'fillColor': dallastractincomecolors(feature['properties']['Tract Per Capita Income - 12 Months']), \n",
    "           'fillOpacity': .5,\n",
    "           'highlight': True}, \n",
    "       overlay = False\n",
    "        ).add_to(dallas_pop_income_layer)\n",
    "folium.TileLayer(tiles='https://server.arcgisonline.com/ArcGIS/rest/services/Canvas/World_Light_Gray_Base/MapServer/tile/{z}/{y}/{x}', \n",
    "                 attr='Tiles &copy; Esri &mdash; Esri, DeLorme, NAVTEQ', \n",
    "                 name='Tract Base').add_to(dallas_pop_income_layer)\n",
    "dallas_gym_cluster2 = plugins.MarkerCluster(name='Gym Clusters',\n",
    "                                            options={'showCoverageOnHover': True,\n",
    "                                                     'zoomToBoundsOnClick': True,\n",
    "                                                     'disableClusteringAtZoom': 15,\n",
    "                                                     'removeOutsideVisibleBounds': True,\n",
    "                                                     'spiderfyOnMaxZoom': False},\n",
    "                                            show=False)\n",
    "for lat, lng, label in zip(dallas_gym_filtered.lat, dallas_gym_filtered.lng, dallas_gym_filtered.name):\n",
    "    folium.Marker(\n",
    "        location=[lat, lng],\n",
    "        icon=folium.Icon(color='white', icon_color='red', icon='heartbeat', prefix='fa'),\n",
    "        popup=label,\n",
    "    ).add_to(dallas_gym_cluster2)\n",
    "dallas_gym_cluster2.add_to(dallas_pop_income_layer)\n",
    "dallas_pop_income_layer.add_to(dallas_gym_cluster_map)\n",
    "\n",
    "\n",
    "#Tract Population Density Color Scale Layer\n",
    "dallas_population_layer=folium.GeoJson(dallas_gym_park_counts_merge_gjson, \n",
    "       name='Population Density', \n",
    "       style_function = lambda feature: {\n",
    "           'color': 'black',\n",
    "           'weight': .35, \n",
    "           'fillColor': dallastractpopulationcolors(feature['properties']['Pop Density per sq km']), \n",
    "           'fillOpacity': .5,\n",
    "           'highlight': True}, \n",
    "       overlay = False\n",
    "        )\n",
    "folium.TileLayer(tiles='https://server.arcgisonline.com/ArcGIS/rest/services/Canvas/World_Light_Gray_Base/MapServer/tile/{z}/{y}/{x}', \n",
    "                 attr='Tiles &copy; Esri &mdash; Esri, DeLorme, NAVTEQ', \n",
    "                 name='Tract Base').add_to(dallas_population_layer)\n",
    "dallas_gym_cluster3 = plugins.MarkerCluster(name='Gym Clusters',\n",
    "                                            options={'showCoverageOnHover': True,\n",
    "                                                     'zoomToBoundsOnClick': True,\n",
    "                                                     'disableClusteringAtZoom': 15,\n",
    "                                                     'removeOutsideVisibleBounds': True,\n",
    "                                                     'spiderfyOnMaxZoom': False},\n",
    "                                            show=False)\n",
    "for lat, lng, label in zip(dallas_gym_filtered.lat, dallas_gym_filtered.lng, dallas_gym_filtered.name):\n",
    "    folium.Marker(\n",
    "        location=[lat, lng],\n",
    "        icon=folium.Icon(color='white', icon_color='red', icon='heartbeat', prefix='fa'),\n",
    "        popup=label,\n",
    "    ).add_to(dallas_gym_cluster3)\n",
    "dallas_gym_cluster3.add_to(dallas_population_layer)\n",
    "dallas_population_layer.add_to(dallas_gym_cluster_map)\n",
    "\n",
    "\n",
    "#Tract Income Color Scale Layer\n",
    "dallas_income_layer=folium.GeoJson(dallas_gym_park_counts_merge_gjson, \n",
    "       name='Per Capita Income (2019)', \n",
    "       style_function = lambda feature: {\n",
    "           'color': 'black',\n",
    "           'weight': .35, \n",
    "           'fillColor': dallastractincomecolors(feature['properties']['Tract Per Capita Income - 12 Months']), \n",
    "           'fillOpacity': .5,\n",
    "           'highlight': True}, \n",
    "       overlay = False\n",
    "        )\n",
    "folium.TileLayer(tiles='https://server.arcgisonline.com/ArcGIS/rest/services/Canvas/World_Light_Gray_Base/MapServer/tile/{z}/{y}/{x}', \n",
    "                 attr='Tiles &copy; Esri &mdash; Esri, DeLorme, NAVTEQ', \n",
    "                 name='Tract Base').add_to(dallas_income_layer)\n",
    "dallas_gym_cluster4 = plugins.MarkerCluster(name='Gym Clusters',\n",
    "                                            options={'showCoverageOnHover': True,\n",
    "                                                     'zoomToBoundsOnClick': True,\n",
    "                                                     'disableClusteringAtZoom': 15,\n",
    "                                                     'removeOutsideVisibleBounds': True,\n",
    "                                                     'spiderfyOnMaxZoom': False},\n",
    "                                            show=False)\n",
    "for lat, lng, label in zip(dallas_gym_filtered.lat, dallas_gym_filtered.lng, dallas_gym_filtered.name):\n",
    "    folium.Marker(\n",
    "        location=[lat, lng],\n",
    "        icon=folium.Icon(color='white', icon_color='red', icon='heartbeat', prefix='fa'),\n",
    "        popup=label,\n",
    "    ).add_to(dallas_gym_cluster4)\n",
    "dallas_gym_cluster4.add_to(dallas_income_layer)\n",
    "dallas_income_layer.add_to(dallas_gym_cluster_map)\n",
    "\n",
    "\n",
    "#County Outline Layer\n",
    "dallas_county_outline_layer=folium.GeoJson(dallas_join_county_4326_gjson, \n",
    "       name='Surrounding Counties (Purple Outlines)', \n",
    "       style_function = lambda feature: {\n",
    "           'color': 'purple',\n",
    "           'weight': 2, \n",
    "           'fillOpacity': 0,\n",
    "           'interactive': False\n",
    "       },\n",
    "       show=False\n",
    "       ).add_to(dallas_gym_cluster_map)\n",
    "\n",
    "#City Outline Layer\n",
    "dallas_city_outline_layer=folium.GeoJson(dallas_join_place_4326_gjson, \n",
    "       name='Dallas City Limits (Blue Outline)', \n",
    "       style_function = lambda feature: {\n",
    "           'color': 'blue',\n",
    "           'weight': 2, \n",
    "           'fillOpacity': 0,\n",
    "           'interactive': False\n",
    "       },\n",
    "       show=False\n",
    "       ).add_to(dallas_gym_cluster_map)\n",
    "\n",
    "\n",
    "#Add Color Scales\n",
    "dallastractincomecolors.add_to(dallas_gym_cluster_map)\n",
    "dallastractpopulationcolors.add_to(dallas_gym_cluster_map)\n",
    "\n",
    "\n",
    "#Set items to stay in front\n",
    "dallas_gym_cluster_map.keep_in_front(dallas_tract_popup_layer,\n",
    "                                     dallas_population_layer,\n",
    "                                     dallas_income_layer,\n",
    "                                     dallas_pop_income_layer,\n",
    "                                     dallas_city_outline_layer,\n",
    "                                     dallas_county_outline_layer\n",
    "                                     )\n",
    "\n",
    "#Add layer control\n",
    "folium.LayerControl(position = 'topleft',\n",
    "                    collapsed = False).add_to(dallas_gym_cluster_map)\n",
    "\n",
    "dallas_gym_cluster_map"
   ]
  },
  {
   "cell_type": "code",
   "execution_count": null,
   "id": "changed-essay",
   "metadata": {},
   "outputs": [],
   "source": [
    "dallas_gym_cluster_map.save('Dallas_Gym_Cluster.html')"
   ]
  },
  {
   "cell_type": "markdown",
   "id": "informed-birth",
   "metadata": {},
   "source": [
    "##### FourSquare Added in"
   ]
  },
  {
   "cell_type": "code",
   "execution_count": null,
   "id": "civil-bracket",
   "metadata": {
    "scrolled": true
   },
   "outputs": [],
   "source": [
    "#Create map centered on Dallas\n",
    "dallas_FS_map = folium.Map(location=[32.8033334, -96.8665128],\n",
    "                   tiles=None, height=700, width=1000, zoom_start=10)\n",
    "#Simple Tract Outline\n",
    "dallas_tract_popup_layer=folium.GeoJson(dallas_join_tract_4326_gjson, \n",
    "       name='Dallas Tract Layer', \n",
    "       style_function = lambda feature: {\n",
    "           'color': 'black',\n",
    "           'weight': .35, \n",
    "           'fillColor': 'white',\n",
    "           'fillOpacity': 0}, \n",
    "       show = True,\n",
    "       control = False).add_to(dallas_FS_map)\n",
    "\n",
    "#County Outline Layer\n",
    "dallas_county_outline_layer=folium.GeoJson(dallas_join_county_4326_gjson, \n",
    "       name='Surrounding Counties (Purple Outlines)', \n",
    "       style_function = lambda feature: {\n",
    "           'color': 'purple',\n",
    "           'weight': 2, \n",
    "           'fillOpacity': 0,\n",
    "           'interactive': False\n",
    "       },\n",
    "       show=False\n",
    "       ).add_to(dallas_FS_map)\n",
    "\n",
    "#City Outline Layer\n",
    "dallas_city_outline_layer=folium.GeoJson(dallas_join_place_4326_gjson, \n",
    "       name='Dallas City Limits (Blue Outline)', \n",
    "       style_function = lambda feature: {\n",
    "           'color': 'blue',\n",
    "           'weight': 2, \n",
    "           'fillOpacity': 0,\n",
    "           'interactive': False\n",
    "       },\n",
    "       show=True\n",
    "       ).add_to(dallas_FS_map)\n",
    "\n",
    "\n",
    "#Add Foursquare gym search areas\n",
    "dallas_search_radius = folium.FeatureGroup(name='Search Radius', overlay=False, control=True, show=True)\n",
    "for lat, lng, rad in zip(FS_dallas['Tract Center Lat'], FS_dallas['Tract Center Long'], FS_dallas['Radius']):\n",
    "    folium.Circle(\n",
    "        [lat, lng],\n",
    "        radius=rad,\n",
    "        color='red',\n",
    "        stroke=0.5,\n",
    "        opacity=0.25,\n",
    "        fill = True,\n",
    "        fill_color='red',\n",
    "        fill_opacity=0.5\n",
    "    ).add_to(dallas_search_radius)\n",
    "\n",
    "folium.TileLayer(tiles='https://server.arcgisonline.com/ArcGIS/rest/services/Canvas/World_Light_Gray_Base/MapServer/tile/{z}/{y}/{x}', \n",
    "                 attr='Tiles &copy; Esri &mdash; Esri, DeLorme, NAVTEQ', \n",
    "                 name='Tract Base').add_to(dallas_search_radius)\n",
    "\n",
    "dallas_search_radius.add_to(dallas_FS_map)\n",
    "\n",
    "\n",
    "#Set items to stay in front\n",
    "dallas_FS_map.keep_in_front(dallas_search_radius, dallas_tract_popup_layer, dallas_county_outline_layer, dallas_city_outline_layer)\n",
    "\n",
    "#Add layer control\n",
    "folium.LayerControl(position = 'topleft',\n",
    "                    collapsed = False).add_to(dallas_FS_map)\n",
    "\n",
    "dallas_FS_map"
   ]
  },
  {
   "cell_type": "code",
   "execution_count": null,
   "id": "tough-hampshire",
   "metadata": {},
   "outputs": [],
   "source": [
    "dallas_FS_map.save('Dallas_Search_Radius.html')"
   ]
  },
  {
   "cell_type": "code",
   "execution_count": null,
   "id": "responsible-airfare",
   "metadata": {},
   "outputs": [],
   "source": [
    "#import matplotlib.pyplot as plt\n",
    "## Pie chart\n",
    "#races = ['Population % White',\n",
    "#         'Population % Black or African American',\n",
    "#         'Population % Asian',\n",
    "#         'Population % American Indian and Alaskan Native',\n",
    "#         'Population % Other Race']\n",
    "#sizes = [dallas_gym_park_counts_merge_gjson['Tract Percentage White'],\n",
    "#         dallas_gym_park_counts_merge_gjson['Tract Percentage Black or African American'],\n",
    "#         dallas_gym_park_counts_merge_gjson['Tract Percentage Asian'],\n",
    "#         dallas_gym_park_counts_merge_gjson['Tract Percentage American Indian and Alaskan Native'],\n",
    "#         dallas_gym_park_counts_merge_gjson['Tract Percentage Other Race']]\n",
    "##colors\n",
    "#colors = ['#ff9999','#66b3ff','#99ff99','#ffcc99','#ffb3e6']\n",
    "##explsion\n",
    "#explode = (0.05,0.05,0.05,0.05,0.05)\n",
    " \n",
    "#plot.pie(sizes, colors = colors, labels=races, autopct='%1.1f%%', startangle=90, pctdistance=0.85, explode = explode)\n",
    "##draw circle\n",
    "#centre_circle = plt.Circle((0,0),0.70,fc='white')\n",
    "#fig = plt.gcf()\n",
    "#fig.gca().add_artist(centre_circle)\n",
    "## Equal aspect ratio ensures that pie is drawn as a circle\n",
    "#ax1.axis('equal')  \n",
    "#plt.tight_layout()\n",
    "#plt.show()"
   ]
  },
  {
   "cell_type": "code",
   "execution_count": null,
   "id": "clear-saver",
   "metadata": {},
   "outputs": [],
   "source": [
    "#DALLAS_FS1 = %sql select * from DALLAS_FS1; \n",
    "#dallas_fs_test = DALLAS_FS1.DataFrame()\n",
    "#dallas_fs_test.head()"
   ]
  },
  {
   "cell_type": "code",
   "execution_count": null,
   "id": "apart-board",
   "metadata": {},
   "outputs": [],
   "source": [
    "#dallas_fs_test['location_lat'] = pd.to_numeric(dallas_fs_test['location_lat'],errors='coerce')\n",
    "#dallas_fs_test['location_lng'] = pd.to_numeric(dallas_fs_test['location_lng'],errors='coerce')"
   ]
  },
  {
   "cell_type": "code",
   "execution_count": null,
   "id": "recognized-fortune",
   "metadata": {},
   "outputs": [],
   "source": [
    "#geometry = [Point(xy) for xy in zip(dallas_fs_test.location_lng, dallas_fs_test.location_lat)]\n",
    "#dallas_fs_test_clean = dallas_fs_test\n",
    "#dallas_fs_test_clean_gdf = GeoDataFrame(dallas_fs_test_clean, crs=\"EPSG:4326\", geometry=geometry)\n",
    "\n",
    "#dallas_fs_test_intersect = gpd.sjoin(dallas_fs_test_clean_gdf,dallas_place_4326,how='inner',op='within')"
   ]
  },
  {
   "cell_type": "code",
   "execution_count": null,
   "id": "manual-advance",
   "metadata": {},
   "outputs": [],
   "source": [
    "##gym markers\n",
    "#dallasgyms = plugins.MarkerCluster().add_to(dallas_fs_map)\n",
    "\n",
    "## loop through the dataframe and add each data point to the mark cluster\n",
    "#for lat, lng, name, in zip(dallas_fs_test_intersect.location_lat, dallas_fs_test_intersect.location_lng, dallas_fs_test_intersect.name):\n",
    "#    folium.Marker(\n",
    "#        location=[lat, lng],\n",
    "#        icon=None,\n",
    "#        popup=name,\n",
    "#    ).add_to(dallasgyms)"
   ]
  },
  {
   "cell_type": "code",
   "execution_count": null,
   "id": "rubber-phase",
   "metadata": {},
   "outputs": [],
   "source": []
  }
 ],
 "metadata": {
  "kernelspec": {
   "display_name": "Python 3",
   "language": "python",
   "name": "python3"
  },
  "language_info": {
   "codemirror_mode": {
    "name": "ipython",
    "version": 3
   },
   "file_extension": ".py",
   "mimetype": "text/x-python",
   "name": "python",
   "nbconvert_exporter": "python",
   "pygments_lexer": "ipython3",
   "version": "3.9.1"
  }
 },
 "nbformat": 4,
 "nbformat_minor": 5
}
